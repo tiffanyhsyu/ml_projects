{
 "cells": [
  {
   "cell_type": "markdown",
   "metadata": {},
   "source": [
    "# Imports"
   ]
  },
  {
   "cell_type": "code",
   "execution_count": 94,
   "metadata": {},
   "outputs": [],
   "source": [
    "import numpy as np\n",
    "import tensorflow as tf\n",
    "import keras\n",
    "\n",
    "import matplotlib.pyplot as plt"
   ]
  },
  {
   "cell_type": "code",
   "execution_count": null,
   "metadata": {},
   "outputs": [],
   "source": [
    "print ('tensorflow: %s' % tf.__version__)\n",
    "print ('keras: %s' % keras.__version__)"
   ]
  },
  {
   "cell_type": "markdown",
   "metadata": {},
   "source": [
    "# Diabetes in Pimas Indians"
   ]
  },
  {
   "cell_type": "markdown",
   "metadata": {},
   "source": [
    "## Loading our data set"
   ]
  },
  {
   "cell_type": "markdown",
   "metadata": {},
   "source": [
    "Looking at the onset of diabetes in Pimas Indians: https://machinelearningmastery.com/tutorial-first-neural-network-python-keras/"
   ]
  },
  {
   "cell_type": "code",
   "execution_count": 24,
   "metadata": {},
   "outputs": [],
   "source": [
    "# Columns are:\n",
    "# Number of times pregnant\n",
    "# Plasma glucose concentration a 2 hours in an oral glucose tolerance test\n",
    "# Diastolic blood pressure (mm Hg)\n",
    "# Triceps skin fold thickness (mm)\n",
    "# 2-Hour serum insulin (mu U/ml)\n",
    "# Body mass index (weight in kg/(height in m)^2)\n",
    "# Diabetes pedigree function\n",
    "# Age (years)\n",
    "ds = np.loadtxt('pima-indians-diabetes.csv', delimiter=',')"
   ]
  },
  {
   "cell_type": "code",
   "execution_count": 25,
   "metadata": {},
   "outputs": [
    {
     "data": {
      "text/plain": [
       "array([[  6.   , 148.   ,  72.   , ...,   0.627,  50.   ,   1.   ],\n",
       "       [  1.   ,  85.   ,  66.   , ...,   0.351,  31.   ,   0.   ],\n",
       "       [  8.   , 183.   ,  64.   , ...,   0.672,  32.   ,   1.   ],\n",
       "       ...,\n",
       "       [  5.   , 121.   ,  72.   , ...,   0.245,  30.   ,   0.   ],\n",
       "       [  1.   , 126.   ,  60.   , ...,   0.349,  47.   ,   1.   ],\n",
       "       [  1.   ,  93.   ,  70.   , ...,   0.315,  23.   ,   0.   ]])"
      ]
     },
     "execution_count": 25,
     "metadata": {},
     "output_type": "execute_result"
    }
   ],
   "source": [
    "ds"
   ]
  },
  {
   "cell_type": "code",
   "execution_count": 26,
   "metadata": {},
   "outputs": [
    {
     "data": {
      "text/plain": [
       "(768, 9)"
      ]
     },
     "execution_count": 26,
     "metadata": {},
     "output_type": "execute_result"
    }
   ],
   "source": [
    "ds.shape"
   ]
  },
  {
   "cell_type": "code",
   "execution_count": 28,
   "metadata": {},
   "outputs": [],
   "source": [
    "# Right-most column is the desired output\n",
    "X_train = ds[0:700, 0:8]\n",
    "y_train = ds[0:700, 8]\n",
    "\n",
    "X_test = ds[700:, 0:8]\n",
    "y_test = ds[700:, 8]"
   ]
  },
  {
   "cell_type": "markdown",
   "metadata": {},
   "source": [
    "## Defining the Keras model"
   ]
  },
  {
   "cell_type": "markdown",
   "metadata": {},
   "source": [
    "Models in Keras are defined as a sequence of layers. We create a *Sequential model* and add layers one at a time until we are happy with our network architecture.\n",
    "\n",
    "The first thing to get right is to ensure the input layer has the right number of input features. This can be specified when creating the first layer with the **input_dim** argument and setting it to 8 for the 8 input variables.\n",
    "\n",
    "**How do we know the number of layers and their types?**\n",
    "\n",
    "This is a very hard question. There are heuristics that we can use and often the best network structure is found through a process of trial and error experimentation. Generally, you need a network large enough to capture the structure of the problem.\n",
    "\n",
    "In this example, we will use a *fully-connected network structure with three layers*.\n",
    "\n",
    "Fully connected layers are defined using the *Dense class*. We can specify the number of neurons or nodes in the layer as the first argument, and specify the activation function using the **activation** argument.\n",
    "\n",
    "We will use the *rectified linear unit activation function* referred to as ReLU on the first two layers and the Sigmoid function in the output layer.\n",
    "\n",
    "It used to be the case that Sigmoid and Tanh activation functions were preferred for all layers. These days, better performance is achieved using the ReLU activation function. We use a sigmoid on the output layer to ensure our network output is between 0 and 1 and easy to map to either a probability of class 1 or snap to a hard classification of either class with a default threshold of 0.5.\n",
    "\n",
    "We can piece it all together by adding each layer:\n",
    "    * The model expects rows of data with 8 variables (the input_dim=8 argument).\n",
    "    * The first hidden layer has 12 nodes and uses the relu activation function.\n",
    "    * The second hidden layer has 8 nodes and uses the relu activation function.\n",
    "    * The output layer has one node and uses the sigmoid activation function."
   ]
  },
  {
   "cell_type": "code",
   "execution_count": 29,
   "metadata": {},
   "outputs": [],
   "source": [
    "from keras.models import Sequential\n",
    "from keras.layers import Dense\n",
    "\n",
    "# Define the keras model\n",
    "model = Sequential()\n",
    "\n",
    "#  The following line does two things:\n",
    "# (1) defines the input with 8 dimensions, aka the visible layer,\n",
    "# (2) defines the first hidden layer, a ReLU with 12 nodes\n",
    "model.add(Dense(12, input_dim=8, activation='relu'))\n",
    "# Add second hidden layer, a ReLU with 8 nodes\n",
    "model.add(Dense(8, activation='relu'))\n",
    "# Add output layer, a Sigmoid with 1 node\n",
    "model.add(Dense(1, activation='sigmoid'))"
   ]
  },
  {
   "cell_type": "markdown",
   "metadata": {},
   "source": [
    "## Compiling the Keras model"
   ]
  },
  {
   "cell_type": "markdown",
   "metadata": {},
   "source": [
    "Now that the model is defined, we can compile it.\n",
    "\n",
    "Compiling the model uses the efficient numerical libraries under the covers (the so-called backend) such as Theano or TensorFlow. The backend automatically chooses the best way to represent the network for training and making predictions to run on your hardware, such as CPU or GPU or even distributed.\n",
    "\n",
    "When compiling, we must specify some additional properties required when training the network. Remember *training a network means finding the best set of weights to map inputs to outputs in our dataset*.\n",
    "\n",
    "We must specify the **loss function** to use to evaluate a set of weights, the **optimizer** is used to search through different weights for the network and any optional metrics we would like to collect and report during training.\n",
    "\n",
    "In this case, we will use **cross entropy** as the loss argument. This loss is for a binary classification problems and is defined in Keras as “**binary_crossentropy**“. For more on loss functions and how to choose a suitable loss function, see: https://machinelearningmastery.com/loss-and-loss-functions-for-training-deep-learning-neural-networks/.\n",
    "\n",
    "We will define the optimizer as the efficient stochastic gradient descent algorithm “**adam**“. This is a popular version of gradient descent because it automatically tunes itself and gives good results in a wide range of problems. \n",
    "\n",
    "Finally, because it is a classification problem, we will collect and report the classification accuracy, defined via the **metrics** argument."
   ]
  },
  {
   "cell_type": "code",
   "execution_count": 30,
   "metadata": {},
   "outputs": [],
   "source": [
    "# Compile the keras model\n",
    "model.compile(loss='binary_crossentropy', optimizer='adam', metrics=['accuracy'])"
   ]
  },
  {
   "cell_type": "markdown",
   "metadata": {},
   "source": [
    "## Fitting the Keras model"
   ]
  },
  {
   "cell_type": "markdown",
   "metadata": {},
   "source": [
    "We have defined our model and compiled it for efficient computation. Now it's time to execute the model on some data.\n",
    "\n",
    "We can train or fit our model on our loaded data by calling the **fit()** function on the model.\n",
    "\n",
    "Training occurs over epochs and each epoch is split into batches.\n",
    "    * Epoch: One pass through all of the rows in the training dataset.\n",
    "    * Batch: One or more samples considered by the model within an epoch before weights are updated.\n",
    "    \n",
    "One epoch is comprised of one or more batches, based on the chosen batch size and the model is fit for many epochs. \n",
    "\n",
    "The training process will run for a fixed number of iterations through the dataset called epochs, that we must specify using the **epochs** argument. We must also set the number of dataset rows that are considered before the model weights are updated within each epoch, called the batch size and set using the **batch_size** argument.\n",
    "\n",
    "For this problem, we will run for a small number of epochs (150) and use a relatively small batch size of 10.\n",
    "\n",
    "These configurations can be chosen experimentally by trial and error. We want to train the model enough so that it learns a good (or good enough) mapping of rows of input data to the output classification. The model will always have some error, but the amount of error will level out after some point for a given model configuration. This is called model convergence.\n",
    "\n",
    "This is where the work happens on your CPU or GPU. No GPU is required for this example."
   ]
  },
  {
   "cell_type": "code",
   "execution_count": 31,
   "metadata": {},
   "outputs": [
    {
     "name": "stdout",
     "output_type": "stream",
     "text": [
      "Epoch 1/200\n",
      "700/700 [==============================] - 0s 345us/step - loss: 2.8362 - accuracy: 0.4900\n",
      "Epoch 2/200\n",
      "700/700 [==============================] - 0s 163us/step - loss: 0.9115 - accuracy: 0.5714\n",
      "Epoch 3/200\n",
      "700/700 [==============================] - 0s 156us/step - loss: 0.7485 - accuracy: 0.6029\n",
      "Epoch 4/200\n",
      "700/700 [==============================] - 0s 169us/step - loss: 0.7041 - accuracy: 0.6486\n",
      "Epoch 5/200\n",
      "700/700 [==============================] - 0s 240us/step - loss: 0.6729 - accuracy: 0.6543\n",
      "Epoch 6/200\n",
      "700/700 [==============================] - 0s 250us/step - loss: 0.6657 - accuracy: 0.6457\n",
      "Epoch 7/200\n",
      "700/700 [==============================] - 0s 165us/step - loss: 0.6604 - accuracy: 0.6600\n",
      "Epoch 8/200\n",
      "700/700 [==============================] - 0s 148us/step - loss: 0.6638 - accuracy: 0.6657\n",
      "Epoch 9/200\n",
      "700/700 [==============================] - 0s 176us/step - loss: 0.6743 - accuracy: 0.6600\n",
      "Epoch 10/200\n",
      "700/700 [==============================] - 0s 145us/step - loss: 0.6215 - accuracy: 0.6929\n",
      "Epoch 11/200\n",
      "700/700 [==============================] - 0s 140us/step - loss: 0.6173 - accuracy: 0.6857\n",
      "Epoch 12/200\n",
      "700/700 [==============================] - 0s 153us/step - loss: 0.6364 - accuracy: 0.6929\n",
      "Epoch 13/200\n",
      "700/700 [==============================] - 0s 180us/step - loss: 0.6071 - accuracy: 0.6914\n",
      "Epoch 14/200\n",
      "700/700 [==============================] - 0s 144us/step - loss: 0.6023 - accuracy: 0.6829\n",
      "Epoch 15/200\n",
      "700/700 [==============================] - 0s 200us/step - loss: 0.5965 - accuracy: 0.7043\n",
      "Epoch 16/200\n",
      "700/700 [==============================] - 0s 164us/step - loss: 0.5914 - accuracy: 0.7043\n",
      "Epoch 17/200\n",
      "700/700 [==============================] - 0s 149us/step - loss: 0.6007 - accuracy: 0.6829\n",
      "Epoch 18/200\n",
      "700/700 [==============================] - 0s 139us/step - loss: 0.5900 - accuracy: 0.6971\n",
      "Epoch 19/200\n",
      "700/700 [==============================] - 0s 140us/step - loss: 0.5853 - accuracy: 0.7071\n",
      "Epoch 20/200\n",
      "700/700 [==============================] - 0s 141us/step - loss: 0.5803 - accuracy: 0.7071\n",
      "Epoch 21/200\n",
      "700/700 [==============================] - 0s 140us/step - loss: 0.5811 - accuracy: 0.7014\n",
      "Epoch 22/200\n",
      "700/700 [==============================] - 0s 142us/step - loss: 0.5758 - accuracy: 0.7086\n",
      "Epoch 23/200\n",
      "700/700 [==============================] - 0s 139us/step - loss: 0.5711 - accuracy: 0.7114\n",
      "Epoch 24/200\n",
      "700/700 [==============================] - 0s 144us/step - loss: 0.5773 - accuracy: 0.7029\n",
      "Epoch 25/200\n",
      "700/700 [==============================] - 0s 141us/step - loss: 0.5670 - accuracy: 0.7114\n",
      "Epoch 26/200\n",
      "700/700 [==============================] - 0s 142us/step - loss: 0.5635 - accuracy: 0.7071\n",
      "Epoch 27/200\n",
      "700/700 [==============================] - 0s 145us/step - loss: 0.5724 - accuracy: 0.7014\n",
      "Epoch 28/200\n",
      "700/700 [==============================] - 0s 141us/step - loss: 0.5829 - accuracy: 0.7143\n",
      "Epoch 29/200\n",
      "700/700 [==============================] - 0s 154us/step - loss: 0.5538 - accuracy: 0.7200\n",
      "Epoch 30/200\n",
      "700/700 [==============================] - 0s 161us/step - loss: 0.5756 - accuracy: 0.7143\n",
      "Epoch 31/200\n",
      "700/700 [==============================] - 0s 149us/step - loss: 0.5714 - accuracy: 0.7100\n",
      "Epoch 32/200\n",
      "700/700 [==============================] - 0s 144us/step - loss: 0.5768 - accuracy: 0.6943\n",
      "Epoch 33/200\n",
      "700/700 [==============================] - 0s 141us/step - loss: 0.5579 - accuracy: 0.7200\n",
      "Epoch 34/200\n",
      "700/700 [==============================] - 0s 139us/step - loss: 0.5488 - accuracy: 0.7329\n",
      "Epoch 35/200\n",
      "700/700 [==============================] - 0s 139us/step - loss: 0.5635 - accuracy: 0.7200\n",
      "Epoch 36/200\n",
      "700/700 [==============================] - 0s 143us/step - loss: 0.5732 - accuracy: 0.7057\n",
      "Epoch 37/200\n",
      "700/700 [==============================] - 0s 143us/step - loss: 0.5558 - accuracy: 0.7143\n",
      "Epoch 38/200\n",
      "700/700 [==============================] - 0s 142us/step - loss: 0.5394 - accuracy: 0.7386\n",
      "Epoch 39/200\n",
      "700/700 [==============================] - 0s 142us/step - loss: 0.5421 - accuracy: 0.7214\n",
      "Epoch 40/200\n",
      "700/700 [==============================] - 0s 141us/step - loss: 0.5567 - accuracy: 0.7086\n",
      "Epoch 41/200\n",
      "700/700 [==============================] - 0s 141us/step - loss: 0.5362 - accuracy: 0.7371\n",
      "Epoch 42/200\n",
      "700/700 [==============================] - 0s 141us/step - loss: 0.5474 - accuracy: 0.7357\n",
      "Epoch 43/200\n",
      "700/700 [==============================] - 0s 140us/step - loss: 0.5787 - accuracy: 0.7343\n",
      "Epoch 44/200\n",
      "700/700 [==============================] - 0s 144us/step - loss: 0.5386 - accuracy: 0.7329\n",
      "Epoch 45/200\n",
      "700/700 [==============================] - 0s 148us/step - loss: 0.5312 - accuracy: 0.7257\n",
      "Epoch 46/200\n",
      "700/700 [==============================] - 0s 191us/step - loss: 0.5479 - accuracy: 0.7400\n",
      "Epoch 47/200\n",
      "700/700 [==============================] - 0s 138us/step - loss: 0.5523 - accuracy: 0.7300\n",
      "Epoch 48/200\n",
      "700/700 [==============================] - 0s 140us/step - loss: 0.5309 - accuracy: 0.7400\n",
      "Epoch 49/200\n",
      "700/700 [==============================] - 0s 147us/step - loss: 0.5367 - accuracy: 0.7429\n",
      "Epoch 50/200\n",
      "700/700 [==============================] - 0s 168us/step - loss: 0.5274 - accuracy: 0.7300\n",
      "Epoch 51/200\n",
      "700/700 [==============================] - 0s 173us/step - loss: 0.5565 - accuracy: 0.7200\n",
      "Epoch 52/200\n",
      "700/700 [==============================] - 0s 147us/step - loss: 0.5264 - accuracy: 0.7357\n",
      "Epoch 53/200\n",
      "700/700 [==============================] - 0s 154us/step - loss: 0.5302 - accuracy: 0.7486\n",
      "Epoch 54/200\n",
      "700/700 [==============================] - 0s 184us/step - loss: 0.5264 - accuracy: 0.7286\n",
      "Epoch 55/200\n",
      "700/700 [==============================] - 0s 166us/step - loss: 0.5347 - accuracy: 0.7471\n",
      "Epoch 56/200\n",
      "700/700 [==============================] - 0s 178us/step - loss: 0.5418 - accuracy: 0.7257\n",
      "Epoch 57/200\n",
      "700/700 [==============================] - 0s 172us/step - loss: 0.5256 - accuracy: 0.7443\n",
      "Epoch 58/200\n",
      "700/700 [==============================] - 0s 151us/step - loss: 0.5597 - accuracy: 0.7371\n",
      "Epoch 59/200\n",
      "700/700 [==============================] - 0s 185us/step - loss: 0.5716 - accuracy: 0.7200\n",
      "Epoch 60/200\n",
      "700/700 [==============================] - 0s 229us/step - loss: 0.5243 - accuracy: 0.7414\n",
      "Epoch 61/200\n",
      "700/700 [==============================] - 0s 207us/step - loss: 0.5236 - accuracy: 0.7471\n",
      "Epoch 62/200\n",
      "700/700 [==============================] - 0s 160us/step - loss: 0.5252 - accuracy: 0.7414\n",
      "Epoch 63/200\n",
      "700/700 [==============================] - 0s 256us/step - loss: 0.5196 - accuracy: 0.7529\n",
      "Epoch 64/200\n",
      "700/700 [==============================] - 0s 509us/step - loss: 0.5747 - accuracy: 0.7057\n",
      "Epoch 65/200\n",
      "700/700 [==============================] - 0s 294us/step - loss: 0.5342 - accuracy: 0.7357\n",
      "Epoch 66/200\n",
      "700/700 [==============================] - 0s 244us/step - loss: 0.5267 - accuracy: 0.7429\n",
      "Epoch 67/200\n",
      "700/700 [==============================] - 0s 220us/step - loss: 0.5220 - accuracy: 0.7314\n",
      "Epoch 68/200\n",
      "700/700 [==============================] - 0s 176us/step - loss: 0.5180 - accuracy: 0.7586\n",
      "Epoch 69/200\n",
      "700/700 [==============================] - 0s 207us/step - loss: 0.5206 - accuracy: 0.7443\n",
      "Epoch 70/200\n",
      "700/700 [==============================] - 0s 247us/step - loss: 0.5205 - accuracy: 0.7414\n",
      "Epoch 71/200\n",
      "700/700 [==============================] - 0s 237us/step - loss: 0.5239 - accuracy: 0.7500\n",
      "Epoch 72/200\n",
      "700/700 [==============================] - 0s 290us/step - loss: 0.5189 - accuracy: 0.7471\n",
      "Epoch 73/200\n",
      "700/700 [==============================] - 0s 217us/step - loss: 0.5153 - accuracy: 0.7443\n",
      "Epoch 74/200\n",
      "700/700 [==============================] - 0s 304us/step - loss: 0.5228 - accuracy: 0.7486\n",
      "Epoch 75/200\n",
      "700/700 [==============================] - 0s 230us/step - loss: 0.5264 - accuracy: 0.7486\n",
      "Epoch 76/200\n",
      "700/700 [==============================] - 0s 235us/step - loss: 0.5334 - accuracy: 0.7214\n",
      "Epoch 77/200\n",
      "700/700 [==============================] - 0s 223us/step - loss: 0.5187 - accuracy: 0.7400\n",
      "Epoch 78/200\n",
      "700/700 [==============================] - 0s 206us/step - loss: 0.5317 - accuracy: 0.7300\n",
      "Epoch 79/200\n"
     ]
    },
    {
     "name": "stdout",
     "output_type": "stream",
     "text": [
      "700/700 [==============================] - 0s 241us/step - loss: 0.5299 - accuracy: 0.7457\n",
      "Epoch 80/200\n",
      "700/700 [==============================] - 0s 213us/step - loss: 0.5191 - accuracy: 0.7500\n",
      "Epoch 81/200\n",
      "700/700 [==============================] - 0s 191us/step - loss: 0.5185 - accuracy: 0.7429\n",
      "Epoch 82/200\n",
      "700/700 [==============================] - 0s 256us/step - loss: 0.4986 - accuracy: 0.7686\n",
      "Epoch 83/200\n",
      "700/700 [==============================] - 0s 245us/step - loss: 0.5287 - accuracy: 0.7286\n",
      "Epoch 84/200\n",
      "700/700 [==============================] - 0s 263us/step - loss: 0.5295 - accuracy: 0.7414\n",
      "Epoch 85/200\n",
      "700/700 [==============================] - 0s 227us/step - loss: 0.5287 - accuracy: 0.7486\n",
      "Epoch 86/200\n",
      "700/700 [==============================] - 0s 244us/step - loss: 0.5092 - accuracy: 0.7414\n",
      "Epoch 87/200\n",
      "700/700 [==============================] - 0s 256us/step - loss: 0.5201 - accuracy: 0.7543\n",
      "Epoch 88/200\n",
      "700/700 [==============================] - 0s 183us/step - loss: 0.5336 - accuracy: 0.7414\n",
      "Epoch 89/200\n",
      "700/700 [==============================] - 0s 190us/step - loss: 0.5224 - accuracy: 0.7314\n",
      "Epoch 90/200\n",
      "700/700 [==============================] - 0s 172us/step - loss: 0.5205 - accuracy: 0.7386\n",
      "Epoch 91/200\n",
      "700/700 [==============================] - 0s 299us/step - loss: 0.5121 - accuracy: 0.7371\n",
      "Epoch 92/200\n",
      "700/700 [==============================] - 0s 416us/step - loss: 0.5078 - accuracy: 0.7500\n",
      "Epoch 93/200\n",
      "700/700 [==============================] - 0s 254us/step - loss: 0.5150 - accuracy: 0.7500\n",
      "Epoch 94/200\n",
      "700/700 [==============================] - 0s 252us/step - loss: 0.5486 - accuracy: 0.7214\n",
      "Epoch 95/200\n",
      "700/700 [==============================] - 0s 184us/step - loss: 0.5115 - accuracy: 0.7386\n",
      "Epoch 96/200\n",
      "700/700 [==============================] - 0s 196us/step - loss: 0.4995 - accuracy: 0.7529\n",
      "Epoch 97/200\n",
      "700/700 [==============================] - 0s 199us/step - loss: 0.5158 - accuracy: 0.7471\n",
      "Epoch 98/200\n",
      "700/700 [==============================] - 0s 219us/step - loss: 0.5151 - accuracy: 0.7500\n",
      "Epoch 99/200\n",
      "700/700 [==============================] - 0s 206us/step - loss: 0.5087 - accuracy: 0.7543\n",
      "Epoch 100/200\n",
      "700/700 [==============================] - 0s 160us/step - loss: 0.5124 - accuracy: 0.7414\n",
      "Epoch 101/200\n",
      "700/700 [==============================] - 0s 206us/step - loss: 0.5161 - accuracy: 0.7586\n",
      "Epoch 102/200\n",
      "700/700 [==============================] - 0s 157us/step - loss: 0.5292 - accuracy: 0.7443\n",
      "Epoch 103/200\n",
      "700/700 [==============================] - 0s 220us/step - loss: 0.5014 - accuracy: 0.7529\n",
      "Epoch 104/200\n",
      "700/700 [==============================] - 0s 176us/step - loss: 0.5158 - accuracy: 0.7471\n",
      "Epoch 105/200\n",
      "700/700 [==============================] - 0s 170us/step - loss: 0.5120 - accuracy: 0.7486\n",
      "Epoch 106/200\n",
      "700/700 [==============================] - 0s 160us/step - loss: 0.5038 - accuracy: 0.7443\n",
      "Epoch 107/200\n",
      "700/700 [==============================] - 0s 162us/step - loss: 0.5122 - accuracy: 0.7514\n",
      "Epoch 108/200\n",
      "700/700 [==============================] - 0s 161us/step - loss: 0.5197 - accuracy: 0.7371\n",
      "Epoch 109/200\n",
      "700/700 [==============================] - 0s 162us/step - loss: 0.5160 - accuracy: 0.7429\n",
      "Epoch 110/200\n",
      "700/700 [==============================] - 0s 162us/step - loss: 0.5102 - accuracy: 0.7529\n",
      "Epoch 111/200\n",
      "700/700 [==============================] - 0s 159us/step - loss: 0.5192 - accuracy: 0.7557\n",
      "Epoch 112/200\n",
      "700/700 [==============================] - 0s 156us/step - loss: 0.5074 - accuracy: 0.7657\n",
      "Epoch 113/200\n",
      "700/700 [==============================] - 0s 167us/step - loss: 0.5286 - accuracy: 0.7429\n",
      "Epoch 114/200\n",
      "700/700 [==============================] - 0s 206us/step - loss: 0.4959 - accuracy: 0.7629\n",
      "Epoch 115/200\n",
      "700/700 [==============================] - 0s 190us/step - loss: 0.4975 - accuracy: 0.7586\n",
      "Epoch 116/200\n",
      "700/700 [==============================] - 0s 235us/step - loss: 0.5011 - accuracy: 0.7443\n",
      "Epoch 117/200\n",
      "700/700 [==============================] - 0s 159us/step - loss: 0.5015 - accuracy: 0.7543\n",
      "Epoch 118/200\n",
      "700/700 [==============================] - 0s 191us/step - loss: 0.5006 - accuracy: 0.7486\n",
      "Epoch 119/200\n",
      "700/700 [==============================] - 0s 202us/step - loss: 0.5081 - accuracy: 0.7443\n",
      "Epoch 120/200\n",
      "700/700 [==============================] - 0s 176us/step - loss: 0.4969 - accuracy: 0.7543\n",
      "Epoch 121/200\n",
      "700/700 [==============================] - 0s 170us/step - loss: 0.5091 - accuracy: 0.7486\n",
      "Epoch 122/200\n",
      "700/700 [==============================] - 0s 214us/step - loss: 0.5002 - accuracy: 0.7514\n",
      "Epoch 123/200\n",
      "700/700 [==============================] - 0s 154us/step - loss: 0.4953 - accuracy: 0.7571\n",
      "Epoch 124/200\n",
      "700/700 [==============================] - 0s 163us/step - loss: 0.5077 - accuracy: 0.7300\n",
      "Epoch 125/200\n",
      "700/700 [==============================] - 0s 208us/step - loss: 0.5033 - accuracy: 0.7500\n",
      "Epoch 126/200\n",
      "700/700 [==============================] - 0s 175us/step - loss: 0.4908 - accuracy: 0.7529\n",
      "Epoch 127/200\n",
      "700/700 [==============================] - 0s 194us/step - loss: 0.4970 - accuracy: 0.7586\n",
      "Epoch 128/200\n",
      "700/700 [==============================] - 0s 158us/step - loss: 0.5056 - accuracy: 0.7471\n",
      "Epoch 129/200\n",
      "700/700 [==============================] - 0s 169us/step - loss: 0.4973 - accuracy: 0.7414\n",
      "Epoch 130/200\n",
      "700/700 [==============================] - 0s 149us/step - loss: 0.5190 - accuracy: 0.7371\n",
      "Epoch 131/200\n",
      "700/700 [==============================] - 0s 151us/step - loss: 0.5003 - accuracy: 0.7500\n",
      "Epoch 132/200\n",
      "700/700 [==============================] - 0s 174us/step - loss: 0.5056 - accuracy: 0.7586\n",
      "Epoch 133/200\n",
      "700/700 [==============================] - 0s 332us/step - loss: 0.5020 - accuracy: 0.7429\n",
      "Epoch 134/200\n",
      "700/700 [==============================] - 0s 167us/step - loss: 0.4934 - accuracy: 0.7571\n",
      "Epoch 135/200\n",
      "700/700 [==============================] - 0s 169us/step - loss: 0.5095 - accuracy: 0.7443\n",
      "Epoch 136/200\n",
      "700/700 [==============================] - 0s 170us/step - loss: 0.4903 - accuracy: 0.7586\n",
      "Epoch 137/200\n",
      "700/700 [==============================] - 0s 153us/step - loss: 0.5002 - accuracy: 0.7529\n",
      "Epoch 138/200\n",
      "700/700 [==============================] - 0s 144us/step - loss: 0.4984 - accuracy: 0.7557\n",
      "Epoch 139/200\n",
      "700/700 [==============================] - 0s 140us/step - loss: 0.5072 - accuracy: 0.7414\n",
      "Epoch 140/200\n",
      "700/700 [==============================] - 0s 134us/step - loss: 0.4966 - accuracy: 0.7557\n",
      "Epoch 141/200\n",
      "700/700 [==============================] - 0s 141us/step - loss: 0.4886 - accuracy: 0.7586\n",
      "Epoch 142/200\n",
      "700/700 [==============================] - 0s 156us/step - loss: 0.4871 - accuracy: 0.7586\n",
      "Epoch 143/200\n",
      "700/700 [==============================] - 0s 147us/step - loss: 0.5141 - accuracy: 0.7514\n",
      "Epoch 144/200\n",
      "700/700 [==============================] - 0s 138us/step - loss: 0.4937 - accuracy: 0.7443\n",
      "Epoch 145/200\n",
      "700/700 [==============================] - 0s 145us/step - loss: 0.5114 - accuracy: 0.7500\n",
      "Epoch 146/200\n",
      "700/700 [==============================] - 0s 146us/step - loss: 0.5124 - accuracy: 0.7414\n",
      "Epoch 147/200\n",
      "700/700 [==============================] - 0s 141us/step - loss: 0.5057 - accuracy: 0.7586\n",
      "Epoch 148/200\n",
      "700/700 [==============================] - 0s 135us/step - loss: 0.4903 - accuracy: 0.7629\n",
      "Epoch 149/200\n",
      "700/700 [==============================] - 0s 137us/step - loss: 0.4978 - accuracy: 0.7614\n",
      "Epoch 150/200\n",
      "700/700 [==============================] - 0s 139us/step - loss: 0.4985 - accuracy: 0.7586\n",
      "Epoch 151/200\n",
      "700/700 [==============================] - 0s 141us/step - loss: 0.4993 - accuracy: 0.7486\n",
      "Epoch 152/200\n",
      "700/700 [==============================] - 0s 138us/step - loss: 0.4896 - accuracy: 0.7786\n",
      "Epoch 153/200\n",
      "700/700 [==============================] - 0s 145us/step - loss: 0.5029 - accuracy: 0.7457\n",
      "Epoch 154/200\n",
      "700/700 [==============================] - 0s 142us/step - loss: 0.4938 - accuracy: 0.7614\n",
      "Epoch 155/200\n",
      "700/700 [==============================] - 0s 138us/step - loss: 0.5017 - accuracy: 0.7486\n",
      "Epoch 156/200\n",
      "700/700 [==============================] - 0s 139us/step - loss: 0.4867 - accuracy: 0.7557\n",
      "Epoch 157/200\n"
     ]
    },
    {
     "name": "stdout",
     "output_type": "stream",
     "text": [
      "700/700 [==============================] - 0s 144us/step - loss: 0.4866 - accuracy: 0.7643\n",
      "Epoch 158/200\n",
      "700/700 [==============================] - 0s 139us/step - loss: 0.5062 - accuracy: 0.7429\n",
      "Epoch 159/200\n",
      "700/700 [==============================] - 0s 141us/step - loss: 0.4878 - accuracy: 0.7557\n",
      "Epoch 160/200\n",
      "700/700 [==============================] - 0s 138us/step - loss: 0.4838 - accuracy: 0.7643\n",
      "Epoch 161/200\n",
      "700/700 [==============================] - 0s 144us/step - loss: 0.4835 - accuracy: 0.7557\n",
      "Epoch 162/200\n",
      "700/700 [==============================] - 0s 154us/step - loss: 0.4823 - accuracy: 0.7614\n",
      "Epoch 163/200\n",
      "700/700 [==============================] - 0s 141us/step - loss: 0.5027 - accuracy: 0.7614\n",
      "Epoch 164/200\n",
      "700/700 [==============================] - 0s 136us/step - loss: 0.4861 - accuracy: 0.7557\n",
      "Epoch 165/200\n",
      "700/700 [==============================] - 0s 142us/step - loss: 0.4790 - accuracy: 0.7629\n",
      "Epoch 166/200\n",
      "700/700 [==============================] - 0s 142us/step - loss: 0.4856 - accuracy: 0.7729\n",
      "Epoch 167/200\n",
      "700/700 [==============================] - 0s 143us/step - loss: 0.4753 - accuracy: 0.7629\n",
      "Epoch 168/200\n",
      "700/700 [==============================] - 0s 144us/step - loss: 0.4819 - accuracy: 0.7614\n",
      "Epoch 169/200\n",
      "700/700 [==============================] - 0s 138us/step - loss: 0.4856 - accuracy: 0.7529\n",
      "Epoch 170/200\n",
      "700/700 [==============================] - 0s 139us/step - loss: 0.4804 - accuracy: 0.7729\n",
      "Epoch 171/200\n",
      "700/700 [==============================] - 0s 142us/step - loss: 0.4797 - accuracy: 0.7643\n",
      "Epoch 172/200\n",
      "700/700 [==============================] - 0s 143us/step - loss: 0.4818 - accuracy: 0.7614\n",
      "Epoch 173/200\n",
      "700/700 [==============================] - 0s 142us/step - loss: 0.4880 - accuracy: 0.7500\n",
      "Epoch 174/200\n",
      "700/700 [==============================] - 0s 138us/step - loss: 0.4804 - accuracy: 0.7600\n",
      "Epoch 175/200\n",
      "700/700 [==============================] - 0s 137us/step - loss: 0.4817 - accuracy: 0.7686\n",
      "Epoch 176/200\n",
      "700/700 [==============================] - 0s 137us/step - loss: 0.4821 - accuracy: 0.7586\n",
      "Epoch 177/200\n",
      "700/700 [==============================] - 0s 136us/step - loss: 0.4819 - accuracy: 0.7671\n",
      "Epoch 178/200\n",
      "700/700 [==============================] - 0s 137us/step - loss: 0.4929 - accuracy: 0.7543\n",
      "Epoch 179/200\n",
      "700/700 [==============================] - 0s 138us/step - loss: 0.4817 - accuracy: 0.7586\n",
      "Epoch 180/200\n",
      "700/700 [==============================] - 0s 136us/step - loss: 0.4811 - accuracy: 0.7600\n",
      "Epoch 181/200\n",
      "700/700 [==============================] - 0s 142us/step - loss: 0.4736 - accuracy: 0.7643\n",
      "Epoch 182/200\n",
      "700/700 [==============================] - 0s 143us/step - loss: 0.4740 - accuracy: 0.7571\n",
      "Epoch 183/200\n",
      "700/700 [==============================] - 0s 138us/step - loss: 0.4861 - accuracy: 0.7586\n",
      "Epoch 184/200\n",
      "700/700 [==============================] - 0s 146us/step - loss: 0.4720 - accuracy: 0.7686\n",
      "Epoch 185/200\n",
      "700/700 [==============================] - 0s 136us/step - loss: 0.4786 - accuracy: 0.7729\n",
      "Epoch 186/200\n",
      "700/700 [==============================] - 0s 138us/step - loss: 0.4826 - accuracy: 0.7557\n",
      "Epoch 187/200\n",
      "700/700 [==============================] - ETA: 0s - loss: 0.4492 - accuracy: 0.75 - 0s 143us/step - loss: 0.4838 - accuracy: 0.7500\n",
      "Epoch 188/200\n",
      "700/700 [==============================] - 0s 140us/step - loss: 0.4766 - accuracy: 0.7600\n",
      "Epoch 189/200\n",
      "700/700 [==============================] - 0s 137us/step - loss: 0.4772 - accuracy: 0.7529\n",
      "Epoch 190/200\n",
      "700/700 [==============================] - 0s 141us/step - loss: 0.4844 - accuracy: 0.7586\n",
      "Epoch 191/200\n",
      "700/700 [==============================] - 0s 139us/step - loss: 0.4731 - accuracy: 0.7643\n",
      "Epoch 192/200\n",
      "700/700 [==============================] - 0s 137us/step - loss: 0.4810 - accuracy: 0.7700\n",
      "Epoch 193/200\n",
      "700/700 [==============================] - 0s 142us/step - loss: 0.4723 - accuracy: 0.7729\n",
      "Epoch 194/200\n",
      "700/700 [==============================] - 0s 138us/step - loss: 0.4790 - accuracy: 0.7529\n",
      "Epoch 195/200\n",
      "700/700 [==============================] - 0s 140us/step - loss: 0.4752 - accuracy: 0.7671\n",
      "Epoch 196/200\n",
      "700/700 [==============================] - 0s 141us/step - loss: 0.4969 - accuracy: 0.7471\n",
      "Epoch 197/200\n",
      "700/700 [==============================] - 0s 139us/step - loss: 0.4774 - accuracy: 0.7700\n",
      "Epoch 198/200\n",
      "700/700 [==============================] - 0s 139us/step - loss: 0.4807 - accuracy: 0.7657\n",
      "Epoch 199/200\n",
      "700/700 [==============================] - 0s 139us/step - loss: 0.4935 - accuracy: 0.7600\n",
      "Epoch 200/200\n",
      "700/700 [==============================] - 0s 138us/step - loss: 0.4757 - accuracy: 0.7586\n"
     ]
    },
    {
     "data": {
      "text/plain": [
       "<keras.callbacks.callbacks.History at 0x1a3a66ec50>"
      ]
     },
     "execution_count": 31,
     "metadata": {},
     "output_type": "execute_result"
    }
   ],
   "source": [
    "# Fit the keras model on the dataset\n",
    "model.fit(X_train, y_train, epochs=200, batch_size=10)"
   ]
  },
  {
   "cell_type": "markdown",
   "metadata": {},
   "source": [
    "## Evaluating the Keras model"
   ]
  },
  {
   "cell_type": "markdown",
   "metadata": {},
   "source": [
    "We have trained our neural network on the entire dataset and we can evaluate the performance of the network on the same dataset.\n",
    "\n",
    "This will only give us an idea of how well we have modeled the dataset (e.g. train accuracy), but no idea of how well the algorithm might perform on new data. We have done this for simplicity, but ideally, you could separate your data into train and test datasets for training and evaluation of your model.\n",
    "\n",
    "You can evaluate your model on your training dataset using the **evaluate()** function on your model and pass it the same input and output used to train the model.\n",
    "\n",
    "This will generate a prediction for each input and output pair and collect scores, including the average loss and any metrics you have configured, such as accuracy.\n",
    "\n",
    "The evaluate() function will return a list with two values. The first will be the loss of the model on the dataset and the second will be the accuracy of the model on the dataset. We are only interested in reporting the accuracy, so we will ignore the loss value."
   ]
  },
  {
   "cell_type": "code",
   "execution_count": 32,
   "metadata": {},
   "outputs": [
    {
     "name": "stdout",
     "output_type": "stream",
     "text": [
      "700/700 [==============================] - 0s 55us/step\n",
      "Accuracy: 77.43\n"
     ]
    }
   ],
   "source": [
    "# Evaluate the keras model\n",
    "_, accuracy = model.evaluate(X_train, y_train)\n",
    "print('Accuracy: %.2f' % (accuracy*100))"
   ]
  },
  {
   "cell_type": "markdown",
   "metadata": {},
   "source": [
    "## Using the model to make predictions"
   ]
  },
  {
   "cell_type": "markdown",
   "metadata": {},
   "source": [
    "Now that the model is trained, how can it be used to make predictions on new data?\n",
    "\n",
    "We can adapt the above example and use it to generate predictions on the training dataset, pretending it is a new dataset we have not seen before.\n",
    "\n",
    "Making predictions is as easy as calling the **predict()** function on the model. We are using a sigmoid activation function on the output layer, so the predictions will be a probability in the range between 0 and 1. We can easily convert them into a crisp binary prediction for this classification task by rounding them."
   ]
  },
  {
   "cell_type": "code",
   "execution_count": 33,
   "metadata": {},
   "outputs": [],
   "source": [
    "# Make probability predictions with the model and round it\n",
    "predictions = model.predict(X_test)\n",
    "rounded = [round(x[0]) for x in predictions]"
   ]
  },
  {
   "cell_type": "markdown",
   "metadata": {},
   "source": [
    "Alternately, we can call the **predict_classes()** function on the model to predict crisp classes directly, for example:"
   ]
  },
  {
   "cell_type": "code",
   "execution_count": null,
   "metadata": {},
   "outputs": [],
   "source": [
    "# Make class predictions with the model\n",
    "predictions = model.predict_classes(X_test)"
   ]
  },
  {
   "cell_type": "code",
   "execution_count": 60,
   "metadata": {},
   "outputs": [
    {
     "name": "stdout",
     "output_type": "stream",
     "text": [
      "Model accuracy on test set: 60.29\n"
     ]
    }
   ],
   "source": [
    "# Store accuracy of model on test set\n",
    "model_accuracy = np.zeros(len(X_test))\n",
    "\n",
    "# Compare predictions on our test set with true values\n",
    "for i in range(len(X_test)):\n",
    "    if int(predictions[i]) == int(y_test[i]):\n",
    "        model_accuracy[i] = 1.0\n",
    "\n",
    "print ('Model accuracy on test set: %.2f' % (100*np.mean(model_accuracy)) )"
   ]
  },
  {
   "cell_type": "code",
   "execution_count": 34,
   "metadata": {},
   "outputs": [
    {
     "name": "stdout",
     "output_type": "stream",
     "text": [
      "[2.0, 122.0, 76.0, 27.0, 200.0, 35.9, 0.483, 26.0] => 0 (expected 0)\n",
      "[6.0, 125.0, 78.0, 31.0, 0.0, 27.6, 0.565, 49.0] => 0 (expected 1)\n",
      "[1.0, 168.0, 88.0, 29.0, 0.0, 35.0, 0.905, 52.0] => 0 (expected 1)\n",
      "[2.0, 129.0, 0.0, 0.0, 0.0, 38.5, 0.304, 41.0] => 0 (expected 0)\n",
      "[4.0, 110.0, 76.0, 20.0, 100.0, 28.4, 0.118, 27.0] => 0 (expected 0)\n",
      "[6.0, 80.0, 80.0, 36.0, 0.0, 39.8, 0.177, 28.0] => 0 (expected 0)\n",
      "[10.0, 115.0, 0.0, 0.0, 0.0, 0.0, 0.261, 30.0] => 0 (expected 1)\n",
      "[2.0, 127.0, 46.0, 21.0, 335.0, 34.4, 0.176, 22.0] => 0 (expected 0)\n",
      "[9.0, 164.0, 78.0, 0.0, 0.0, 32.8, 0.148, 45.0] => 0 (expected 1)\n",
      "[2.0, 93.0, 64.0, 32.0, 160.0, 38.0, 0.674, 23.0] => 0 (expected 1)\n",
      "[3.0, 158.0, 64.0, 13.0, 387.0, 31.2, 0.295, 24.0] => 0 (expected 0)\n",
      "[5.0, 126.0, 78.0, 27.0, 22.0, 29.6, 0.439, 40.0] => 0 (expected 0)\n",
      "[10.0, 129.0, 62.0, 36.0, 0.0, 41.2, 0.441, 38.0] => 0 (expected 1)\n",
      "[0.0, 134.0, 58.0, 20.0, 291.0, 26.4, 0.352, 21.0] => 0 (expected 0)\n",
      "[3.0, 102.0, 74.0, 0.0, 0.0, 29.5, 0.121, 32.0] => 0 (expected 0)\n",
      "[7.0, 187.0, 50.0, 33.0, 392.0, 33.9, 0.826, 34.0] => 0 (expected 1)\n",
      "[3.0, 173.0, 78.0, 39.0, 185.0, 33.8, 0.97, 31.0] => 0 (expected 1)\n",
      "[10.0, 94.0, 72.0, 18.0, 0.0, 23.1, 0.595, 56.0] => 0 (expected 0)\n",
      "[1.0, 108.0, 60.0, 46.0, 178.0, 35.5, 0.415, 24.0] => 0 (expected 0)\n",
      "[5.0, 97.0, 76.0, 27.0, 0.0, 35.6, 0.378, 52.0] => 0 (expected 1)\n",
      "[4.0, 83.0, 86.0, 19.0, 0.0, 29.3, 0.317, 34.0] => 0 (expected 0)\n",
      "[1.0, 114.0, 66.0, 36.0, 200.0, 38.1, 0.289, 21.0] => 0 (expected 0)\n",
      "[1.0, 149.0, 68.0, 29.0, 127.0, 29.3, 0.349, 42.0] => 0 (expected 1)\n",
      "[5.0, 117.0, 86.0, 30.0, 105.0, 39.1, 0.251, 42.0] => 0 (expected 0)\n",
      "[1.0, 111.0, 94.0, 0.0, 0.0, 32.8, 0.265, 45.0] => 0 (expected 0)\n",
      "[4.0, 112.0, 78.0, 40.0, 0.0, 39.4, 0.236, 38.0] => 0 (expected 0)\n",
      "[1.0, 116.0, 78.0, 29.0, 180.0, 36.1, 0.496, 25.0] => 0 (expected 0)\n",
      "[0.0, 141.0, 84.0, 26.0, 0.0, 32.4, 0.433, 22.0] => 0 (expected 0)\n",
      "[2.0, 175.0, 88.0, 0.0, 0.0, 22.9, 0.326, 22.0] => 0 (expected 0)\n",
      "[2.0, 92.0, 52.0, 0.0, 0.0, 30.1, 0.141, 22.0] => 0 (expected 0)\n",
      "[3.0, 130.0, 78.0, 23.0, 79.0, 28.4, 0.323, 34.0] => 0 (expected 1)\n",
      "[8.0, 120.0, 86.0, 0.0, 0.0, 28.4, 0.259, 22.0] => 0 (expected 1)\n",
      "[2.0, 174.0, 88.0, 37.0, 120.0, 44.5, 0.646, 24.0] => 0 (expected 1)\n",
      "[2.0, 106.0, 56.0, 27.0, 165.0, 29.0, 0.426, 22.0] => 0 (expected 0)\n",
      "[2.0, 105.0, 75.0, 0.0, 0.0, 23.3, 0.56, 53.0] => 0 (expected 0)\n",
      "[4.0, 95.0, 60.0, 32.0, 0.0, 35.4, 0.284, 28.0] => 0 (expected 0)\n",
      "[0.0, 126.0, 86.0, 27.0, 120.0, 27.4, 0.515, 21.0] => 0 (expected 0)\n",
      "[8.0, 65.0, 72.0, 23.0, 0.0, 32.0, 0.6, 42.0] => 0 (expected 0)\n",
      "[2.0, 99.0, 60.0, 17.0, 160.0, 36.6, 0.453, 21.0] => 0 (expected 0)\n",
      "[1.0, 102.0, 74.0, 0.0, 0.0, 39.5, 0.293, 42.0] => 0 (expected 1)\n",
      "[11.0, 120.0, 80.0, 37.0, 150.0, 42.3, 0.785, 48.0] => 0 (expected 1)\n",
      "[3.0, 102.0, 44.0, 20.0, 94.0, 30.8, 0.4, 26.0] => 0 (expected 0)\n",
      "[1.0, 109.0, 58.0, 18.0, 116.0, 28.5, 0.219, 22.0] => 0 (expected 0)\n",
      "[9.0, 140.0, 94.0, 0.0, 0.0, 32.7, 0.734, 45.0] => 0 (expected 1)\n",
      "[13.0, 153.0, 88.0, 37.0, 140.0, 40.6, 1.174, 39.0] => 0 (expected 0)\n",
      "[12.0, 100.0, 84.0, 33.0, 105.0, 30.0, 0.488, 46.0] => 0 (expected 0)\n",
      "[1.0, 147.0, 94.0, 41.0, 0.0, 49.3, 0.358, 27.0] => 0 (expected 1)\n",
      "[1.0, 81.0, 74.0, 41.0, 57.0, 46.3, 1.096, 32.0] => 0 (expected 0)\n",
      "[3.0, 187.0, 70.0, 22.0, 200.0, 36.4, 0.408, 36.0] => 0 (expected 1)\n",
      "[6.0, 162.0, 62.0, 0.0, 0.0, 24.3, 0.178, 50.0] => 0 (expected 1)\n",
      "[4.0, 136.0, 70.0, 0.0, 0.0, 31.2, 1.182, 22.0] => 0 (expected 1)\n",
      "[1.0, 121.0, 78.0, 39.0, 74.0, 39.0, 0.261, 28.0] => 0 (expected 0)\n",
      "[3.0, 108.0, 62.0, 24.0, 0.0, 26.0, 0.223, 25.0] => 0 (expected 0)\n",
      "[0.0, 181.0, 88.0, 44.0, 510.0, 43.3, 0.222, 26.0] => 0 (expected 1)\n",
      "[8.0, 154.0, 78.0, 32.0, 0.0, 32.4, 0.443, 45.0] => 0 (expected 1)\n",
      "[1.0, 128.0, 88.0, 39.0, 110.0, 36.5, 1.057, 37.0] => 0 (expected 1)\n",
      "[7.0, 137.0, 90.0, 41.0, 0.0, 32.0, 0.391, 39.0] => 0 (expected 0)\n",
      "[0.0, 123.0, 72.0, 0.0, 0.0, 36.3, 0.258, 52.0] => 0 (expected 1)\n",
      "[1.0, 106.0, 76.0, 0.0, 0.0, 37.5, 0.197, 26.0] => 0 (expected 0)\n",
      "[6.0, 190.0, 92.0, 0.0, 0.0, 35.5, 0.278, 66.0] => 0 (expected 1)\n",
      "[2.0, 88.0, 58.0, 26.0, 16.0, 28.4, 0.766, 22.0] => 0 (expected 0)\n",
      "[9.0, 170.0, 74.0, 31.0, 0.0, 44.0, 0.403, 43.0] => 0 (expected 1)\n",
      "[9.0, 89.0, 62.0, 0.0, 0.0, 22.5, 0.142, 33.0] => 0 (expected 0)\n",
      "[10.0, 101.0, 76.0, 48.0, 180.0, 32.9, 0.171, 63.0] => 0 (expected 0)\n",
      "[2.0, 122.0, 70.0, 27.0, 0.0, 36.8, 0.34, 27.0] => 0 (expected 0)\n",
      "[5.0, 121.0, 72.0, 23.0, 112.0, 26.2, 0.245, 30.0] => 0 (expected 0)\n",
      "[1.0, 126.0, 60.0, 0.0, 0.0, 30.1, 0.349, 47.0] => 0 (expected 1)\n",
      "[1.0, 93.0, 70.0, 31.0, 0.0, 30.4, 0.315, 23.0] => 0 (expected 0)\n"
     ]
    }
   ],
   "source": [
    "# Compare predictions (which are on our training set) with true values\n",
    "for i in range(len(X_test)):\n",
    "    print('%s => %d (expected %d)' % (X_test[i].tolist(), predictions[i], y_test[i]))"
   ]
  },
  {
   "cell_type": "markdown",
   "metadata": {},
   "source": [
    "# Boston Housing Prices"
   ]
  },
  {
   "cell_type": "markdown",
   "metadata": {},
   "source": [
    "https://machinelearningmastery.com/regression-tutorial-keras-deep-learning-library-python/\n",
    "\n",
    "The dataset describes 13 numerical properties of houses in Boston suburbs and is concerned with modeling the price of houses in those suburbs in thousands of dollars. As such, this is a regression predictive modeling problem. Input attributes include things like crime rate, proportion of nonretail business acres, chemical concentrations and more.\n",
    "\n",
    "This is a well-studied problem in machine learning. It is convenient to work with because all of the input and output attributes are numerical and there are 506 instances to work with.\n",
    "\n",
    "Reasonable performance for models evaluated using Mean Squared Error (MSE) are around 20 in squared thousands of dollars (or $4,500 if you take the square root). This is a nice target to aim for with our neural network model.\n",
    "\n",
    "We will create a baseline neural network model for the regression problem.\n",
    "\n",
    "Also check out https://towardsdatascience.com/linear-regression-on-boston-housing-dataset-f409b7e4a155, which addresses the same dataset and problem using a linear regression."
   ]
  },
  {
   "cell_type": "code",
   "execution_count": 1,
   "metadata": {},
   "outputs": [
    {
     "name": "stderr",
     "output_type": "stream",
     "text": [
      "Using TensorFlow backend.\n"
     ]
    }
   ],
   "source": [
    "import pandas as pd\n",
    "\n",
    "from keras.models import Sequential\n",
    "from keras.layers import Dense\n",
    "from keras.wrappers.scikit_learn import KerasRegressor\n",
    "from sklearn.model_selection import cross_val_score\n",
    "from sklearn.model_selection import KFold\n",
    "from sklearn.preprocessing import StandardScaler\n",
    "from sklearn.pipeline import Pipeline"
   ]
  },
  {
   "cell_type": "markdown",
   "metadata": {},
   "source": [
    "## Loading our data set"
   ]
  },
  {
   "cell_type": "code",
   "execution_count": 70,
   "metadata": {},
   "outputs": [
    {
     "data": {
      "text/html": [
       "<div>\n",
       "<style scoped>\n",
       "    .dataframe tbody tr th:only-of-type {\n",
       "        vertical-align: middle;\n",
       "    }\n",
       "\n",
       "    .dataframe tbody tr th {\n",
       "        vertical-align: top;\n",
       "    }\n",
       "\n",
       "    .dataframe thead th {\n",
       "        text-align: right;\n",
       "    }\n",
       "</style>\n",
       "<table border=\"1\" class=\"dataframe\">\n",
       "  <thead>\n",
       "    <tr style=\"text-align: right;\">\n",
       "      <th></th>\n",
       "      <th>CRIM</th>\n",
       "      <th>ZN</th>\n",
       "      <th>INDUS</th>\n",
       "      <th>CHAS</th>\n",
       "      <th>NOX</th>\n",
       "      <th>RM</th>\n",
       "      <th>AGE</th>\n",
       "      <th>DIS</th>\n",
       "      <th>RAD</th>\n",
       "      <th>TAX</th>\n",
       "      <th>PTRATIO</th>\n",
       "      <th>B</th>\n",
       "      <th>LSTAT</th>\n",
       "      <th>MEDV</th>\n",
       "    </tr>\n",
       "  </thead>\n",
       "  <tbody>\n",
       "    <tr>\n",
       "      <th>0</th>\n",
       "      <td>0.00632</td>\n",
       "      <td>18.0</td>\n",
       "      <td>2.31</td>\n",
       "      <td>0</td>\n",
       "      <td>0.538</td>\n",
       "      <td>6.575</td>\n",
       "      <td>65.2</td>\n",
       "      <td>4.0900</td>\n",
       "      <td>1</td>\n",
       "      <td>296.0</td>\n",
       "      <td>15.3</td>\n",
       "      <td>396.90</td>\n",
       "      <td>4.98</td>\n",
       "      <td>24.0</td>\n",
       "    </tr>\n",
       "    <tr>\n",
       "      <th>1</th>\n",
       "      <td>0.02731</td>\n",
       "      <td>0.0</td>\n",
       "      <td>7.07</td>\n",
       "      <td>0</td>\n",
       "      <td>0.469</td>\n",
       "      <td>6.421</td>\n",
       "      <td>78.9</td>\n",
       "      <td>4.9671</td>\n",
       "      <td>2</td>\n",
       "      <td>242.0</td>\n",
       "      <td>17.8</td>\n",
       "      <td>396.90</td>\n",
       "      <td>9.14</td>\n",
       "      <td>21.6</td>\n",
       "    </tr>\n",
       "    <tr>\n",
       "      <th>2</th>\n",
       "      <td>0.02729</td>\n",
       "      <td>0.0</td>\n",
       "      <td>7.07</td>\n",
       "      <td>0</td>\n",
       "      <td>0.469</td>\n",
       "      <td>7.185</td>\n",
       "      <td>61.1</td>\n",
       "      <td>4.9671</td>\n",
       "      <td>2</td>\n",
       "      <td>242.0</td>\n",
       "      <td>17.8</td>\n",
       "      <td>392.83</td>\n",
       "      <td>4.03</td>\n",
       "      <td>34.7</td>\n",
       "    </tr>\n",
       "    <tr>\n",
       "      <th>3</th>\n",
       "      <td>0.03237</td>\n",
       "      <td>0.0</td>\n",
       "      <td>2.18</td>\n",
       "      <td>0</td>\n",
       "      <td>0.458</td>\n",
       "      <td>6.998</td>\n",
       "      <td>45.8</td>\n",
       "      <td>6.0622</td>\n",
       "      <td>3</td>\n",
       "      <td>222.0</td>\n",
       "      <td>18.7</td>\n",
       "      <td>394.63</td>\n",
       "      <td>2.94</td>\n",
       "      <td>33.4</td>\n",
       "    </tr>\n",
       "    <tr>\n",
       "      <th>4</th>\n",
       "      <td>0.06905</td>\n",
       "      <td>0.0</td>\n",
       "      <td>2.18</td>\n",
       "      <td>0</td>\n",
       "      <td>0.458</td>\n",
       "      <td>7.147</td>\n",
       "      <td>54.2</td>\n",
       "      <td>6.0622</td>\n",
       "      <td>3</td>\n",
       "      <td>222.0</td>\n",
       "      <td>18.7</td>\n",
       "      <td>396.90</td>\n",
       "      <td>5.33</td>\n",
       "      <td>36.2</td>\n",
       "    </tr>\n",
       "    <tr>\n",
       "      <th>...</th>\n",
       "      <td>...</td>\n",
       "      <td>...</td>\n",
       "      <td>...</td>\n",
       "      <td>...</td>\n",
       "      <td>...</td>\n",
       "      <td>...</td>\n",
       "      <td>...</td>\n",
       "      <td>...</td>\n",
       "      <td>...</td>\n",
       "      <td>...</td>\n",
       "      <td>...</td>\n",
       "      <td>...</td>\n",
       "      <td>...</td>\n",
       "      <td>...</td>\n",
       "    </tr>\n",
       "    <tr>\n",
       "      <th>501</th>\n",
       "      <td>0.06263</td>\n",
       "      <td>0.0</td>\n",
       "      <td>11.93</td>\n",
       "      <td>0</td>\n",
       "      <td>0.573</td>\n",
       "      <td>6.593</td>\n",
       "      <td>69.1</td>\n",
       "      <td>2.4786</td>\n",
       "      <td>1</td>\n",
       "      <td>273.0</td>\n",
       "      <td>21.0</td>\n",
       "      <td>391.99</td>\n",
       "      <td>9.67</td>\n",
       "      <td>22.4</td>\n",
       "    </tr>\n",
       "    <tr>\n",
       "      <th>502</th>\n",
       "      <td>0.04527</td>\n",
       "      <td>0.0</td>\n",
       "      <td>11.93</td>\n",
       "      <td>0</td>\n",
       "      <td>0.573</td>\n",
       "      <td>6.120</td>\n",
       "      <td>76.7</td>\n",
       "      <td>2.2875</td>\n",
       "      <td>1</td>\n",
       "      <td>273.0</td>\n",
       "      <td>21.0</td>\n",
       "      <td>396.90</td>\n",
       "      <td>9.08</td>\n",
       "      <td>20.6</td>\n",
       "    </tr>\n",
       "    <tr>\n",
       "      <th>503</th>\n",
       "      <td>0.06076</td>\n",
       "      <td>0.0</td>\n",
       "      <td>11.93</td>\n",
       "      <td>0</td>\n",
       "      <td>0.573</td>\n",
       "      <td>6.976</td>\n",
       "      <td>91.0</td>\n",
       "      <td>2.1675</td>\n",
       "      <td>1</td>\n",
       "      <td>273.0</td>\n",
       "      <td>21.0</td>\n",
       "      <td>396.90</td>\n",
       "      <td>5.64</td>\n",
       "      <td>23.9</td>\n",
       "    </tr>\n",
       "    <tr>\n",
       "      <th>504</th>\n",
       "      <td>0.10959</td>\n",
       "      <td>0.0</td>\n",
       "      <td>11.93</td>\n",
       "      <td>0</td>\n",
       "      <td>0.573</td>\n",
       "      <td>6.794</td>\n",
       "      <td>89.3</td>\n",
       "      <td>2.3889</td>\n",
       "      <td>1</td>\n",
       "      <td>273.0</td>\n",
       "      <td>21.0</td>\n",
       "      <td>393.45</td>\n",
       "      <td>6.48</td>\n",
       "      <td>22.0</td>\n",
       "    </tr>\n",
       "    <tr>\n",
       "      <th>505</th>\n",
       "      <td>0.04741</td>\n",
       "      <td>0.0</td>\n",
       "      <td>11.93</td>\n",
       "      <td>0</td>\n",
       "      <td>0.573</td>\n",
       "      <td>6.030</td>\n",
       "      <td>80.8</td>\n",
       "      <td>2.5050</td>\n",
       "      <td>1</td>\n",
       "      <td>273.0</td>\n",
       "      <td>21.0</td>\n",
       "      <td>396.90</td>\n",
       "      <td>7.88</td>\n",
       "      <td>11.9</td>\n",
       "    </tr>\n",
       "  </tbody>\n",
       "</table>\n",
       "<p>506 rows × 14 columns</p>\n",
       "</div>"
      ],
      "text/plain": [
       "        CRIM    ZN  INDUS  CHAS    NOX     RM   AGE     DIS  RAD    TAX  \\\n",
       "0    0.00632  18.0   2.31     0  0.538  6.575  65.2  4.0900    1  296.0   \n",
       "1    0.02731   0.0   7.07     0  0.469  6.421  78.9  4.9671    2  242.0   \n",
       "2    0.02729   0.0   7.07     0  0.469  7.185  61.1  4.9671    2  242.0   \n",
       "3    0.03237   0.0   2.18     0  0.458  6.998  45.8  6.0622    3  222.0   \n",
       "4    0.06905   0.0   2.18     0  0.458  7.147  54.2  6.0622    3  222.0   \n",
       "..       ...   ...    ...   ...    ...    ...   ...     ...  ...    ...   \n",
       "501  0.06263   0.0  11.93     0  0.573  6.593  69.1  2.4786    1  273.0   \n",
       "502  0.04527   0.0  11.93     0  0.573  6.120  76.7  2.2875    1  273.0   \n",
       "503  0.06076   0.0  11.93     0  0.573  6.976  91.0  2.1675    1  273.0   \n",
       "504  0.10959   0.0  11.93     0  0.573  6.794  89.3  2.3889    1  273.0   \n",
       "505  0.04741   0.0  11.93     0  0.573  6.030  80.8  2.5050    1  273.0   \n",
       "\n",
       "     PTRATIO       B  LSTAT  MEDV  \n",
       "0       15.3  396.90   4.98  24.0  \n",
       "1       17.8  396.90   9.14  21.6  \n",
       "2       17.8  392.83   4.03  34.7  \n",
       "3       18.7  394.63   2.94  33.4  \n",
       "4       18.7  396.90   5.33  36.2  \n",
       "..       ...     ...    ...   ...  \n",
       "501     21.0  391.99   9.67  22.4  \n",
       "502     21.0  396.90   9.08  20.6  \n",
       "503     21.0  396.90   5.64  23.9  \n",
       "504     21.0  393.45   6.48  22.0  \n",
       "505     21.0  396.90   7.88  11.9  \n",
       "\n",
       "[506 rows x 14 columns]"
      ]
     },
     "execution_count": 70,
     "metadata": {},
     "output_type": "execute_result"
    }
   ],
   "source": [
    "# Load dataset\n",
    "df = pd.read_csv('boston_housing.csv', delim_whitespace=True, comment='#')\n",
    "ds = df.values\n",
    "\n",
    "df"
   ]
  },
  {
   "cell_type": "code",
   "execution_count": 17,
   "metadata": {},
   "outputs": [],
   "source": [
    "# Split the dataset into input (X) and output (y)\n",
    "X = ds[:, 0:13]\n",
    "y = ds[:, 13]"
   ]
  },
  {
   "cell_type": "markdown",
   "metadata": {},
   "source": [
    "## Defining the Keras base model"
   ]
  },
  {
   "cell_type": "markdown",
   "metadata": {},
   "source": [
    "We define the function to create the baseline model to be evaluated. It is a simple model that has a single fully connected hidden layer with the same number of neurons as input attributes (13). The network uses good practices such as the rectifier activation function for the hidden layer. No activation function is used for the output layer because it is a regression problem and we are interested in predicting numerical values directly without transform.\n",
    "\n",
    "The efficient ADAM optimization algorithm is used and a mean squared error loss function is optimized. This will be the same metric that we will use to evaluate the performance of the model. It is a desirable metric because by taking the square root gives us an error value we can directly understand in the context of the problem (thousands of dollars).\n",
    "\n"
   ]
  },
  {
   "cell_type": "code",
   "execution_count": 7,
   "metadata": {},
   "outputs": [],
   "source": [
    "# Define the base model\n",
    "def baseline_model():\n",
    "    # Create the model\n",
    "    model = Sequential()\n",
    "    # Initialize visible and 1 hidden layer\n",
    "        #  The following line does two things:\n",
    "        # (1) defines the input with 13 dimensions, aka the visible layer,\n",
    "        # (2) defines the first hidden layer, a ReLU with 13 nodes\n",
    "    model.add(Dense(13, input_dim=13, kernel_initializer='normal', activation='relu'))\n",
    "    # Add output layer with no activation function since we want to predict a numerical value \n",
    "    model.add(Dense(1, kernel_initializer='normal'))\n",
    "    \n",
    "    # Compile model\n",
    "    model.compile(loss='mean_squared_error', optimizer='adam')\n",
    "    \n",
    "    return model"
   ]
  },
  {
   "cell_type": "markdown",
   "metadata": {},
   "source": [
    "The Keras wrapper object for use in scikit-learn as a regression estimator is called KerasRegressor. We create an instance and pass it both the name of the function to create the neural network model as well as some parameters to pass along to the fit() function of the model later, such as the number of epochs and batch size. Both of these are set to sensible defaults.\n",
    "\n",
    "The final step is to evaluate this baseline model. We will use 10-fold cross validation to evaluate the model."
   ]
  },
  {
   "cell_type": "markdown",
   "metadata": {},
   "source": [
    "## Evaluating the Keras model"
   ]
  },
  {
   "cell_type": "code",
   "execution_count": 8,
   "metadata": {},
   "outputs": [
    {
     "name": "stdout",
     "output_type": "stream",
     "text": [
      "Baseline: -35.77 (29.51) MSE\n"
     ]
    }
   ],
   "source": [
    "# Evaluate the model\n",
    "estimator = KerasRegressor(build_fn=baseline_model, epochs=100, batch_size=5, verbose=0)\n",
    "kfold = KFold(n_splits=10)\n",
    "results = cross_val_score(estimator, X, y, cv=kfold)\n",
    "print(\"Baseline: %.2f (%.2f) MSE\" % (results.mean(), results.std()))"
   ]
  },
  {
   "cell_type": "markdown",
   "metadata": {},
   "source": [
    "Running this code gives us an estimate of the model’s performance on the problem for unseen data.\n",
    "\n",
    "Note: Your specific results may vary given the stochastic nature of the learning algorithm. Consider running the example a few times and compare the average performance.\n",
    "\n",
    "Note: The mean squared error is negative because scikit-learn inverts so that the metric is maximized instead of minimized. You can ignore the sign of the result.\n",
    "\n",
    "The result reports the mean squared error including the average and standard deviation (average variance) across all 10 folds of the cross validation evaluation."
   ]
  },
  {
   "cell_type": "markdown",
   "metadata": {},
   "source": [
    "## Standardizing the dataset and re-modeling"
   ]
  },
  {
   "cell_type": "markdown",
   "metadata": {},
   "source": [
    "An important concern with the Boston house price dataset is that the input attributes all vary in their scales because they measure different quantities.\n",
    "\n",
    "It is almost always good practice to prepare your data before modeling it using a neural network model.\n",
    "\n",
    "Continuing on from the above baseline model, we can re-evaluate the same model using a standardized version of the input dataset.\n",
    "\n",
    "We can use scikit-learn’s Pipeline framework to perform the standardization during the model evaluation process, within each fold of the cross validation. This ensures that there is no data leakage from each testset cross validation fold into the training data.\n",
    "\n",
    "The code below creates a scikit-learn Pipeline that first standardizes the dataset then creates and evaluate the baseline neural network model."
   ]
  },
  {
   "cell_type": "code",
   "execution_count": 9,
   "metadata": {},
   "outputs": [
    {
     "name": "stdout",
     "output_type": "stream",
     "text": [
      "Standardized: -28.46 (23.19) MSE\n"
     ]
    }
   ],
   "source": [
    "# Evaluate model with standardized dataset\n",
    "estimators = []\n",
    "estimators.append(('standardize', StandardScaler()))\n",
    "estimators.append(('mlp', KerasRegressor(build_fn=baseline_model, epochs=50, batch_size=5, verbose=0)))\n",
    "pipeline = Pipeline(estimators)\n",
    "# Here, n_splits=10 means a 10-fold cross-validation\n",
    "kfold = KFold(n_splits=10)\n",
    "results = cross_val_score(pipeline, X, y, cv=kfold)\n",
    "print(\"Standardized: %.2f (%.2f) MSE\" % (results.mean(), results.std()))"
   ]
  },
  {
   "cell_type": "markdown",
   "metadata": {},
   "source": [
    "From https://www.openml.org/a/estimation-procedures/1:\n",
    "\n",
    "Cross-validation is a technique to evaluate predictive models by partitioning the original sample into a training set to train the model, and a test set to evaluate it. \n",
    "\n",
    "In k-fold cross-validation, the original sample is randomly partitioned into k equal size subsamples. Of the k subsamples, a single subsample is retained as the validation data for testing the model, and the remaining k-1 subsamples are used as training data. The cross-validation process is then repeated k times (the folds), with each of the k subsamples used exactly once as the validation data. The k results from the folds can then be averaged (or otherwise combined) to produce a single estimation. The advantage of this method is that all observations are used for both training and validation, and each observation is used for validation exactly once.\n",
    "\n",
    "For classification problems, one typically uses stratified k-fold cross-validation, in which the folds are selected so that each fold contains roughly the same proportions of class labels.\n",
    "\n",
    "From https://machinelearningmastery.com/k-fold-cross-validation/:\n",
    "\n",
    "The k value must be chosen carefully for your data sample.\n",
    "\n",
    "A poorly chosen value for k may result in a mis-representative idea of the skill of the model, such as a score with a high variance (that may change a lot based on the data used to fit the model), or a high bias, (such as an overestimate of the skill of the model).\n",
    "\n",
    "A value of k=10 is very common in the field of applied machine learning, and is recommend if you are struggling to choose a value for your dataset."
   ]
  },
  {
   "cell_type": "markdown",
   "metadata": {},
   "source": [
    "## Tuning the neural network topology"
   ]
  },
  {
   "cell_type": "markdown",
   "metadata": {},
   "source": [
    "There are many concerns that can be optimized for a neural network model. Perhaps the point of biggest leverage is the structure of the network itself, including the number of layers and the number of neurons in each layer."
   ]
  },
  {
   "cell_type": "markdown",
   "metadata": {},
   "source": [
    "### A deeper network topology"
   ]
  },
  {
   "cell_type": "markdown",
   "metadata": {},
   "source": [
    "One way to improve the performance a neural network is to add more layers. This might allow the model to extract and recombine higher order features embedded in the data.\n",
    "\n",
    "In this section we will evaluate the effect of adding one more hidden layer to the model. This is as easy as defining a new function that will create this deeper model, copied from our baseline model above. We can then insert a new line after the first hidden layer. In this case with about half the number of neurons."
   ]
  },
  {
   "cell_type": "code",
   "execution_count": 18,
   "metadata": {},
   "outputs": [],
   "source": [
    "def larger_model():\n",
    "    # Create model\n",
    "    model = Sequential()\n",
    "    model.add(Dense(13, input_dim=13, kernel_initializer='normal', activation='relu'))\n",
    "    model.add(Dense(6, kernel_initializer='normal', activation='relu'))\n",
    "    model.add(Dense(1, kernel_initializer='normal'))\n",
    "    # Compile model\n",
    "    model.compile(loss='mean_squared_error', optimizer='adam')\n",
    "    \n",
    "    return model"
   ]
  },
  {
   "cell_type": "markdown",
   "metadata": {},
   "source": [
    "Our network topology now looks like:\n",
    "    * 13 inputs -> [13 -> 6] -> 1 output\n",
    "We can evaluate this network topology in the same way as above, while also using the standardization of the dataset since it was shown to improve performance."
   ]
  },
  {
   "cell_type": "code",
   "execution_count": 19,
   "metadata": {},
   "outputs": [
    {
     "name": "stdout",
     "output_type": "stream",
     "text": [
      "Larger: -22.71 (24.70) MSE\n"
     ]
    }
   ],
   "source": [
    "estimators = []\n",
    "estimators.append(('standardize', StandardScaler()))\n",
    "estimators.append(('mlp', KerasRegressor(build_fn=larger_model, epochs=50, batch_size=5, verbose=0)))\n",
    "pipeline = Pipeline(estimators)\n",
    "kfold = KFold(n_splits=10)\n",
    "results = cross_val_score(pipeline, X, y, cv=kfold)\n",
    "print(\"Larger: %.2f (%.2f) MSE\" % (results.mean(), results.std()))"
   ]
  },
  {
   "cell_type": "markdown",
   "metadata": {},
   "source": [
    "Running this model does show a further improvement in performance from 28 down to 24 thousand squared dollars.\n",
    "\n",
    "Results may vary with each run, given the stochastic nature of the learning algorithm. Running the example a few times allows for a comparison of the average performance."
   ]
  },
  {
   "cell_type": "markdown",
   "metadata": {},
   "source": [
    "### A wider network topology"
   ]
  },
  {
   "cell_type": "markdown",
   "metadata": {},
   "source": [
    "Another approach to increasing the representational capability of the model is to create a wider network.\n",
    "\n",
    "In this section we evaluate the effect of keeping a shallow network architecture and nearly doubling the number of neurons in the one hidden layer.\n",
    "\n",
    "Again, all we need to do is define a new function that creates our neural network model. Here, we have increased the number of neurons in the hidden layer compared to the baseline model from 13 to 20."
   ]
  },
  {
   "cell_type": "code",
   "execution_count": 20,
   "metadata": {},
   "outputs": [],
   "source": [
    "def wider_model():\n",
    "    # Create model\n",
    "    model = Sequential()\n",
    "    model.add(Dense(20, input_dim=13, kernel_initializer='normal', activation='relu'))\n",
    "    model.add(Dense(1, kernel_initializer='normal'))\n",
    "    \n",
    "    # Compile model\n",
    "    model.compile(loss='mean_squared_error', optimizer='adam')\n",
    "    \n",
    "    return model"
   ]
  },
  {
   "cell_type": "markdown",
   "metadata": {},
   "source": [
    "Our network topology now looks like:\n",
    "\n",
    "    * 13 inputs -> [20] -> 1 output\n"
   ]
  },
  {
   "cell_type": "code",
   "execution_count": 76,
   "metadata": {},
   "outputs": [
    {
     "name": "stdout",
     "output_type": "stream",
     "text": [
      "Wider: -20.94 (23.68) MSE\n"
     ]
    }
   ],
   "source": [
    "estimators = []\n",
    "estimators.append(('standardize', StandardScaler()))\n",
    "estimators.append(('mlp', KerasRegressor(build_fn=wider_model, epochs=100, batch_size=5, verbose=0)))\n",
    "pipeline = Pipeline(estimators)\n",
    "kfold = KFold(n_splits=10)\n",
    "results = cross_val_score(pipeline, X, y, cv=kfold)\n",
    "print(\"Wider: %.2f (%.2f) MSE\" % (results.mean(), results.std()))"
   ]
  },
  {
   "cell_type": "code",
   "execution_count": 74,
   "metadata": {},
   "outputs": [
    {
     "data": {
      "text/plain": [
       "array([-12.2959714 ,  -7.90920733,  -7.05915905, -30.57893436,\n",
       "       -10.94297035, -15.19929571,  -4.09082723, -87.5626405 ,\n",
       "       -17.60762339, -22.32831397])"
      ]
     },
     "execution_count": 74,
     "metadata": {},
     "output_type": "execute_result"
    }
   ],
   "source": [
    "results"
   ]
  },
  {
   "cell_type": "code",
   "execution_count": 75,
   "metadata": {},
   "outputs": [
    {
     "data": {
      "text/plain": [
       "array([24. , 21.6, 34.7, 33.4, 36.2, 28.7, 22.9, 27.1, 16.5, 18.9, 15. ,\n",
       "       18.9, 21.7, 20.4, 18.2, 19.9, 23.1, 17.5, 20.2, 18.2, 13.6, 19.6,\n",
       "       15.2, 14.5, 15.6, 13.9, 16.6, 14.8, 18.4, 21. , 12.7, 14.5, 13.2,\n",
       "       13.1, 13.5, 18.9, 20. , 21. , 24.7, 30.8, 34.9, 26.6, 25.3, 24.7,\n",
       "       21.2, 19.3, 20. , 16.6, 14.4, 19.4, 19.7, 20.5, 25. , 23.4, 18.9,\n",
       "       35.4, 24.7, 31.6, 23.3, 19.6, 18.7, 16. , 22.2, 25. , 33. , 23.5,\n",
       "       19.4, 22. , 17.4, 20.9, 24.2, 21.7, 22.8, 23.4, 24.1, 21.4, 20. ,\n",
       "       20.8, 21.2, 20.3, 28. , 23.9, 24.8, 22.9, 23.9, 26.6, 22.5, 22.2,\n",
       "       23.6, 28.7, 22.6, 22. , 22.9, 25. , 20.6, 28.4, 21.4, 38.7, 43.8,\n",
       "       33.2, 27.5, 26.5, 18.6, 19.3, 20.1, 19.5, 19.5, 20.4, 19.8, 19.4,\n",
       "       21.7, 22.8, 18.8, 18.7, 18.5, 18.3, 21.2, 19.2, 20.4, 19.3, 22. ,\n",
       "       20.3, 20.5, 17.3, 18.8, 21.4, 15.7, 16.2, 18. , 14.3, 19.2, 19.6,\n",
       "       23. , 18.4, 15.6, 18.1, 17.4, 17.1, 13.3, 17.8, 14. , 14.4, 13.4,\n",
       "       15.6, 11.8, 13.8, 15.6, 14.6, 17.8, 15.4, 21.5, 19.6, 15.3, 19.4,\n",
       "       17. , 15.6, 13.1, 41.3, 24.3, 23.3, 27. , 50. , 50. , 50. , 22.7,\n",
       "       25. , 50. , 23.8, 23.8, 22.3, 17.4, 19.1, 23.1, 23.6, 22.6, 29.4,\n",
       "       23.2, 24.6, 29.9, 37.2, 39.8, 36.2, 37.9, 32.5, 26.4, 29.6, 50. ,\n",
       "       32. , 29.8, 34.9, 37. , 30.5, 36.4, 31.1, 29.1, 50. , 33.3, 30.3,\n",
       "       34.6, 34.9, 32.9, 24.1, 42.3, 48.5, 50. , 22.6, 24.4, 22.5, 24.4,\n",
       "       20. , 21.7, 19.3, 22.4, 28.1, 23.7, 25. , 23.3, 28.7, 21.5, 23. ,\n",
       "       26.7, 21.7, 27.5, 30.1, 44.8, 50. , 37.6, 31.6, 46.7, 31.5, 24.3,\n",
       "       31.7, 41.7, 48.3, 29. , 24. , 25.1, 31.5, 23.7, 23.3, 22. , 20.1,\n",
       "       22.2, 23.7, 17.6, 18.5, 24.3, 20.5, 24.5, 26.2, 24.4, 24.8, 29.6,\n",
       "       42.8, 21.9, 20.9, 44. , 50. , 36. , 30.1, 33.8, 43.1, 48.8, 31. ,\n",
       "       36.5, 22.8, 30.7, 50. , 43.5, 20.7, 21.1, 25.2, 24.4, 35.2, 32.4,\n",
       "       32. , 33.2, 33.1, 29.1, 35.1, 45.4, 35.4, 46. , 50. , 32.2, 22. ,\n",
       "       20.1, 23.2, 22.3, 24.8, 28.5, 37.3, 27.9, 23.9, 21.7, 28.6, 27.1,\n",
       "       20.3, 22.5, 29. , 24.8, 22. , 26.4, 33.1, 36.1, 28.4, 33.4, 28.2,\n",
       "       22.8, 20.3, 16.1, 22.1, 19.4, 21.6, 23.8, 16.2, 17.8, 19.8, 23.1,\n",
       "       21. , 23.8, 23.1, 20.4, 18.5, 25. , 24.6, 23. , 22.2, 19.3, 22.6,\n",
       "       19.8, 17.1, 19.4, 22.2, 20.7, 21.1, 19.5, 18.5, 20.6, 19. , 18.7,\n",
       "       32.7, 16.5, 23.9, 31.2, 17.5, 17.2, 23.1, 24.5, 26.6, 22.9, 24.1,\n",
       "       18.6, 30.1, 18.2, 20.6, 17.8, 21.7, 22.7, 22.6, 25. , 19.9, 20.8,\n",
       "       16.8, 21.9, 27.5, 21.9, 23.1, 50. , 50. , 50. , 50. , 50. , 13.8,\n",
       "       13.8, 15. , 13.9, 13.3, 13.1, 10.2, 10.4, 10.9, 11.3, 12.3,  8.8,\n",
       "        7.2, 10.5,  7.4, 10.2, 11.5, 15.1, 23.2,  9.7, 13.8, 12.7, 13.1,\n",
       "       12.5,  8.5,  5. ,  6.3,  5.6,  7.2, 12.1,  8.3,  8.5,  5. , 11.9,\n",
       "       27.9, 17.2, 27.5, 15. , 17.2, 17.9, 16.3,  7. ,  7.2,  7.5, 10.4,\n",
       "        8.8,  8.4, 16.7, 14.2, 20.8, 13.4, 11.7,  8.3, 10.2, 10.9, 11. ,\n",
       "        9.5, 14.5, 14.1, 16.1, 14.3, 11.7, 13.4,  9.6,  8.7,  8.4, 12.8,\n",
       "       10.5, 17.1, 18.4, 15.4, 10.8, 11.8, 14.9, 12.6, 14.1, 13. , 13.4,\n",
       "       15.2, 16.1, 17.8, 14.9, 14.1, 12.7, 13.5, 14.9, 20. , 16.4, 17.7,\n",
       "       19.5, 20.2, 21.4, 19.9, 19. , 19.1, 19.1, 20.1, 19.9, 19.6, 23.2,\n",
       "       29.8, 13.8, 13.3, 16.7, 12. , 14.6, 21.4, 23. , 23.7, 25. , 21.8,\n",
       "       20.6, 21.2, 19.1, 20.6, 15.2,  7. ,  8.1, 13.6, 20.1, 21.8, 24.5,\n",
       "       23.1, 19.7, 18.3, 21.2, 17.5, 16.8, 22.4, 20.6, 23.9, 22. , 11.9])"
      ]
     },
     "execution_count": 75,
     "metadata": {},
     "output_type": "execute_result"
    }
   ],
   "source": [
    "y"
   ]
  },
  {
   "cell_type": "markdown",
   "metadata": {},
   "source": [
    "# Multioutput Regression on Random Data"
   ]
  },
  {
   "cell_type": "markdown",
   "metadata": {},
   "source": [
    "Regression refers to a predictive modeling problem that involves predicting a numerical value.\n",
    "\n",
    "For example, predicting a size, weight, amount, number of sales, and number of clicks are regression problems. Typically, a single numeric value is predicted given input variables.\n",
    "\n",
    "Some regression problems require the prediction of two or more numeric values. For example, predicting an x and y coordinate.\n",
    "\n",
    "These problems are referred to as multiple-output regression, or multioutput regression.\n",
    "\n",
    "    Regression: Predict a single numeric output given an input.\n",
    "    Multioutput Regression: Predict two or more numeric outputs given an input.\n",
    "\n",
    "In multioutput regression, typically the outputs are dependent upon the input and upon each other. This means that often the outputs are not independent of each other and may require a model that predicts both outputs together or each output contingent upon the other outputs.\n",
    "\n",
    "Multi-step time series forecasting may be considered a type of multiple-output regression where a sequence of future values are predicted and each predicted value is dependent upon the prior values in the sequence.\n",
    "\n",
    "There are a number of strategies for handling multioutput regression which we will explore here."
   ]
  },
  {
   "cell_type": "code",
   "execution_count": 79,
   "metadata": {},
   "outputs": [],
   "source": [
    "from sklearn.datasets import make_regression\n",
    "\n",
    "# Create random training data set using sklearn's make_regression\n",
    "X, y = make_regression(n_samples=1000, n_features=10, n_informative=5, n_targets=2, random_state=1)\n",
    "\n",
    "# Random test data set\n",
    "data_in = [[-2.02220122, 0.31563495, 0.82797464, -0.30620401, 0.16003707, -1.44411381, 0.87616892, -0.50446586, 0.23009474, 0.76201118]]"
   ]
  },
  {
   "cell_type": "markdown",
   "metadata": {},
   "source": [
    "## Linear Regression, k-Nearest Neighbours"
   ]
  },
  {
   "cell_type": "code",
   "execution_count": 88,
   "metadata": {},
   "outputs": [
    {
     "name": "stdout",
     "output_type": "stream",
     "text": [
      "[-93.147146    23.26985013]\n"
     ]
    }
   ],
   "source": [
    "from sklearn.linear_model import LinearRegression\n",
    "from sklearn.neighbors import KNeighborsRegressor\n",
    "\n",
    "# Define and fit model\n",
    "linreg_model = LinearRegression()\n",
    "kNN_model = KNeighborsRegressor()\n",
    "\n",
    "linreg_model.fit(X, y)\n",
    "linreg_yhat = linreg_model.predict(data_in)\n",
    "\n",
    "kNN_model.fit(X, y)\n",
    "kNN_yhat = kNN_model.predict(data_in)\n",
    "\n",
    "# Summarize prediction\n",
    "print(linreg_yhat[0])\n",
    "print(kNN_yhat[0])"
   ]
  },
  {
   "cell_type": "markdown",
   "metadata": {},
   "source": [
    "## Separate Model for Each Output (MultiOutputRegressor)"
   ]
  },
  {
   "cell_type": "code",
   "execution_count": 91,
   "metadata": {},
   "outputs": [
    {
     "name": "stdout",
     "output_type": "stream",
     "text": [
      "[-93.147146    23.26985013]\n"
     ]
    }
   ],
   "source": [
    "# example of linear SVR with the MultiOutputRegressor wrapper for multioutput regression\n",
    "from sklearn.multioutput import MultiOutputRegressor\n",
    "from sklearn.svm import LinearSVR\n",
    "\n",
    "# Define model\n",
    "model = LinearSVR()\n",
    "wrapper = MultiOutputRegressor(model)\n",
    "\n",
    "# Fit model\n",
    "wrapper.fit(X, y)\n",
    "\n",
    "# Use the model to make predictions\n",
    "separatemods_yhat = wrapper.predict(data_in)\n",
    "\n",
    "# Summarize prediction\n",
    "print(separatemods_yhat[0])"
   ]
  },
  {
   "cell_type": "markdown",
   "metadata": {},
   "source": [
    "# Handwritten Digit Recognition"
   ]
  },
  {
   "cell_type": "markdown",
   "metadata": {},
   "source": [
    "The MNIST problem is a dataset for evaluating machine learning models on the handwritten digit classification problem: https://machinelearningmastery.com/handwritten-digit-recognition-using-convolutional-neural-networks-python-keras/\n",
    "\n",
    "Images of digits were taken from a variety of scanned documents, normalized in size and centered. Each image is a 28 by 28 pixel square (784 pixels total). A standard split of the dataset is used to evaluate and compare models, where 60,000 images are used to train a model and a separate set of 10,000 images are used to test it.\n",
    "\n",
    "It is a digit recognition task. As such there are 10 digits (0 to 9) or 10 classes to predict. Excellent results achieve a prediction error of less than 1%. State-of-the-art prediction error of approximately 0.2% can be achieved with large Convolutional Neural Networks."
   ]
  },
  {
   "cell_type": "markdown",
   "metadata": {},
   "source": [
    "## Imports and Loading our data set"
   ]
  },
  {
   "cell_type": "code",
   "execution_count": 95,
   "metadata": {},
   "outputs": [
    {
     "data": {
      "image/png": "[encoded data removed]",
      "text/plain": [
       "<Figure size 432x288 with 4 Axes>"
      ]
     },
     "metadata": {
      "needs_background": "light"
     },
     "output_type": "display_data"
    }
   ],
   "source": [
    "from keras.datasets import mnist\n",
    "\n",
    "# Load (or download, if needed) the MNIST dataset\n",
    "(X_train, y_train), (X_test, y_test) = mnist.load_data()\n",
    "\n",
    "# # Plot ad hoc mnist instances in grayscale\n",
    "plt.subplot(221)\n",
    "plt.imshow(X_train[0], cmap=plt.get_cmap('gray'))\n",
    "plt.subplot(222)\n",
    "plt.imshow(X_train[1], cmap=plt.get_cmap('gray'))\n",
    "plt.subplot(223)\n",
    "plt.imshow(X_train[2], cmap=plt.get_cmap('gray'))\n",
    "plt.subplot(224)\n",
    "plt.imshow(X_train[3], cmap=plt.get_cmap('gray'))\n",
    "plt.show()"
   ]
  },
  {
   "cell_type": "markdown",
   "metadata": {},
   "source": [
    "## Baseline model with multi-layer perceptrons"
   ]
  },
  {
   "cell_type": "markdown",
   "metadata": {},
   "source": [
    "Do we really need a complex model like a CNN to get the best results with MNIST?\n",
    "\n",
    "You can get very good results using a very simple neural network model with a single hidden layer. In this section we will create a simple multi-layer perceptron model that achieves an error rate of 1.74%. We will use this as a baseline for comparing more complex CNNs."
   ]
  },
  {
   "cell_type": "code",
   "execution_count": 96,
   "metadata": {},
   "outputs": [],
   "source": [
    "# These are already loaded in this notebook:\n",
    "#from keras.datasets import mnist\n",
    "#from keras.models import Sequential\n",
    "#from keras.layers import Dense\n",
    "from keras.layers import Dropout\n",
    "from keras.utils import np_utils"
   ]
  },
  {
   "cell_type": "markdown",
   "metadata": {},
   "source": [
    "The training dataset is structured as a 3-dimensional array of instance, image width, and image height. For a multi-layer perceptron model we must reduce the images down into a vector of pixels. In this case the 28×28 sized images will be 784 pixel input values.\n",
    "\n",
    "We can do this transform using the reshape() function on the NumPy array. We can also reduce our memory requirements by forcing the precision of the pixel values to be 32 bit, the default precision used by Keras anyway.m"
   ]
  },
  {
   "cell_type": "code",
   "execution_count": 98,
   "metadata": {},
   "outputs": [],
   "source": [
    "# Flatten the 28 x 28 images to a 784 vector for each image\n",
    "num_pixels = X_train.shape[1] * X_train.shape[2]\n",
    "X_train = X_train.reshape((X_train.shape[0], num_pixels)).astype('float32')\n",
    "X_test = X_test.reshape((X_test.shape[0], num_pixels)).astype('float32')"
   ]
  },
  {
   "cell_type": "markdown",
   "metadata": {},
   "source": [
    "The pixel values are gray scale between 0 and 255. It is almost always a good idea to perform some scaling of input values when using neural network models. Because the scale is well known and well behaved, we can very quickly normalize the pixel values to the range 0 and 1 by dividing each value by the maximum of 255."
   ]
  },
  {
   "cell_type": "code",
   "execution_count": 99,
   "metadata": {},
   "outputs": [],
   "source": [
    "# Normalize inputs from 0-255 to 0-1\n",
    "X_train = X_train / 255\n",
    "X_test = X_test / 255"
   ]
  },
  {
   "cell_type": "markdown",
   "metadata": {},
   "source": [
    "Finally, the output variable is an integer from 0 to 9. This is a multi-class classification problem. As such, it is good practice to use a one hot encoding of the class values, transforming the vector of class integers into a binary matrix.\n",
    "\n",
    "We can easily do this using the built-in np_utils.to_categorical() helper function in Keras."
   ]
  },
  {
   "cell_type": "code",
   "execution_count": 100,
   "metadata": {},
   "outputs": [],
   "source": [
    "# One hot encode outputs\n",
    "y_train = np_utils.to_categorical(y_train)\n",
    "y_test = np_utils.to_categorical(y_test)\n",
    "num_classes = y_test.shape[1]"
   ]
  },
  {
   "cell_type": "code",
   "execution_count": 113,
   "metadata": {},
   "outputs": [
    {
     "name": "stdout",
     "output_type": "stream",
     "text": [
      "(60000, 10)\n",
      "\n",
      " The training data output has 10 columns, with each column representing the possible output variable integers. A 1 in the column indicates which integer the image is.\n"
     ]
    }
   ],
   "source": [
    "print (y_train.shape)\n",
    "\n",
    "print ('\\n The training data output has 10 columns, with each column representing the possible output variable integers. A 1 in the column indicates which integer the image is.')"
   ]
  },
  {
   "cell_type": "markdown",
   "metadata": {},
   "source": [
    "We are now ready to create our simple neural network model.\n",
    "\n",
    "The model is a simple neural network with one hidden layer with the same number of neurons as there are inputs (784). A rectifier activation function is used for the neurons in the hidden layer.\n",
    "\n",
    "A softmax activation function is used on the output layer to turn the outputs into probability-like values and allow one class of the 10 to be selected as the model’s output prediction. Logarithmic loss is used as the loss function (called categorical_crossentropy in Keras) and the efficient ADAM gradient descent algorithm is used to learn the weights."
   ]
  },
  {
   "cell_type": "code",
   "execution_count": 103,
   "metadata": {},
   "outputs": [
    {
     "name": "stdout",
     "output_type": "stream",
     "text": [
      "784 10\n"
     ]
    }
   ],
   "source": [
    "print (num_pixels, num_classes)"
   ]
  },
  {
   "cell_type": "code",
   "execution_count": 102,
   "metadata": {},
   "outputs": [],
   "source": [
    "# Define baseline model\n",
    "def baseline_model():\n",
    "    # Create model\n",
    "    model = Sequential()\n",
    "    model.add(Dense(num_pixels, input_dim=num_pixels, kernel_initializer='normal', activation='relu'))\n",
    "    model.add(Dense(num_classes, kernel_initializer='normal', activation='softmax'))\n",
    "    \n",
    "    # Compile model\n",
    "    model.compile(loss='categorical_crossentropy', optimizer='adam', metrics=['accuracy'])\n",
    "    \n",
    "    return model"
   ]
  },
  {
   "cell_type": "markdown",
   "metadata": {},
   "source": [
    "The test dataset is used to evaluate the model and a classification error rate is printed."
   ]
  },
  {
   "cell_type": "code",
   "execution_count": 114,
   "metadata": {},
   "outputs": [
    {
     "name": "stdout",
     "output_type": "stream",
     "text": [
      "Train on 60000 samples, validate on 10000 samples\n",
      "Epoch 1/10\n",
      " - 4s - loss: 0.2817 - accuracy: 0.9204 - val_loss: 0.1384 - val_accuracy: 0.9594\n",
      "Epoch 2/10\n",
      " - 4s - loss: 0.1106 - accuracy: 0.9682 - val_loss: 0.0929 - val_accuracy: 0.9709\n",
      "Epoch 3/10\n",
      " - 4s - loss: 0.0706 - accuracy: 0.9793 - val_loss: 0.0763 - val_accuracy: 0.9771\n",
      "Epoch 4/10\n",
      " - 4s - loss: 0.0510 - accuracy: 0.9854 - val_loss: 0.0712 - val_accuracy: 0.9776\n",
      "Epoch 5/10\n",
      " - 4s - loss: 0.0363 - accuracy: 0.9901 - val_loss: 0.0684 - val_accuracy: 0.9782\n",
      "Epoch 6/10\n",
      " - 4s - loss: 0.0255 - accuracy: 0.9933 - val_loss: 0.0596 - val_accuracy: 0.9805\n",
      "Epoch 7/10\n",
      " - 4s - loss: 0.0187 - accuracy: 0.9955 - val_loss: 0.0620 - val_accuracy: 0.9805\n",
      "Epoch 8/10\n",
      " - 4s - loss: 0.0148 - accuracy: 0.9967 - val_loss: 0.0615 - val_accuracy: 0.9801\n",
      "Epoch 9/10\n",
      " - 4s - loss: 0.0100 - accuracy: 0.9983 - val_loss: 0.0668 - val_accuracy: 0.9797\n",
      "Epoch 10/10\n",
      " - 4s - loss: 0.0084 - accuracy: 0.9984 - val_loss: 0.0607 - val_accuracy: 0.9824\n",
      "Baseline Error: 1.76%\n"
     ]
    }
   ],
   "source": [
    "# Build the model\n",
    "model = baseline_model()\n",
    "\n",
    "# Fit the model\n",
    "model.fit(X_train, y_train, validation_data=(X_test, y_test), epochs=10, batch_size=200, verbose=2)\n",
    "\n",
    "# Final evaluation of the model\n",
    "scores = model.evaluate(X_test, y_test, verbose=0)\n",
    "print(\"Baseline Error: %.2f%%\" % (100-scores[1]*100))"
   ]
  },
  {
   "cell_type": "code",
   "execution_count": 115,
   "metadata": {},
   "outputs": [
    {
     "data": {
      "text/plain": [
       "['loss', 'accuracy']"
      ]
     },
     "execution_count": 115,
     "metadata": {},
     "output_type": "execute_result"
    }
   ],
   "source": [
    "model.metrics_names"
   ]
  },
  {
   "cell_type": "markdown",
   "metadata": {},
   "source": [
    "## Simple CNN for MNIST"
   ]
  },
  {
   "cell_type": "markdown",
   "metadata": {},
   "source": [
    "We can also develop a more sophisticated convolutional neural network or CNN model. In this section we will create a simple CNN for MNIST that demonstrates how to use all of the aspects of a modern CNN implementation, including Convolutional layers, Pooling layers and Dropout layers."
   ]
  },
  {
   "cell_type": "code",
   "execution_count": 116,
   "metadata": {},
   "outputs": [],
   "source": [
    "#from keras.datasets import mnist\n",
    "#from keras.models import Sequential\n",
    "#from keras.layers import Dense\n",
    "#from keras.layers import Dropout\n",
    "from keras.layers import Flatten\n",
    "from keras.layers.convolutional import Conv2D\n",
    "from keras.layers.convolutional import MaxPooling2D\n",
    "#from keras.utils import np_utils"
   ]
  },
  {
   "cell_type": "markdown",
   "metadata": {},
   "source": [
    "We need to load the MNIST dataset and reshape it so that it is suitable for use training a CNN. In Keras, the layers used for two-dimensional convolutions expect pixel values with the dimensions [pixels][width][height][channels].\n",
    "\n",
    "Note, we are forcing so-called channels-last ordering for consistency in this example.\n",
    "\n",
    "In the case of RGB, the last dimension pixels would be 3 for the red, green and blue components and it would be like having 3 image inputs for every color image. In the case of MNIST where the pixel values are gray scale, the pixel dimension is set to 1."
   ]
  },
  {
   "cell_type": "code",
   "execution_count": 123,
   "metadata": {},
   "outputs": [
    {
     "name": "stdout",
     "output_type": "stream",
     "text": [
      "60000 10000\n"
     ]
    }
   ],
   "source": [
    "# Load data\n",
    "(X_train, y_train), (X_test, y_test) = mnist.load_data()\n",
    "\n",
    "print (X_train.shape[0], X_test.shape[0])\n",
    "\n",
    "# Reshape to be [samples][width][height][channels]\n",
    "X_train = X_train.reshape(X_train.shape[0], 28, 28, 1).astype('float32')\n",
    "X_test = X_test.reshape(X_test.shape[0], 28, 28, 1).astype('float32')\n",
    "\n",
    "\n",
    "# Normalize inputs from 0-255 to 0-1\n",
    "X_train = X_train / 255\n",
    "X_test = X_test / 255\n",
    "\n",
    "# One hot encode outputs\n",
    "y_train = np_utils.to_categorical(y_train)\n",
    "y_test = np_utils.to_categorical(y_test)\n",
    "num_classes = y_test.shape[1]"
   ]
  },
  {
   "cell_type": "markdown",
   "metadata": {},
   "source": [
    "Next we define our neural network model.\n",
    "\n",
    "Convolutional neural networks are more complex than standard multi-layer perceptrons, so we will start by using a simple structure to begin with that uses all of the elements for state of the art results. Below summarizes the network architecture.\n",
    "\n",
    "    1. The first hidden layer is a convolutional layer called a Convolution2D. The layer has 32 feature maps, which with the size of 5×5 and a rectifier activation function. This is the input layer, expecting images with the structure outline above [pixels][width][height].\n",
    "    2. Next we define a pooling layer that takes the max called MaxPooling2D. It is configured with a pool size of 2×2.\n",
    "    3. The next layer is a regularization layer using dropout called Dropout. It is configured to randomly exclude 20% of neurons in the layer in order to reduce overfitting.\n",
    "    4. Next is a layer that converts the 2D matrix data to a vector called Flatten. It allows the output to be processed by standard fully connected layers.\n",
    "    5. Next a fully connected layer with 128 neurons and rectifier activation function.\n",
    "    6. Finally, the output layer has 10 neurons for the 10 classes and a softmax activation function to output probability-like predictions for each class.\n",
    "As before, the model is trained using logarithmic loss and the ADAM gradient descent algorithm."
   ]
  },
  {
   "cell_type": "code",
   "execution_count": 124,
   "metadata": {},
   "outputs": [],
   "source": [
    "def baseline_model():\n",
    "    # Create model\n",
    "    model = Sequential()\n",
    "    model.add(Conv2D(32, (5, 5), input_shape=(28, 28, 1), activation='relu'))\n",
    "    model.add(MaxPooling2D(pool_size=(2, 2)))\n",
    "    model.add(Dropout(0.2))\n",
    "    model.add(Flatten())\n",
    "    model.add(Dense(128, activation='relu'))\n",
    "    model.add(Dense(num_classes, activation='softmax'))\n",
    "    \n",
    "    # Compile model\n",
    "    model.compile(loss='categorical_crossentropy', optimizer='adam', metrics=['accuracy'])\n",
    "    \n",
    "    return model"
   ]
  },
  {
   "cell_type": "code",
   "execution_count": 126,
   "metadata": {},
   "outputs": [
    {
     "name": "stdout",
     "output_type": "stream",
     "text": [
      "Train on 60000 samples, validate on 10000 samples\n",
      "Epoch 1/10\n",
      " - 21s - loss: 0.2377 - accuracy: 0.9319 - val_loss: 0.0714 - val_accuracy: 0.9780\n",
      "Epoch 2/10\n",
      " - 24s - loss: 0.0687 - accuracy: 0.9798 - val_loss: 0.0475 - val_accuracy: 0.9846\n",
      "Epoch 3/10\n",
      " - 27s - loss: 0.0502 - accuracy: 0.9848 - val_loss: 0.0459 - val_accuracy: 0.9855\n",
      "Epoch 4/10\n",
      " - 21s - loss: 0.0380 - accuracy: 0.9887 - val_loss: 0.0402 - val_accuracy: 0.9852\n",
      "Epoch 5/10\n",
      " - 21s - loss: 0.0331 - accuracy: 0.9903 - val_loss: 0.0336 - val_accuracy: 0.9891\n",
      "Epoch 6/10\n",
      " - 20s - loss: 0.0275 - accuracy: 0.9912 - val_loss: 0.0352 - val_accuracy: 0.9885\n",
      "Epoch 7/10\n",
      " - 21s - loss: 0.0221 - accuracy: 0.9932 - val_loss: 0.0374 - val_accuracy: 0.9868\n",
      "Epoch 8/10\n",
      " - 20s - loss: 0.0193 - accuracy: 0.9941 - val_loss: 0.0318 - val_accuracy: 0.9889\n",
      "Epoch 9/10\n",
      " - 20s - loss: 0.0149 - accuracy: 0.9953 - val_loss: 0.0308 - val_accuracy: 0.9908\n",
      "Epoch 10/10\n",
      " - 20s - loss: 0.0137 - accuracy: 0.9955 - val_loss: 0.0356 - val_accuracy: 0.9891\n",
      "CNN Error: 1.09%\n"
     ]
    }
   ],
   "source": [
    "# Build the model\n",
    "model = baseline_model()\n",
    "\n",
    "# Fit the model\n",
    "model.fit(X_train, y_train, validation_data=(X_test, y_test), epochs=10, batch_size=200, verbose=2)\n",
    "\n",
    "# Final evaluation of the model\n",
    "scores = model.evaluate(X_test, y_test, verbose=0)\n",
    "print(\"CNN Error: %.2f%%\" % (100-scores[1]*100))"
   ]
  },
  {
   "cell_type": "code",
   "execution_count": null,
   "metadata": {},
   "outputs": [],
   "source": []
  }
 ],
 "metadata": {
  "kernelspec": {
   "display_name": "Python 3",
   "language": "python",
   "name": "python3"
  },
  "language_info": {
   "codemirror_mode": {
    "name": "ipython",
    "version": 3
   },
   "file_extension": ".py",
   "mimetype": "text/x-python",
   "name": "python",
   "nbconvert_exporter": "python",
   "pygments_lexer": "ipython3",
   "version": "3.6.10"
  }
 },
 "nbformat": 4,
 "nbformat_minor": 4
}
