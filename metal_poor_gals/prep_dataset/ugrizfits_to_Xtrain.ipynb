{
 "cells": [
  {
   "cell_type": "markdown",
   "metadata": {},
   "source": [
    "# Imports"
   ]
  },
  {
   "cell_type": "code",
   "execution_count": 135,
   "metadata": {},
   "outputs": [],
   "source": [
    "%matplotlib inline\n",
    "\n",
    "import numpy as np\n",
    "import pandas as pd\n",
    "\n",
    "from astropy.coordinates import SkyCoord, FK5\n",
    "from astropy.io import fits\n",
    "from astropy import units as u\n",
    "\n",
    "import matplotlib.pyplot as plt"
   ]
  },
  {
   "cell_type": "markdown",
   "metadata": {},
   "source": [
    "# Load data"
   ]
  },
  {
   "cell_type": "markdown",
   "metadata": {},
   "source": [
    "Looking at one system, already with downloaded ugriz .fits files, first..."
   ]
  },
  {
   "cell_type": "code",
   "execution_count": 220,
   "metadata": {},
   "outputs": [
    {
     "name": "stdout",
     "output_type": "stream",
     "text": [
      "<SkyCoord (ICRS): (ra, dec) in deg\n",
      "    (145.8002, 0.4141723)>\n"
     ]
    }
   ],
   "source": [
    "# Elliptical galaxy\n",
    "uband = fits.open('J0943p0024/frame-u-000756-4-0200.fits')\n",
    "gband = fits.open('J0943p0024/frame-g-000756-4-0200.fits')\n",
    "rband = fits.open('J0943p0024/frame-r-000756-4-0200.fits')\n",
    "iband = fits.open('J0943p0024/frame-i-000756-4-0200.fits')\n",
    "zband = fits.open('J0943p0024/frame-z-000756-4-0200.fits')\n",
    "coords = SkyCoord(145.8002, 0.4141723, unit=(u.deg, u.deg))\n",
    "\n",
    "# Little Cub\n",
    "#uband = fits.open('LittleCub/frame-u-002078-4-0032.fits')\n",
    "#gband = fits.open('LittleCub/frame-g-002078-4-0032.fits')\n",
    "#rband = fits.open('LittleCub/frame-r-002078-4-0032.fits')\n",
    "#iband = fits.open('LittleCub/frame-i-002078-4-0032.fits')\n",
    "#zband = fits.open('LittleCub/frame-z-002078-4-0032.fits')\n",
    "#coords = SkyCoord(\"10:44:42.66 +63:06:02.08\", unit=(u.hourangle, u.deg))\n",
    "\n",
    "# Leo P\n",
    "#uband = fits.open('LeoP/frame-u-005935-5-0260.fits')\n",
    "#gband = fits.open('LeoP/frame-g-005935-5-0260.fits')\n",
    "#rband = fits.open('LeoP/frame-r-005935-5-0260.fits')\n",
    "#iband = fits.open('LeoP/frame-i-005935-5-0260.fits')\n",
    "#zband = fits.open('LeoP/frame-z-005935-5-0260.fits')\n",
    "#coords = SkyCoord(\"10:21:45.12 +18:05:16.88\", unit=(u.hourangle, u.deg))\n",
    "\n",
    "print (coords)"
   ]
  },
  {
   "cell_type": "code",
   "execution_count": 221,
   "metadata": {},
   "outputs": [
    {
     "data": {
      "text/plain": [
       "SIMPLE  =                    T /                                                \n",
       "BITPIX  =                  -32 / 32 bit floating point                          \n",
       "NAXIS   =                    2                                                  \n",
       "NAXIS1  =                 2048                                                  \n",
       "NAXIS2  =                 1489                                                  \n",
       "EXTEND  =                    T /Extensions may be present                       \n",
       "BZERO   =              0.00000 /Set by MRD_SCALE                                \n",
       "BSCALE  =              1.00000 /Set by MRD_SCALE                                \n",
       "TAI     =        4428795142.48 / 1st row - Number of seconds since Nov 17 1858  \n",
       "RA      =            146.37926 / 1st row - Right ascension of telescope boresigh\n",
       "DEC     =           -0.002768  / 1st row - Declination of telescope boresight (d\n",
       "SPA     =              90.005  / 1st row - Camera col position angle wrt north (\n",
       "IPA     =              89.958  / 1st row - Instrument rotator position angle (de\n",
       "IPARATE =              0.0000  / 1st row - Instrument rotator angular velocity (\n",
       "AZ      =            359.84379 / 1st row - Azimuth  (encoder) of tele (0=N?) (de\n",
       "ALT     =            57.307214 / 1st row - Altitude (encoder) of tele        (de\n",
       "FOCUS   = -999999999999.999999 / 1st row - Focus piston (microns?)              \n",
       "DATE-OBS= '22/03/99'           / 1st row - TAI date                             \n",
       "TAIHMS  = '04:52:22.47'        / 1st row - TAI time (HH:MM:SS.SS) (TAI-UT = appr\n",
       "COMMENT  TAI,RA,DEC,SPA,IPA,IPARATE,AZ,ALT,FOCUS at reading of col 0, row 0     \n",
       "ORIGIN  = 'SDSS    '                                                            \n",
       "TELESCOP= '2.5m    '                                                            \n",
       "TIMESYS = 'TAI     '                                                            \n",
       "RUN     =                  756 / Run number                                     \n",
       "FRAME   =                  208 / Frame sequence number within the run           \n",
       "CCDLOC  =                   54 / Survey location of CCD (e.g., rowCol)          \n",
       "STRIPE  =                   10 / Stripe index number (23 <--> eta=0)            \n",
       "STRIP   = 'N          '        / Strip in the stripe being tracked.             \n",
       "FLAVOR  = 'science    '        / Flavor of this run                             \n",
       "SYS_SCN = 'mean       '        / System of the scan great circle (e.g., mean)   \n",
       "EQNX_SCN=           2000.00    / Equinox of the scan great circle. (years)      \n",
       "NODE    =           95.00000   / RA of the great circle's ascending node (deg)  \n",
       "INCL    =           0.00000    / Great circle's inclination wrt cel. eq. (deg)  \n",
       "XBORE   =           -22.74     / Boresight x offset from the array center (mm)  \n",
       "YBORE   =           0.00       / Boresight x offset from the array center (mm)  \n",
       "FIELD   = 'NA      '           / Field sequence number within the run           \n",
       "OBJECT  = '10 N       '        / e.g., 'stripe 50.6 degrees, north strip'       \n",
       "EXPTIME = '53.911552'          / Exposure time (seconds)                        \n",
       "SYSTEM  = 'FK5     '           / System of the TCC coordinates (e.g., mean)     \n",
       "CCDMODE = 'DRIFT   '           / 'STARING' or 'DRIFT'                           \n",
       "C_OBS   =                26324 / CCD row clock rate (usec/row)                  \n",
       "COLBIN  =                    1 / Binning factor perpendicular to the columns    \n",
       "ROWBIN  =                    1 / Binning factor perpendicular to the rows       \n",
       "DAVERS  = 'v12_6   '           / Version of DA software                         \n",
       "COMMENT  CCD-specific parameters                                                \n",
       "CAMROW  =                    5 / Row in the imaging camera                      \n",
       "BADLINES=                    0 / Number of bad lines in frame                   \n",
       "EQUINOX =              2000.00 /                                                \n",
       "SOFTBIAS=                 1000 / software \"bias\" added to all DN                \n",
       "BUNIT   = 'nanomaggy'          / 1 nanomaggy = 3.631e-6 Jy                      \n",
       "FILTER  = 'g       '           / filter used                                    \n",
       "CAMCOL  =                    4 / column in the imaging camera                   \n",
       "VERSION = 'v5_6_3  '                                                            \n",
       "DERV_VER= 'NOCVS:v8_23'                                                         \n",
       "ASTR_VER= 'NOCVS:v5_24'                                                         \n",
       "ASTRO_ID= '2009-05-20T02:05:46 10958'                                           \n",
       "BIAS_ID = 'PS      '                                                            \n",
       "FRAME_ID= '2009-10-26T22:25:35 31889'                                           \n",
       "KO_VER  = 'devel   '                                                            \n",
       "PS_ID   = '2009-05-19T23:36:26 10620 camCol 4'                                  \n",
       "ATVSN   = 'NOCVS:v5_24'        / ASTROTOOLS version tag                         \n",
       "RADECSYS= 'ICRS    '           / International Celestial Ref. System            \n",
       "CTYPE1  = 'RA---TAN'           /Coordinate type                                 \n",
       "CTYPE2  = 'DEC--TAN'           /Coordinate type                                 \n",
       "CUNIT1  = 'deg     '           /Units                                           \n",
       "CUNIT2  = 'deg     '           /Units                                           \n",
       "CRPIX1  =        1025.00000000 /X of reference pixel                            \n",
       "CRPIX2  =        745.000000000 /Y of reference pixel                            \n",
       "CRVAL1  =        145.777050916 /RA of reference pixel (deg)                     \n",
       "CRVAL2  =       0.315246339267 /Dec of reference pixel (deg)                    \n",
       "CD1_1   =    2.54614547408E-09 /RA deg per column pixel                         \n",
       "CD1_2   =    0.000109950047965 /RA deg per row pixel                            \n",
       "CD2_1   =    0.000109947540012 /Dec deg per column pixel                        \n",
       "CD2_2   =    2.08966297467E-08 /Dec deg per row pixel                           \n",
       "HISTORY GSSSPUTAST: Oct 26 22:25:41 2009                                        \n",
       "COMMENT  Calibration parameters                                                 \n",
       "COMMENT  Floats truncated at 10 binary digits with FLOATCOMPRESS                \n",
       "NMGY    =           0.00335884 / Calibration factor [nMgy per count]            \n",
       "NMGYIVAR=            0.0536424 / Calibration factor inverse variance            \n",
       "VERSIDL = '7.0     '           / Version of IDL                                 \n",
       "VERSUTIL= 'v5_5_5  '           / Version of idlutils                            \n",
       "VERSPOP = 'v1_11_1 '           / Version of photoop product                     \n",
       "PCALIB  = '/clusterfs/riemann/raid006/bosswork/groups/boss/calib/2009-06-14/cal'\n",
       "PSKY    = '/clusterfs/riemann/raid006/bosswork/groups/boss/photo/sky' / Value of\n",
       "RERUN   = '301     '           / rerun                                          \n",
       "HISTORY SDSS_FRAME_ASTROM: Astrometry fixed for dr9 Sat Jun  9 12:42:02 2012    "
      ]
     },
     "execution_count": 221,
     "metadata": {},
     "output_type": "execute_result"
    }
   ],
   "source": [
    "gband[0].header"
   ]
  },
  {
   "cell_type": "markdown",
   "metadata": {},
   "source": [
    "# Convert object's RA, DEC to (x,y) pixel location on image"
   ]
  },
  {
   "cell_type": "code",
   "execution_count": 178,
   "metadata": {},
   "outputs": [],
   "source": [
    "def object_RADEC_to_XY(obj_RA, obj_DEC, fits_header):\n",
    "    '''\n",
    "    Function copied from: \n",
    "    https://acrider.wordpress.com/2015/02/04/revised-python-code-for-converting-ra-dec-to-x-y/\n",
    "    \n",
    "    and is closely adapted from IDL's AD2XY.PRO:\n",
    "    http://www.sdss3.org/svn/repo/idlutils/tags/v5_5_5/goddard/pro/astrom/ad2xy.pro\n",
    "    \n",
    "    Also check out:\n",
    "    https://www.galaxyzooforum.org/index.php?topic=280337.0\n",
    "    https://forum.cosmoquest.org/showthread.php?137475-How-to-cut-out-a-region-from-an-SDSS-FITS-image-file\n",
    "    \n",
    "    Parameters\n",
    "    ----------\n",
    "    obj_RA : float\n",
    "        object right ascension in degrees\n",
    "    obj_DEC : float\n",
    "        object declination in degrees\n",
    "    fits_header : HDUList\n",
    "        FITS file header info\n",
    "        \n",
    "    Returns\n",
    "    -------\n",
    "    obj_X : float\n",
    "        object x-coordinate\n",
    "    obj_Y : float\n",
    "        object y-coordinate\n",
    "    '''\n",
    "    \n",
    "    # Make sure the RA, DEC coordinate type is TAN\n",
    "    if (fits_header['CTYPE1'] != 'RA---TAN') or (fits_header['CTYPE2'] != 'DEC--TAN'):\n",
    "        print ('ERROR: Wrong coordinate type CTYPE1 or CTYPE2 for this object!')\n",
    "        print ('\\t CTYPE1 = ', fits_header['CTYPE1'])\n",
    "        print ('\\t CTYPE2 = ', fits_header['CTYPE2'])\n",
    "        \n",
    "    # These values allow translation from RA, DEC to X,Y and vice versa\n",
    "    CRPIX1 = fits_header['CRPIX1'] - 1 # X of reference pixel\n",
    "    CRPIX2 = fits_header['CRPIX2'] - 1 # Y of reference pixel\n",
    "    CRVAL1 = fits_header['CRVAL1'] # RA of reference pixel (deg)\n",
    "    CRVAL2 = fits_header['CRVAL2'] # DEC of reference pixel (deg)\n",
    "    CD1_1 = fits_header['CD1_1'] # RA deg per column pixel\n",
    "    CD1_2 = fits_header['CD1_2'] # RA deg per row pixel\n",
    "    CD2_1 = fits_header['CD2_1'] # DEC deg per column pixel\n",
    "    CD2_2 = fits_header['CD2_2'] # DEC deg per row pixel\n",
    "    \n",
    "    # Find the X, Y values of the galaxy's RA and DEC\n",
    "    det = CD1_1 * CD2_2 - CD1_2 * CD2_1\n",
    "\n",
    "    CD_inv_11 = CD2_2 / det\n",
    "    CD_inv_12 = -CD1_2 / det\n",
    "    CD_inv_21 = -CD2_1 / det\n",
    "    CD_inv_22 = CD1_1 / det\n",
    "\n",
    "    ra0 = CRVAL1 / 180.0 * np.pi\n",
    "    dec0 = CRVAL2 / 180.0 * np.pi\n",
    "    ra = obj_RA / 180.0 * np.pi\n",
    "    dec = obj_DEC / 180.0 * np.pi\n",
    "\n",
    "    denominator = np.sin(dec)*np.sin(dec0) + np.cos(dec)*np.cos(dec0)*np.cos(ra-ra0)\n",
    "\n",
    "    xi = np.cos(dec) * np.sin(ra-ra0) / denominator\n",
    "    eta = (np.sin(dec)*np.cos(dec0) - np.cos(dec)*np.sin(dec0)*np.cos(ra-ra0)) / denominator\n",
    "    xi = xi * 180.0 / np.pi\n",
    "    eta = eta * 180.0 / np.pi\n",
    "\n",
    "    obj_X = CD_inv_11 * xi + CD_inv_12 * eta + CRPIX1\n",
    "    obj_Y = CD_inv_21 * xi + CD_inv_22 * eta + CRPIX2\n",
    "\n",
    "    return obj_X, obj_Y"
   ]
  },
  {
   "cell_type": "markdown",
   "metadata": {},
   "source": [
    "## Calculate (x,y) pixel coordinates for ugriz bands"
   ]
  },
  {
   "cell_type": "code",
   "execution_count": 222,
   "metadata": {},
   "outputs": [
    {
     "name": "stdout",
     "output_type": "stream",
     "text": [
      "1924.9745803317744 949.4915849725992\n",
      "1923.7172083797932 954.5158166929345\n",
      "1922.8381353388913 943.7396602170237\n",
      "1922.6110655118428 947.0572008331305\n",
      "1921.714530004453 951.4158588720214\n"
     ]
    }
   ],
   "source": [
    "ux, uy = object_RADEC_to_XY(coords.ra.value, coords.dec.value, uband[0].header)\n",
    "print (ux, uy)\n",
    "\n",
    "gx, gy = object_RADEC_to_XY(coords.ra.value, coords.dec.value, gband[0].header)\n",
    "print (gx, gy)\n",
    "\n",
    "rx, ry = object_RADEC_to_XY(coords.ra.value, coords.dec.value, rband[0].header)\n",
    "print (rx, ry)\n",
    "\n",
    "ix, iy = object_RADEC_to_XY(coords.ra.value, coords.dec.value, iband[0].header)\n",
    "print (ix, iy)\n",
    "\n",
    "zx, zy = object_RADEC_to_XY(coords.ra.value, coords.dec.value, zband[0].header)\n",
    "print (zx, zy)"
   ]
  },
  {
   "cell_type": "markdown",
   "metadata": {},
   "source": [
    "## Determine x and y range for 32 x 32 image"
   ]
  },
  {
   "cell_type": "markdown",
   "metadata": {},
   "source": [
    "Centered around the central (x, y) pixel of object/galaxy"
   ]
  },
  {
   "cell_type": "markdown",
   "metadata": {},
   "source": [
    "### Test on just g-band image"
   ]
  },
  {
   "cell_type": "code",
   "execution_count": 180,
   "metadata": {},
   "outputs": [
    {
     "data": {
      "text/plain": [
       "(1489, 2048)"
      ]
     },
     "execution_count": 180,
     "metadata": {},
     "output_type": "execute_result"
    }
   ],
   "source": [
    "gband[0].shape # rows (number of y pixels), columns (number of x pixels)"
   ]
  },
  {
   "cell_type": "code",
   "execution_count": 181,
   "metadata": {},
   "outputs": [
    {
     "data": {
      "text/plain": [
       "(1924, 955)"
      ]
     },
     "execution_count": 181,
     "metadata": {},
     "output_type": "execute_result"
    }
   ],
   "source": [
    "int(round(gx, 0)), int(round(gy, 0))"
   ]
  },
  {
   "cell_type": "code",
   "execution_count": 182,
   "metadata": {},
   "outputs": [
    {
     "data": {
      "text/plain": [
       "(1923.7172083797932, 954.5158166929345)"
      ]
     },
     "execution_count": 182,
     "metadata": {},
     "output_type": "execute_result"
    }
   ],
   "source": [
    "gx, gy"
   ]
  },
  {
   "cell_type": "code",
   "execution_count": 223,
   "metadata": {},
   "outputs": [
    {
     "data": {
      "image/png": "[encoded data removed]",
      "text/plain": [
       "<Figure size 432x288 with 1 Axes>"
      ]
     },
     "metadata": {
      "needs_background": "light"
     },
     "output_type": "display_data"
    }
   ],
   "source": [
    "gxmin, gxmax = int(round(gx, 0))-16, int(round(gx, 0))+16\n",
    "gymin, gymax = int(round(gy, 0))-16, int(round(gy, 0))+16\n",
    "\n",
    "plt.imshow(gband[0].data, vmin=0.006, vmax=0.8)\n",
    "plt.scatter(gx, gy)\n",
    "plt.gca().invert_yaxis()\n",
    "plt.xlim(gxmin, gxmax)\n",
    "plt.ylim(gymin, gymax)\n",
    "plt.show()"
   ]
  },
  {
   "cell_type": "code",
   "execution_count": 224,
   "metadata": {},
   "outputs": [],
   "source": [
    "# x and y range defining the 32 x 32 pixel image\n",
    "uxmin, uxmax = int(round(ux, 0))-16, int(round(ux, 0))+16\n",
    "uymin, uymax = int(round(uy, 0))-16, int(round(uy, 0))+16\n",
    "\n",
    "gxmin, gxmax = int(round(gx, 0))-16, int(round(gx, 0))+16\n",
    "gymin, gymax = int(round(gy, 0))-16, int(round(gy, 0))+16\n",
    "\n",
    "rxmin, rxmax = int(round(rx, 0))-16, int(round(rx, 0))+16\n",
    "rymin, rymax = int(round(ry, 0))-16, int(round(ry, 0))+16\n",
    "\n",
    "ixmin, ixmax = int(round(ix, 0))-16, int(round(ix, 0))+16\n",
    "iymin, iymax = int(round(iy, 0))-16, int(round(iy, 0))+16\n",
    "\n",
    "zxmin, zxmax = int(round(zx, 0))-16, int(round(zx, 0))+16\n",
    "zymin, zymax = int(round(zy, 0))-16, int(round(zy, 0))+16"
   ]
  },
  {
   "cell_type": "code",
   "execution_count": 225,
   "metadata": {},
   "outputs": [
    {
     "name": "stdout",
     "output_type": "stream",
     "text": [
      "-0.2084961 287.5\n",
      "-0.09289551 177.0\n",
      "-0.13183594 221.5\n",
      "-0.24023438 115.125\n",
      "-1.1269531 1920.0\n",
      "[-0.0411377   0.00216293  0.04534912] [-0.01782227 -0.00014567  0.02017212] [-0.02670288  0.00140381  0.02984619] [-0.04351807  0.00093651  0.05029297] [-0.20996094  0.01205444  0.23486328]\n"
     ]
    }
   ],
   "source": [
    "# Potentially useful info for vmin, vmax in imshow(), but not necessary for cropping image\n",
    "print (np.min(uband[0].data.flatten()), np.max(uband[0].data.flatten()))\n",
    "print (np.min(gband[0].data.flatten()), np.max(gband[0].data.flatten()))\n",
    "print (np.min(rband[0].data.flatten()), np.max(rband[0].data.flatten()))\n",
    "print (np.min(iband[0].data.flatten()), np.max(iband[0].data.flatten()))\n",
    "print (np.min(zband[0].data.flatten()), np.max(zband[0].data.flatten()))\n",
    "\n",
    "ulev = np.percentile(uband[0].data.flatten(), [16, 50, 84])\n",
    "glev = np.percentile(gband[0].data.flatten(), [16, 50, 84])\n",
    "rlev = np.percentile(rband[0].data.flatten(), [16, 50, 84])\n",
    "ilev = np.percentile(iband[0].data.flatten(), [16, 50, 84])\n",
    "zlev = np.percentile(zband[0].data.flatten(), [16, 50, 84])\n",
    "\n",
    "print (ulev, glev, rlev, ilev, zlev)"
   ]
  },
  {
   "cell_type": "code",
   "execution_count": 186,
   "metadata": {},
   "outputs": [],
   "source": [
    "# Desired N x N image size\n",
    "pix_sz = 16"
   ]
  },
  {
   "cell_type": "code",
   "execution_count": 226,
   "metadata": {},
   "outputs": [
    {
     "name": "stderr",
     "output_type": "stream",
     "text": [
      "/Users/thsyu/.pyenv/versions/anaconda3-5.1.0/lib/python3.6/site-packages/ipykernel_launcher.py:25: UserWarning: Matplotlib is currently using module://ipykernel.pylab.backend_inline, which is a non-GUI backend, so cannot show the figure.\n"
     ]
    },
    {
     "data": {
      "image/png": "[encoded data removed]",
      "text/plain": [
       "<Figure size 1800x360 with 5 Axes>"
      ]
     },
     "metadata": {
      "needs_background": "light"
     },
     "output_type": "display_data"
    }
   ],
   "source": [
    "# Plot cropped ugriz images with central pixel of galaxy in that band\n",
    "fig, (ax1, ax2, ax3, ax4, ax5) = plt.subplots(1, 5, figsize=(25, 5))\n",
    "\n",
    "ax1.imshow(uband[0].data[uymin:uymax, uxmin:uxmax], vmin=0.002, vmax=0.4)\n",
    "ax1.scatter(pix_sz, pix_sz, marker='*', color='black', s=100)\n",
    "ax1.invert_yaxis()\n",
    "\n",
    "ax2.imshow(gband[0].data[gymin:gymax, gxmin:gxmax], vmin=0.0001, vmax=1.0)\n",
    "ax2.scatter(pix_sz, pix_sz, marker='*', color='black', s=100)\n",
    "ax2.invert_yaxis()\n",
    "\n",
    "ax3.imshow(rband[0].data[rymin:rymax, rxmin:rxmax], vmin=0.002, vmax=2.0)\n",
    "ax3.scatter(pix_sz, pix_sz, marker='*', color='black', s=100)\n",
    "ax3.invert_yaxis()\n",
    "\n",
    "ax4.imshow(iband[0].data[iymin:iymax, ixmin:ixmax], vmin=0.001, vmax=3.0)\n",
    "ax4.scatter(pix_sz, pix_sz, marker='*', color='black', s=100)\n",
    "ax4.invert_yaxis()\n",
    "\n",
    "ax5.imshow(zband[0].data[zymin:zymax, zxmin:zxmax], vmin=0.002, vmax=10.)\n",
    "ax5.scatter(pix_sz, pix_sz, marker='*', color='black', s=100)\n",
    "ax5.invert_yaxis()\n",
    "\n",
    "fig.savefig('J0943p0024/J0943p0024_ugriz_fits.pdf')\n",
    "fig.show()"
   ]
  },
  {
   "cell_type": "code",
   "execution_count": 219,
   "metadata": {},
   "outputs": [
    {
     "name": "stderr",
     "output_type": "stream",
     "text": [
      "/Users/thsyu/.pyenv/versions/anaconda3-5.1.0/lib/python3.6/site-packages/ipykernel_launcher.py:25: UserWarning: Matplotlib is currently using module://ipykernel.pylab.backend_inline, which is a non-GUI backend, so cannot show the figure.\n"
     ]
    },
    {
     "data": {
      "image/png": "[encoded data removed]",
      "text/plain": [
       "<Figure size 1800x360 with 5 Axes>"
      ]
     },
     "metadata": {
      "needs_background": "light"
     },
     "output_type": "display_data"
    }
   ],
   "source": [
    "# Plot cropped ugriz images with central pixel of galaxy in that band\n",
    "fig, (ax1, ax2, ax3, ax4, ax5) = plt.subplots(1, 5, figsize=(25, 5))\n",
    "\n",
    "ax1.imshow(uband[0].data[uymin:uymax, uxmin:uxmax], vmin=0.02, vmax=0.4)\n",
    "ax1.scatter(pix_sz, pix_sz, marker='*', color='white', s=100)\n",
    "ax1.invert_yaxis()\n",
    "\n",
    "ax2.imshow(gband[0].data[gymin:gymax, gxmin:gxmax], vmin=0.01, vmax=0.2)\n",
    "ax2.scatter(pix_sz, pix_sz, marker='*', color='white', s=100)\n",
    "ax2.invert_yaxis()\n",
    "\n",
    "ax3.imshow(rband[0].data[rymin:rymax, rxmin:rxmax], vmin=0.02, vmax=0.2)\n",
    "ax3.scatter(pix_sz, pix_sz, marker='*', color='white', s=100)\n",
    "ax3.invert_yaxis()\n",
    "\n",
    "ax4.imshow(iband[0].data[iymin:iymax, ixmin:ixmax], vmin=0.01, vmax=0.4)\n",
    "ax4.scatter(pix_sz, pix_sz, marker='*', color='white', s=100)\n",
    "ax4.invert_yaxis()\n",
    "\n",
    "ax5.imshow(zband[0].data[zymin:zymax, zxmin:zxmax], vmin=0.002, vmax=0.8)\n",
    "ax5.scatter(pix_sz, pix_sz, marker='*', color='white', s=100)\n",
    "ax5.invert_yaxis()\n",
    "\n",
    "fig.savefig('LittleCub/LittleCub_ugriz_fits.pdf')\n",
    "fig.show()"
   ]
  },
  {
   "cell_type": "code",
   "execution_count": 213,
   "metadata": {},
   "outputs": [
    {
     "name": "stderr",
     "output_type": "stream",
     "text": [
      "/Users/thsyu/.pyenv/versions/anaconda3-5.1.0/lib/python3.6/site-packages/ipykernel_launcher.py:24: UserWarning: Matplotlib is currently using module://ipykernel.pylab.backend_inline, which is a non-GUI backend, so cannot show the figure.\n"
     ]
    },
    {
     "data": {
      "image/png": "[encoded data removed]",
      "text/plain": [
       "<Figure size 1800x360 with 5 Axes>"
      ]
     },
     "metadata": {
      "needs_background": "light"
     },
     "output_type": "display_data"
    }
   ],
   "source": [
    "fig, (ax1, ax2, ax3, ax4, ax5) = plt.subplots(1, 5, figsize=(25, 5))\n",
    "\n",
    "ax1.imshow(uband[0].data[uymin:uymax, uxmin:uxmax], vmin=0.02, vmax=0.4)\n",
    "ax1.scatter(pix_sz, pix_sz, marker='*', color='white', s=100)\n",
    "ax1.invert_yaxis()\n",
    "\n",
    "ax2.imshow(gband[0].data[gymin:gymax, gxmin:gxmax], vmin=0.01, vmax=0.2)\n",
    "ax2.scatter(pix_sz, pix_sz, marker='*', color='white', s=100)\n",
    "ax2.invert_yaxis()\n",
    "\n",
    "ax3.imshow(rband[0].data[rymin:rymax, rxmin:rxmax], vmin=0.02, vmax=0.2)\n",
    "ax3.scatter(pix_sz, pix_sz, marker='*', color='white', s=100)\n",
    "ax3.invert_yaxis()\n",
    "\n",
    "ax4.imshow(iband[0].data[iymin:iymax, ixmin:ixmax], vmin=0.01, vmax=0.4)\n",
    "ax4.scatter(pix_sz, pix_sz, marker='*', color='white', s=100)\n",
    "ax4.invert_yaxis()\n",
    "\n",
    "ax5.imshow(zband[0].data[zymin:zymax, zxmin:zxmax], vmin=0.002, vmax=0.6)\n",
    "ax5.scatter(pix_sz, pix_sz, marker='*', color='white', s=100)\n",
    "ax5.invert_yaxis()\n",
    "\n",
    "fig.savefig('LeoP/LeoP_ugriz_fits.pdf')\n",
    "fig.show()"
   ]
  },
  {
   "cell_type": "markdown",
   "metadata": {},
   "source": [
    "## Stack ugriz flux values in the 64 x 64 cropped image"
   ]
  },
  {
   "cell_type": "code",
   "execution_count": 198,
   "metadata": {},
   "outputs": [],
   "source": [
    "stack_img = np.zeros((2*pix_sz, 2*pix_sz, 5))"
   ]
  },
  {
   "cell_type": "code",
   "execution_count": 199,
   "metadata": {},
   "outputs": [],
   "source": [
    "stack_img[:, :, 0] = uband[0].data[uymin:uymax, uxmin:uxmax]\n",
    "stack_img[:, :, 1] = gband[0].data[gymin:gymax, gxmin:gxmax]\n",
    "stack_img[:, :, 2] = rband[0].data[rymin:rymax, rxmin:rxmax]\n",
    "stack_img[:, :, 3] = iband[0].data[iymin:iymax, ixmin:ixmax]\n",
    "stack_img[:, :, 4] = zband[0].data[zymin:zymax, zxmin:zxmax]"
   ]
  },
  {
   "cell_type": "markdown",
   "metadata": {},
   "source": [
    "## Test stacking multiple images"
   ]
  },
  {
   "cell_type": "code",
   "execution_count": 190,
   "metadata": {},
   "outputs": [],
   "source": [
    "#all_imgs = np.zeros((3, (2*pix_sz)**2*5))"
   ]
  },
  {
   "cell_type": "code",
   "execution_count": 209,
   "metadata": {},
   "outputs": [],
   "source": [
    "#all_imgs[0] = stack_img.flatten()\n",
    "#all_imgs[1] = stack_img.flatten()\n",
    "all_imgs[2] = stack_img.flatten()"
   ]
  },
  {
   "cell_type": "code",
   "execution_count": 210,
   "metadata": {},
   "outputs": [
    {
     "data": {
      "text/plain": [
       "array([[-0.02682495,  0.14379883,  0.27050781, ...,  0.2421875 ,\n",
       "         0.23901367,  0.71484375],\n",
       "       [-0.01907349,  0.015625  ,  0.0546875 , ..., -0.00163269,\n",
       "         0.00390625, -0.11218262],\n",
       "       [-0.01907349,  0.015625  ,  0.0546875 , ..., -0.00163269,\n",
       "         0.00390625, -0.11218262]])"
      ]
     },
     "execution_count": 210,
     "metadata": {},
     "output_type": "execute_result"
    }
   ],
   "source": [
    "all_imgs"
   ]
  },
  {
   "cell_type": "markdown",
   "metadata": {},
   "source": [
    "## Save ugriz flux values in flattened array"
   ]
  },
  {
   "cell_type": "code",
   "execution_count": 212,
   "metadata": {},
   "outputs": [],
   "source": [
    "np.savetxt('test_output_Xtrain_format.txt', all_imgs, fmt='%.12f', delimiter=\" \", newline=\"\\n\")"
   ]
  },
  {
   "cell_type": "markdown",
   "metadata": {},
   "source": [
    "## Test reading in the flattened array(s) and reshaping"
   ]
  },
  {
   "cell_type": "code",
   "execution_count": 115,
   "metadata": {},
   "outputs": [],
   "source": [
    "tst = np.loadtxt('test.txt')"
   ]
  },
  {
   "cell_type": "code",
   "execution_count": 116,
   "metadata": {},
   "outputs": [
    {
     "data": {
      "text/plain": [
       "(2, 5120)"
      ]
     },
     "execution_count": 116,
     "metadata": {},
     "output_type": "execute_result"
    }
   ],
   "source": [
    "tst.shape"
   ]
  },
  {
   "cell_type": "code",
   "execution_count": 117,
   "metadata": {},
   "outputs": [],
   "source": [
    "X_train = tst.reshape(2, 2*pix_sz, 2*pix_sz, 5)"
   ]
  },
  {
   "cell_type": "code",
   "execution_count": 118,
   "metadata": {},
   "outputs": [
    {
     "data": {
      "text/plain": [
       "((32, 32, 5), (32, 32, 5))"
      ]
     },
     "execution_count": 118,
     "metadata": {},
     "output_type": "execute_result"
    }
   ],
   "source": [
    "X_train[0].shape, X_train[1].shape"
   ]
  },
  {
   "cell_type": "code",
   "execution_count": 119,
   "metadata": {},
   "outputs": [
    {
     "data": {
      "text/plain": [
       "(2, 32, 32, 5)"
      ]
     },
     "execution_count": 119,
     "metadata": {},
     "output_type": "execute_result"
    }
   ],
   "source": [
    "X_train.shape"
   ]
  },
  {
   "cell_type": "markdown",
   "metadata": {},
   "source": [
    "# galSpec query results"
   ]
  },
  {
   "cell_type": "code",
   "execution_count": 123,
   "metadata": {},
   "outputs": [],
   "source": [
    "galspec = pd.read_csv('galspec_RS_uimg.csv', delimiter=',')"
   ]
  },
  {
   "cell_type": "code",
   "execution_count": 124,
   "metadata": {},
   "outputs": [
    {
     "data": {
      "text/html": [
       "<div>\n",
       "<style scoped>\n",
       "    .dataframe tbody tr th:only-of-type {\n",
       "        vertical-align: middle;\n",
       "    }\n",
       "\n",
       "    .dataframe tbody tr th {\n",
       "        vertical-align: top;\n",
       "    }\n",
       "\n",
       "    .dataframe thead th {\n",
       "        text-align: right;\n",
       "    }\n",
       "</style>\n",
       "<table border=\"1\" class=\"dataframe\">\n",
       "  <thead>\n",
       "    <tr style=\"text-align: right;\">\n",
       "      <th></th>\n",
       "      <th>specObjID</th>\n",
       "      <th>oii_3726_flux</th>\n",
       "      <th>oii_3726_flux_err</th>\n",
       "      <th>oii_3729_flux</th>\n",
       "      <th>oii_3729_flux_err</th>\n",
       "      <th>oiii_4363_flux</th>\n",
       "      <th>oiii_4363_flux_err</th>\n",
       "      <th>h_beta_flux</th>\n",
       "      <th>h_beta_flux_err</th>\n",
       "      <th>oiii_4959_flux</th>\n",
       "      <th>...</th>\n",
       "      <th>z_warning</th>\n",
       "      <th>targettype</th>\n",
       "      <th>spectrotype</th>\n",
       "      <th>subclass</th>\n",
       "      <th>sn_median</th>\n",
       "      <th>reliable</th>\n",
       "      <th>run</th>\n",
       "      <th>camcol</th>\n",
       "      <th>field</th>\n",
       "      <th>uimg</th>\n",
       "    </tr>\n",
       "  </thead>\n",
       "  <tbody>\n",
       "    <tr>\n",
       "      <th>0</th>\n",
       "      <td>299489676975171584</td>\n",
       "      <td>307.00140</td>\n",
       "      <td>2327.571000</td>\n",
       "      <td>34.059770</td>\n",
       "      <td>159.323600</td>\n",
       "      <td>2.330947</td>\n",
       "      <td>6.684836</td>\n",
       "      <td>98.786780</td>\n",
       "      <td>6.727546</td>\n",
       "      <td>30.881300</td>\n",
       "      <td>...</td>\n",
       "      <td>0</td>\n",
       "      <td>GALAXY</td>\n",
       "      <td>GALAXY</td>\n",
       "      <td>NaN</td>\n",
       "      <td>38.082610</td>\n",
       "      <td>1</td>\n",
       "      <td>756.0</td>\n",
       "      <td>1.0</td>\n",
       "      <td>206.0</td>\n",
       "      <td>http://dr16.sdss.org/sas/dr16/eboss/photoObj/f...</td>\n",
       "    </tr>\n",
       "    <tr>\n",
       "      <th>1</th>\n",
       "      <td>299489677444933632</td>\n",
       "      <td>0.00000</td>\n",
       "      <td>-0.764372</td>\n",
       "      <td>0.000000</td>\n",
       "      <td>-0.764372</td>\n",
       "      <td>14.544610</td>\n",
       "      <td>6.551525</td>\n",
       "      <td>119.495600</td>\n",
       "      <td>6.650275</td>\n",
       "      <td>24.923760</td>\n",
       "      <td>...</td>\n",
       "      <td>0</td>\n",
       "      <td>GALAXY</td>\n",
       "      <td>GALAXY</td>\n",
       "      <td>STARFORMING</td>\n",
       "      <td>39.110620</td>\n",
       "      <td>1</td>\n",
       "      <td>756.0</td>\n",
       "      <td>1.0</td>\n",
       "      <td>206.0</td>\n",
       "      <td>http://dr16.sdss.org/sas/dr16/eboss/photoObj/f...</td>\n",
       "    </tr>\n",
       "    <tr>\n",
       "      <th>2</th>\n",
       "      <td>299490502078654464</td>\n",
       "      <td>39.05738</td>\n",
       "      <td>7.645567</td>\n",
       "      <td>27.096570</td>\n",
       "      <td>7.928473</td>\n",
       "      <td>0.903860</td>\n",
       "      <td>3.333012</td>\n",
       "      <td>25.640470</td>\n",
       "      <td>2.906838</td>\n",
       "      <td>9.876856</td>\n",
       "      <td>...</td>\n",
       "      <td>0</td>\n",
       "      <td>GALAXY</td>\n",
       "      <td>GALAXY</td>\n",
       "      <td>STARFORMING</td>\n",
       "      <td>18.075250</td>\n",
       "      <td>1</td>\n",
       "      <td>1239.0</td>\n",
       "      <td>2.0</td>\n",
       "      <td>175.0</td>\n",
       "      <td>http://dr16.sdss.org/sas/dr16/eboss/photoObj/f...</td>\n",
       "    </tr>\n",
       "    <tr>\n",
       "      <th>3</th>\n",
       "      <td>299491051364706304</td>\n",
       "      <td>29.87828</td>\n",
       "      <td>6.475568</td>\n",
       "      <td>19.592310</td>\n",
       "      <td>6.553017</td>\n",
       "      <td>-1.443974</td>\n",
       "      <td>3.117991</td>\n",
       "      <td>47.366500</td>\n",
       "      <td>3.055110</td>\n",
       "      <td>0.172112</td>\n",
       "      <td>...</td>\n",
       "      <td>0</td>\n",
       "      <td>GALAXY</td>\n",
       "      <td>GALAXY</td>\n",
       "      <td>STARBURST</td>\n",
       "      <td>5.252150</td>\n",
       "      <td>1</td>\n",
       "      <td>NaN</td>\n",
       "      <td>NaN</td>\n",
       "      <td>NaN</td>\n",
       "      <td>NaN</td>\n",
       "    </tr>\n",
       "    <tr>\n",
       "      <th>4</th>\n",
       "      <td>299491051834468352</td>\n",
       "      <td>48.75391</td>\n",
       "      <td>5.241384</td>\n",
       "      <td>47.949990</td>\n",
       "      <td>5.445445</td>\n",
       "      <td>-6.008739</td>\n",
       "      <td>2.396007</td>\n",
       "      <td>38.332260</td>\n",
       "      <td>2.279489</td>\n",
       "      <td>12.637830</td>\n",
       "      <td>...</td>\n",
       "      <td>0</td>\n",
       "      <td>GALAXY</td>\n",
       "      <td>GALAXY</td>\n",
       "      <td>STARFORMING</td>\n",
       "      <td>8.069353</td>\n",
       "      <td>1</td>\n",
       "      <td>756.0</td>\n",
       "      <td>1.0</td>\n",
       "      <td>206.0</td>\n",
       "      <td>http://dr16.sdss.org/sas/dr16/eboss/photoObj/f...</td>\n",
       "    </tr>\n",
       "    <tr>\n",
       "      <th>...</th>\n",
       "      <td>...</td>\n",
       "      <td>...</td>\n",
       "      <td>...</td>\n",
       "      <td>...</td>\n",
       "      <td>...</td>\n",
       "      <td>...</td>\n",
       "      <td>...</td>\n",
       "      <td>...</td>\n",
       "      <td>...</td>\n",
       "      <td>...</td>\n",
       "      <td>...</td>\n",
       "      <td>...</td>\n",
       "      <td>...</td>\n",
       "      <td>...</td>\n",
       "      <td>...</td>\n",
       "      <td>...</td>\n",
       "      <td>...</td>\n",
       "      <td>...</td>\n",
       "      <td>...</td>\n",
       "      <td>...</td>\n",
       "      <td>...</td>\n",
       "    </tr>\n",
       "    <tr>\n",
       "      <th>252451</th>\n",
       "      <td>3348585829176993792</td>\n",
       "      <td>23.97762</td>\n",
       "      <td>3.755828</td>\n",
       "      <td>25.246790</td>\n",
       "      <td>3.795217</td>\n",
       "      <td>2.233486</td>\n",
       "      <td>2.257101</td>\n",
       "      <td>19.122970</td>\n",
       "      <td>2.194143</td>\n",
       "      <td>4.510865</td>\n",
       "      <td>...</td>\n",
       "      <td>0</td>\n",
       "      <td>GALAXY</td>\n",
       "      <td>GALAXY</td>\n",
       "      <td>NaN</td>\n",
       "      <td>20.013680</td>\n",
       "      <td>1</td>\n",
       "      <td>4679.0</td>\n",
       "      <td>1.0</td>\n",
       "      <td>254.0</td>\n",
       "      <td>http://dr16.sdss.org/sas/dr16/eboss/photoObj/f...</td>\n",
       "    </tr>\n",
       "    <tr>\n",
       "      <th>252452</th>\n",
       "      <td>3348590776979318784</td>\n",
       "      <td>99.57286</td>\n",
       "      <td>4.212568</td>\n",
       "      <td>89.888190</td>\n",
       "      <td>4.095414</td>\n",
       "      <td>2.968016</td>\n",
       "      <td>2.169650</td>\n",
       "      <td>177.054800</td>\n",
       "      <td>3.238337</td>\n",
       "      <td>13.914340</td>\n",
       "      <td>...</td>\n",
       "      <td>0</td>\n",
       "      <td>GALAXY</td>\n",
       "      <td>GALAXY</td>\n",
       "      <td>STARBURST</td>\n",
       "      <td>20.941320</td>\n",
       "      <td>1</td>\n",
       "      <td>4679.0</td>\n",
       "      <td>1.0</td>\n",
       "      <td>251.0</td>\n",
       "      <td>http://dr16.sdss.org/sas/dr16/eboss/photoObj/f...</td>\n",
       "    </tr>\n",
       "    <tr>\n",
       "      <th>252453</th>\n",
       "      <td>3348592976002574336</td>\n",
       "      <td>0.00000</td>\n",
       "      <td>-0.760245</td>\n",
       "      <td>0.000000</td>\n",
       "      <td>-0.760245</td>\n",
       "      <td>-1.269585</td>\n",
       "      <td>1.310876</td>\n",
       "      <td>9.911286</td>\n",
       "      <td>1.339699</td>\n",
       "      <td>5.348741</td>\n",
       "      <td>...</td>\n",
       "      <td>0</td>\n",
       "      <td>GALAXY</td>\n",
       "      <td>GALAXY</td>\n",
       "      <td>STARFORMING</td>\n",
       "      <td>9.299877</td>\n",
       "      <td>1</td>\n",
       "      <td>6161.0</td>\n",
       "      <td>5.0</td>\n",
       "      <td>124.0</td>\n",
       "      <td>http://dr16.sdss.org/sas/dr16/eboss/photoObj/f...</td>\n",
       "    </tr>\n",
       "    <tr>\n",
       "      <th>252454</th>\n",
       "      <td>3348596274537457664</td>\n",
       "      <td>123.97060</td>\n",
       "      <td>4.732935</td>\n",
       "      <td>141.308800</td>\n",
       "      <td>4.831325</td>\n",
       "      <td>0.485705</td>\n",
       "      <td>1.924320</td>\n",
       "      <td>111.930900</td>\n",
       "      <td>2.520613</td>\n",
       "      <td>22.000050</td>\n",
       "      <td>...</td>\n",
       "      <td>0</td>\n",
       "      <td>GALAXY</td>\n",
       "      <td>GALAXY</td>\n",
       "      <td>STARBURST</td>\n",
       "      <td>16.138150</td>\n",
       "      <td>1</td>\n",
       "      <td>2207.0</td>\n",
       "      <td>5.0</td>\n",
       "      <td>169.0</td>\n",
       "      <td>http://dr16.sdss.org/sas/dr16/eboss/photoObj/f...</td>\n",
       "    </tr>\n",
       "    <tr>\n",
       "      <th>252455</th>\n",
       "      <td>3348599023316527104</td>\n",
       "      <td>18.34226</td>\n",
       "      <td>2.972998</td>\n",
       "      <td>9.916848</td>\n",
       "      <td>2.900549</td>\n",
       "      <td>-1.211788</td>\n",
       "      <td>1.922055</td>\n",
       "      <td>19.759210</td>\n",
       "      <td>1.660344</td>\n",
       "      <td>4.328686</td>\n",
       "      <td>...</td>\n",
       "      <td>0</td>\n",
       "      <td>GALAXY</td>\n",
       "      <td>GALAXY</td>\n",
       "      <td>STARFORMING</td>\n",
       "      <td>16.008520</td>\n",
       "      <td>1</td>\n",
       "      <td>6161.0</td>\n",
       "      <td>5.0</td>\n",
       "      <td>119.0</td>\n",
       "      <td>http://dr16.sdss.org/sas/dr16/eboss/photoObj/f...</td>\n",
       "    </tr>\n",
       "  </tbody>\n",
       "</table>\n",
       "<p>252456 rows × 37 columns</p>\n",
       "</div>"
      ],
      "text/plain": [
       "                  specObjID  oii_3726_flux  oii_3726_flux_err  oii_3729_flux  \\\n",
       "0        299489676975171584      307.00140        2327.571000      34.059770   \n",
       "1        299489677444933632        0.00000          -0.764372       0.000000   \n",
       "2        299490502078654464       39.05738           7.645567      27.096570   \n",
       "3        299491051364706304       29.87828           6.475568      19.592310   \n",
       "4        299491051834468352       48.75391           5.241384      47.949990   \n",
       "...                     ...            ...                ...            ...   \n",
       "252451  3348585829176993792       23.97762           3.755828      25.246790   \n",
       "252452  3348590776979318784       99.57286           4.212568      89.888190   \n",
       "252453  3348592976002574336        0.00000          -0.760245       0.000000   \n",
       "252454  3348596274537457664      123.97060           4.732935     141.308800   \n",
       "252455  3348599023316527104       18.34226           2.972998       9.916848   \n",
       "\n",
       "        oii_3729_flux_err  oiii_4363_flux  oiii_4363_flux_err  h_beta_flux  \\\n",
       "0              159.323600        2.330947            6.684836    98.786780   \n",
       "1               -0.764372       14.544610            6.551525   119.495600   \n",
       "2                7.928473        0.903860            3.333012    25.640470   \n",
       "3                6.553017       -1.443974            3.117991    47.366500   \n",
       "4                5.445445       -6.008739            2.396007    38.332260   \n",
       "...                   ...             ...                 ...          ...   \n",
       "252451           3.795217        2.233486            2.257101    19.122970   \n",
       "252452           4.095414        2.968016            2.169650   177.054800   \n",
       "252453          -0.760245       -1.269585            1.310876     9.911286   \n",
       "252454           4.831325        0.485705            1.924320   111.930900   \n",
       "252455           2.900549       -1.211788            1.922055    19.759210   \n",
       "\n",
       "        h_beta_flux_err  oiii_4959_flux  ...  z_warning  targettype  \\\n",
       "0              6.727546       30.881300  ...          0      GALAXY   \n",
       "1              6.650275       24.923760  ...          0      GALAXY   \n",
       "2              2.906838        9.876856  ...          0      GALAXY   \n",
       "3              3.055110        0.172112  ...          0      GALAXY   \n",
       "4              2.279489       12.637830  ...          0      GALAXY   \n",
       "...                 ...             ...  ...        ...         ...   \n",
       "252451         2.194143        4.510865  ...          0      GALAXY   \n",
       "252452         3.238337       13.914340  ...          0      GALAXY   \n",
       "252453         1.339699        5.348741  ...          0      GALAXY   \n",
       "252454         2.520613       22.000050  ...          0      GALAXY   \n",
       "252455         1.660344        4.328686  ...          0      GALAXY   \n",
       "\n",
       "        spectrotype     subclass  sn_median  reliable     run  camcol  field  \\\n",
       "0            GALAXY          NaN  38.082610         1   756.0     1.0  206.0   \n",
       "1            GALAXY  STARFORMING  39.110620         1   756.0     1.0  206.0   \n",
       "2            GALAXY  STARFORMING  18.075250         1  1239.0     2.0  175.0   \n",
       "3            GALAXY    STARBURST   5.252150         1     NaN     NaN    NaN   \n",
       "4            GALAXY  STARFORMING   8.069353         1   756.0     1.0  206.0   \n",
       "...             ...          ...        ...       ...     ...     ...    ...   \n",
       "252451       GALAXY          NaN  20.013680         1  4679.0     1.0  254.0   \n",
       "252452       GALAXY    STARBURST  20.941320         1  4679.0     1.0  251.0   \n",
       "252453       GALAXY  STARFORMING   9.299877         1  6161.0     5.0  124.0   \n",
       "252454       GALAXY    STARBURST  16.138150         1  2207.0     5.0  169.0   \n",
       "252455       GALAXY  STARFORMING  16.008520         1  6161.0     5.0  119.0   \n",
       "\n",
       "                                                     uimg  \n",
       "0       http://dr16.sdss.org/sas/dr16/eboss/photoObj/f...  \n",
       "1       http://dr16.sdss.org/sas/dr16/eboss/photoObj/f...  \n",
       "2       http://dr16.sdss.org/sas/dr16/eboss/photoObj/f...  \n",
       "3                                                     NaN  \n",
       "4       http://dr16.sdss.org/sas/dr16/eboss/photoObj/f...  \n",
       "...                                                   ...  \n",
       "252451  http://dr16.sdss.org/sas/dr16/eboss/photoObj/f...  \n",
       "252452  http://dr16.sdss.org/sas/dr16/eboss/photoObj/f...  \n",
       "252453  http://dr16.sdss.org/sas/dr16/eboss/photoObj/f...  \n",
       "252454  http://dr16.sdss.org/sas/dr16/eboss/photoObj/f...  \n",
       "252455  http://dr16.sdss.org/sas/dr16/eboss/photoObj/f...  \n",
       "\n",
       "[252456 rows x 37 columns]"
      ]
     },
     "execution_count": 124,
     "metadata": {},
     "output_type": "execute_result"
    }
   ],
   "source": [
    "galspec"
   ]
  },
  {
   "cell_type": "code",
   "execution_count": 27,
   "metadata": {},
   "outputs": [
    {
     "data": {
      "text/html": [
       "<div>\n",
       "<style scoped>\n",
       "    .dataframe tbody tr th:only-of-type {\n",
       "        vertical-align: middle;\n",
       "    }\n",
       "\n",
       "    .dataframe tbody tr th {\n",
       "        vertical-align: top;\n",
       "    }\n",
       "\n",
       "    .dataframe thead th {\n",
       "        text-align: right;\n",
       "    }\n",
       "</style>\n",
       "<table border=\"1\" class=\"dataframe\">\n",
       "  <thead>\n",
       "    <tr style=\"text-align: right;\">\n",
       "      <th></th>\n",
       "      <th>specObjID</th>\n",
       "      <th>oii_3726_flux</th>\n",
       "      <th>oii_3726_flux_err</th>\n",
       "      <th>oii_3729_flux</th>\n",
       "      <th>oii_3729_flux_err</th>\n",
       "      <th>oiii_4363_flux</th>\n",
       "      <th>oiii_4363_flux_err</th>\n",
       "      <th>h_beta_flux</th>\n",
       "      <th>h_beta_flux_err</th>\n",
       "      <th>oiii_4959_flux</th>\n",
       "      <th>...</th>\n",
       "      <th>ra</th>\n",
       "      <th>dec</th>\n",
       "      <th>z</th>\n",
       "      <th>z_err</th>\n",
       "      <th>z_warning</th>\n",
       "      <th>spectrotype</th>\n",
       "      <th>subclass</th>\n",
       "      <th>sn_median</th>\n",
       "      <th>reliable</th>\n",
       "      <th>uimg</th>\n",
       "    </tr>\n",
       "  </thead>\n",
       "  <tbody>\n",
       "    <tr>\n",
       "      <th>0</th>\n",
       "      <td>299610073498413056</td>\n",
       "      <td>32.239510</td>\n",
       "      <td>9.289029</td>\n",
       "      <td>51.520840</td>\n",
       "      <td>9.391968</td>\n",
       "      <td>6.583977</td>\n",
       "      <td>4.067094</td>\n",
       "      <td>62.27009</td>\n",
       "      <td>3.727642</td>\n",
       "      <td>25.256910</td>\n",
       "      <td>...</td>\n",
       "      <td>145.8002</td>\n",
       "      <td>0.414172</td>\n",
       "      <td>0.025250</td>\n",
       "      <td>0.000015</td>\n",
       "      <td>0</td>\n",
       "      <td>GALAXY</td>\n",
       "      <td>STARFORMING</td>\n",
       "      <td>24.851770</td>\n",
       "      <td>1</td>\n",
       "      <td>http://dr16.sdss.org/sas/dr16/eboss/photoObj/f...</td>\n",
       "    </tr>\n",
       "    <tr>\n",
       "      <th>1</th>\n",
       "      <td>300619975029188608</td>\n",
       "      <td>22.840210</td>\n",
       "      <td>5.347836</td>\n",
       "      <td>12.878540</td>\n",
       "      <td>5.433570</td>\n",
       "      <td>-2.936492</td>\n",
       "      <td>2.588634</td>\n",
       "      <td>13.65540</td>\n",
       "      <td>2.449598</td>\n",
       "      <td>0.556210</td>\n",
       "      <td>...</td>\n",
       "      <td>148.5656</td>\n",
       "      <td>-0.936083</td>\n",
       "      <td>0.089717</td>\n",
       "      <td>0.000015</td>\n",
       "      <td>0</td>\n",
       "      <td>GALAXY</td>\n",
       "      <td>STARFORMING</td>\n",
       "      <td>11.260740</td>\n",
       "      <td>1</td>\n",
       "      <td>http://dr16.sdss.org/sas/dr16/eboss/photoObj/f...</td>\n",
       "    </tr>\n",
       "    <tr>\n",
       "      <th>2</th>\n",
       "      <td>300620799662909440</td>\n",
       "      <td>19.622090</td>\n",
       "      <td>5.103601</td>\n",
       "      <td>37.601410</td>\n",
       "      <td>5.532969</td>\n",
       "      <td>3.359770</td>\n",
       "      <td>2.401530</td>\n",
       "      <td>62.44374</td>\n",
       "      <td>2.522492</td>\n",
       "      <td>2.818213</td>\n",
       "      <td>...</td>\n",
       "      <td>148.7270</td>\n",
       "      <td>-1.120984</td>\n",
       "      <td>0.084335</td>\n",
       "      <td>0.000009</td>\n",
       "      <td>0</td>\n",
       "      <td>GALAXY</td>\n",
       "      <td>STARFORMING</td>\n",
       "      <td>10.581210</td>\n",
       "      <td>1</td>\n",
       "      <td>http://dr16.sdss.org/sas/dr16/eboss/photoObj/f...</td>\n",
       "    </tr>\n",
       "    <tr>\n",
       "      <th>3</th>\n",
       "      <td>300617501128026112</td>\n",
       "      <td>67.504120</td>\n",
       "      <td>9.459218</td>\n",
       "      <td>36.288130</td>\n",
       "      <td>8.483768</td>\n",
       "      <td>5.116489</td>\n",
       "      <td>4.063403</td>\n",
       "      <td>64.29639</td>\n",
       "      <td>4.022976</td>\n",
       "      <td>16.420420</td>\n",
       "      <td>...</td>\n",
       "      <td>148.7329</td>\n",
       "      <td>-0.761159</td>\n",
       "      <td>0.086272</td>\n",
       "      <td>0.000012</td>\n",
       "      <td>0</td>\n",
       "      <td>GALAXY</td>\n",
       "      <td>STARFORMING</td>\n",
       "      <td>25.744010</td>\n",
       "      <td>1</td>\n",
       "      <td>http://dr16.sdss.org/sas/dr16/eboss/photoObj/f...</td>\n",
       "    </tr>\n",
       "    <tr>\n",
       "      <th>4</th>\n",
       "      <td>300625472587327488</td>\n",
       "      <td>8.157495</td>\n",
       "      <td>4.151037</td>\n",
       "      <td>13.458470</td>\n",
       "      <td>4.343494</td>\n",
       "      <td>-0.481147</td>\n",
       "      <td>2.648729</td>\n",
       "      <td>19.97931</td>\n",
       "      <td>2.387799</td>\n",
       "      <td>4.736043</td>\n",
       "      <td>...</td>\n",
       "      <td>149.1179</td>\n",
       "      <td>0.183989</td>\n",
       "      <td>0.065808</td>\n",
       "      <td>0.000016</td>\n",
       "      <td>0</td>\n",
       "      <td>GALAXY</td>\n",
       "      <td>STARFORMING</td>\n",
       "      <td>20.971530</td>\n",
       "      <td>1</td>\n",
       "      <td>http://dr16.sdss.org/sas/dr16/eboss/photoObj/f...</td>\n",
       "    </tr>\n",
       "    <tr>\n",
       "      <th>...</th>\n",
       "      <td>...</td>\n",
       "      <td>...</td>\n",
       "      <td>...</td>\n",
       "      <td>...</td>\n",
       "      <td>...</td>\n",
       "      <td>...</td>\n",
       "      <td>...</td>\n",
       "      <td>...</td>\n",
       "      <td>...</td>\n",
       "      <td>...</td>\n",
       "      <td>...</td>\n",
       "      <td>...</td>\n",
       "      <td>...</td>\n",
       "      <td>...</td>\n",
       "      <td>...</td>\n",
       "      <td>...</td>\n",
       "      <td>...</td>\n",
       "      <td>...</td>\n",
       "      <td>...</td>\n",
       "      <td>...</td>\n",
       "      <td>...</td>\n",
       "    </tr>\n",
       "    <tr>\n",
       "      <th>252444</th>\n",
       "      <td>3348561914799089664</td>\n",
       "      <td>14.196160</td>\n",
       "      <td>3.690346</td>\n",
       "      <td>23.336850</td>\n",
       "      <td>3.444276</td>\n",
       "      <td>1.024559</td>\n",
       "      <td>1.397171</td>\n",
       "      <td>10.14655</td>\n",
       "      <td>1.283397</td>\n",
       "      <td>1.692069</td>\n",
       "      <td>...</td>\n",
       "      <td>260.3920</td>\n",
       "      <td>31.679210</td>\n",
       "      <td>0.029703</td>\n",
       "      <td>0.000015</td>\n",
       "      <td>0</td>\n",
       "      <td>GALAXY</td>\n",
       "      <td>STARFORMING</td>\n",
       "      <td>8.039813</td>\n",
       "      <td>1</td>\n",
       "      <td>http://dr16.sdss.org/sas/dr16/eboss/photoObj/f...</td>\n",
       "    </tr>\n",
       "    <tr>\n",
       "      <th>252447</th>\n",
       "      <td>3348574559182809088</td>\n",
       "      <td>17.147260</td>\n",
       "      <td>3.240531</td>\n",
       "      <td>20.825790</td>\n",
       "      <td>3.336832</td>\n",
       "      <td>1.675817</td>\n",
       "      <td>1.789195</td>\n",
       "      <td>36.43328</td>\n",
       "      <td>2.041894</td>\n",
       "      <td>5.950243</td>\n",
       "      <td>...</td>\n",
       "      <td>260.5158</td>\n",
       "      <td>31.519950</td>\n",
       "      <td>0.047164</td>\n",
       "      <td>0.000012</td>\n",
       "      <td>0</td>\n",
       "      <td>GALAXY</td>\n",
       "      <td>STARFORMING</td>\n",
       "      <td>19.941670</td>\n",
       "      <td>1</td>\n",
       "      <td>http://dr16.sdss.org/sas/dr16/eboss/photoObj/f...</td>\n",
       "    </tr>\n",
       "    <tr>\n",
       "      <th>252452</th>\n",
       "      <td>3348599023316527104</td>\n",
       "      <td>18.342260</td>\n",
       "      <td>2.972998</td>\n",
       "      <td>9.916848</td>\n",
       "      <td>2.900549</td>\n",
       "      <td>-1.211788</td>\n",
       "      <td>1.922055</td>\n",
       "      <td>19.75921</td>\n",
       "      <td>1.660344</td>\n",
       "      <td>4.328686</td>\n",
       "      <td>...</td>\n",
       "      <td>260.7148</td>\n",
       "      <td>32.361810</td>\n",
       "      <td>0.054428</td>\n",
       "      <td>0.000015</td>\n",
       "      <td>0</td>\n",
       "      <td>GALAXY</td>\n",
       "      <td>STARFORMING</td>\n",
       "      <td>16.008520</td>\n",
       "      <td>1</td>\n",
       "      <td>http://dr16.sdss.org/sas/dr16/eboss/photoObj/f...</td>\n",
       "    </tr>\n",
       "    <tr>\n",
       "      <th>252453</th>\n",
       "      <td>3345078112172926976</td>\n",
       "      <td>31.308570</td>\n",
       "      <td>4.027195</td>\n",
       "      <td>41.325920</td>\n",
       "      <td>4.226990</td>\n",
       "      <td>5.126327</td>\n",
       "      <td>1.736035</td>\n",
       "      <td>20.14025</td>\n",
       "      <td>1.474479</td>\n",
       "      <td>8.614512</td>\n",
       "      <td>...</td>\n",
       "      <td>257.0418</td>\n",
       "      <td>36.503830</td>\n",
       "      <td>0.036337</td>\n",
       "      <td>0.000010</td>\n",
       "      <td>0</td>\n",
       "      <td>GALAXY</td>\n",
       "      <td>STARFORMING</td>\n",
       "      <td>10.832650</td>\n",
       "      <td>1</td>\n",
       "      <td>http://dr16.sdss.org/sas/dr16/eboss/photoObj/f...</td>\n",
       "    </tr>\n",
       "    <tr>\n",
       "      <th>252454</th>\n",
       "      <td>3345078936806647808</td>\n",
       "      <td>32.137710</td>\n",
       "      <td>3.524230</td>\n",
       "      <td>54.438860</td>\n",
       "      <td>3.576251</td>\n",
       "      <td>0.372117</td>\n",
       "      <td>1.467489</td>\n",
       "      <td>28.13335</td>\n",
       "      <td>1.432219</td>\n",
       "      <td>8.180933</td>\n",
       "      <td>...</td>\n",
       "      <td>256.8379</td>\n",
       "      <td>36.596520</td>\n",
       "      <td>0.050386</td>\n",
       "      <td>0.000008</td>\n",
       "      <td>0</td>\n",
       "      <td>GALAXY</td>\n",
       "      <td>STARFORMING</td>\n",
       "      <td>11.720340</td>\n",
       "      <td>1</td>\n",
       "      <td>http://dr16.sdss.org/sas/dr16/eboss/photoObj/f...</td>\n",
       "    </tr>\n",
       "  </tbody>\n",
       "</table>\n",
       "<p>154166 rows × 33 columns</p>\n",
       "</div>"
      ],
      "text/plain": [
       "                  specObjID  oii_3726_flux  oii_3726_flux_err  oii_3729_flux  \\\n",
       "0        299610073498413056      32.239510           9.289029      51.520840   \n",
       "1        300619975029188608      22.840210           5.347836      12.878540   \n",
       "2        300620799662909440      19.622090           5.103601      37.601410   \n",
       "3        300617501128026112      67.504120           9.459218      36.288130   \n",
       "4        300625472587327488       8.157495           4.151037      13.458470   \n",
       "...                     ...            ...                ...            ...   \n",
       "252444  3348561914799089664      14.196160           3.690346      23.336850   \n",
       "252447  3348574559182809088      17.147260           3.240531      20.825790   \n",
       "252452  3348599023316527104      18.342260           2.972998       9.916848   \n",
       "252453  3345078112172926976      31.308570           4.027195      41.325920   \n",
       "252454  3345078936806647808      32.137710           3.524230      54.438860   \n",
       "\n",
       "        oii_3729_flux_err  oiii_4363_flux  oiii_4363_flux_err  h_beta_flux  \\\n",
       "0                9.391968        6.583977            4.067094     62.27009   \n",
       "1                5.433570       -2.936492            2.588634     13.65540   \n",
       "2                5.532969        3.359770            2.401530     62.44374   \n",
       "3                8.483768        5.116489            4.063403     64.29639   \n",
       "4                4.343494       -0.481147            2.648729     19.97931   \n",
       "...                   ...             ...                 ...          ...   \n",
       "252444           3.444276        1.024559            1.397171     10.14655   \n",
       "252447           3.336832        1.675817            1.789195     36.43328   \n",
       "252452           2.900549       -1.211788            1.922055     19.75921   \n",
       "252453           4.226990        5.126327            1.736035     20.14025   \n",
       "252454           3.576251        0.372117            1.467489     28.13335   \n",
       "\n",
       "        h_beta_flux_err  oiii_4959_flux  ...        ra        dec         z  \\\n",
       "0              3.727642       25.256910  ...  145.8002   0.414172  0.025250   \n",
       "1              2.449598        0.556210  ...  148.5656  -0.936083  0.089717   \n",
       "2              2.522492        2.818213  ...  148.7270  -1.120984  0.084335   \n",
       "3              4.022976       16.420420  ...  148.7329  -0.761159  0.086272   \n",
       "4              2.387799        4.736043  ...  149.1179   0.183989  0.065808   \n",
       "...                 ...             ...  ...       ...        ...       ...   \n",
       "252444         1.283397        1.692069  ...  260.3920  31.679210  0.029703   \n",
       "252447         2.041894        5.950243  ...  260.5158  31.519950  0.047164   \n",
       "252452         1.660344        4.328686  ...  260.7148  32.361810  0.054428   \n",
       "252453         1.474479        8.614512  ...  257.0418  36.503830  0.036337   \n",
       "252454         1.432219        8.180933  ...  256.8379  36.596520  0.050386   \n",
       "\n",
       "           z_err  z_warning  spectrotype     subclass  sn_median  reliable  \\\n",
       "0       0.000015          0       GALAXY  STARFORMING  24.851770         1   \n",
       "1       0.000015          0       GALAXY  STARFORMING  11.260740         1   \n",
       "2       0.000009          0       GALAXY  STARFORMING  10.581210         1   \n",
       "3       0.000012          0       GALAXY  STARFORMING  25.744010         1   \n",
       "4       0.000016          0       GALAXY  STARFORMING  20.971530         1   \n",
       "...          ...        ...          ...          ...        ...       ...   \n",
       "252444  0.000015          0       GALAXY  STARFORMING   8.039813         1   \n",
       "252447  0.000012          0       GALAXY  STARFORMING  19.941670         1   \n",
       "252452  0.000015          0       GALAXY  STARFORMING  16.008520         1   \n",
       "252453  0.000010          0       GALAXY  STARFORMING  10.832650         1   \n",
       "252454  0.000008          0       GALAXY  STARFORMING  11.720340         1   \n",
       "\n",
       "                                                     uimg  \n",
       "0       http://dr16.sdss.org/sas/dr16/eboss/photoObj/f...  \n",
       "1       http://dr16.sdss.org/sas/dr16/eboss/photoObj/f...  \n",
       "2       http://dr16.sdss.org/sas/dr16/eboss/photoObj/f...  \n",
       "3       http://dr16.sdss.org/sas/dr16/eboss/photoObj/f...  \n",
       "4       http://dr16.sdss.org/sas/dr16/eboss/photoObj/f...  \n",
       "...                                                   ...  \n",
       "252444  http://dr16.sdss.org/sas/dr16/eboss/photoObj/f...  \n",
       "252447  http://dr16.sdss.org/sas/dr16/eboss/photoObj/f...  \n",
       "252452  http://dr16.sdss.org/sas/dr16/eboss/photoObj/f...  \n",
       "252453  http://dr16.sdss.org/sas/dr16/eboss/photoObj/f...  \n",
       "252454  http://dr16.sdss.org/sas/dr16/eboss/photoObj/f...  \n",
       "\n",
       "[154166 rows x 33 columns]"
      ]
     },
     "execution_count": 27,
     "metadata": {},
     "output_type": "execute_result"
    }
   ],
   "source": [
    "galspec[galspec['subclass'] == 'STARFORMING']"
   ]
  },
  {
   "cell_type": "code",
   "execution_count": 122,
   "metadata": {},
   "outputs": [],
   "source": [
    "# Load this table\n",
    "# Find indices where subclass = 'STARFORMING' or 'STARBURST'\n",
    "# Find indices where reliable is 1, z_warning is 0, uimg is not null\n",
    "# Set # of total galaxies to be length of those that qualify in ^^ criteria\n",
    "# For each galaxy:\n",
    "# Take uimg, replace 'frame-u' with 'frame-g', 'frame-r', 'frame-i', and 'frame-z'\n",
    "# Write into a file 'wget frame-u', 'wget frame-g', etc. ... to download all .fits files\n",
    "# Unzip files\n",
    "\n",
    "#### unsure if unzip should/can be done in script. Maybe separate scripts here?\n",
    "#### need to relate the uimg link with the downloaded file name, which is still by\n",
    "####    frame-u-00run#-camcol#-00field#\n",
    "\n",
    "# For each galaxy:\n",
    "# Given the index, create string with run#, camcol#, field# to build name of ugriz .fits files\n",
    "# Read in 5 ugriz .fits files\n",
    "# Take RA, DEC and find (x, y) pixel center\n",
    "# take -16 to +16 box aorund (x, y) center\n",
    "# stack image and place into all_imgs"
   ]
  },
  {
   "cell_type": "code",
   "execution_count": null,
   "metadata": {},
   "outputs": [],
   "source": []
  }
 ],
 "metadata": {
  "kernelspec": {
   "display_name": "Python 3",
   "language": "python",
   "name": "python3"
  },
  "language_info": {
   "codemirror_mode": {
    "name": "ipython",
    "version": 3
   },
   "file_extension": ".py",
   "mimetype": "text/x-python",
   "name": "python",
   "nbconvert_exporter": "python",
   "pygments_lexer": "ipython3",
   "version": "3.6.10"
  }
 },
 "nbformat": 4,
 "nbformat_minor": 4
}
