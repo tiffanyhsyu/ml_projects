{
 "cells": [
  {
   "cell_type": "markdown",
   "metadata": {},
   "source": [
    "# Imports"
   ]
  },
  {
   "cell_type": "code",
   "execution_count": 2,
   "metadata": {},
   "outputs": [],
   "source": [
    "%matplotlib inline\n",
    "\n",
    "import numpy as np\n",
    "import pandas as pd\n",
    "\n",
    "from astropy.coordinates import SkyCoord, FK5\n",
    "from astropy.io import fits\n",
    "from astropy import units as u\n",
    "from astropy import wcs\n",
    "\n",
    "import matplotlib.pyplot as plt"
   ]
  },
  {
   "cell_type": "markdown",
   "metadata": {},
   "source": [
    "# Load data"
   ]
  },
  {
   "cell_type": "markdown",
   "metadata": {},
   "source": [
    "Looking at one system, already with downloaded ugriz .fits files, first..."
   ]
  },
  {
   "cell_type": "code",
   "execution_count": 3,
   "metadata": {},
   "outputs": [
    {
     "name": "stdout",
     "output_type": "stream",
     "text": [
      "<SkyCoord (ICRS): (ra, dec) in deg\n",
      "    (145.8002, 0.4141723)>\n"
     ]
    }
   ],
   "source": [
    "# Elliptical galaxy\n",
    "uband = fits.open('J0943p0024/frame-u-000756-4-0200.fits')\n",
    "gband = fits.open('J0943p0024/frame-g-000756-4-0200.fits')\n",
    "rband = fits.open('J0943p0024/frame-r-000756-4-0200.fits')\n",
    "iband = fits.open('J0943p0024/frame-i-000756-4-0200.fits')\n",
    "zband = fits.open('J0943p0024/frame-z-000756-4-0200.fits')\n",
    "coords = SkyCoord(145.8002, 0.4141723, unit=(u.deg, u.deg))\n",
    "\n",
    "# Little Cub\n",
    "#uband = fits.open('LittleCub/frame-u-002078-4-0032.fits')\n",
    "#gband = fits.open('LittleCub/frame-g-002078-4-0032.fits')\n",
    "#rband = fits.open('LittleCub/frame-r-002078-4-0032.fits')\n",
    "#iband = fits.open('LittleCub/frame-i-002078-4-0032.fits')\n",
    "#zband = fits.open('LittleCub/frame-z-002078-4-0032.fits')\n",
    "#coords = SkyCoord(\"10:44:42.66 +63:06:02.08\", unit=(u.hourangle, u.deg))\n",
    "\n",
    "# Leo P\n",
    "#uband = fits.open('LeoP/frame-u-005935-5-0260.fits')\n",
    "#gband = fits.open('LeoP/frame-g-005935-5-0260.fits')\n",
    "#rband = fits.open('LeoP/frame-r-005935-5-0260.fits')\n",
    "#iband = fits.open('LeoP/frame-i-005935-5-0260.fits')\n",
    "#zband = fits.open('LeoP/frame-z-005935-5-0260.fits')\n",
    "#coords = SkyCoord(\"10:21:45.12 +18:05:16.88\", unit=(u.hourangle, u.deg))\n",
    "\n",
    "print (coords)"
   ]
  },
  {
   "cell_type": "markdown",
   "metadata": {},
   "source": [
    "# Convert object's RA, DEC to (x,y) pixel location on image"
   ]
  },
  {
   "cell_type": "code",
   "execution_count": 6,
   "metadata": {},
   "outputs": [],
   "source": [
    "def object_RADEC_to_XY(obj_RA, obj_DEC, fits_header):\n",
    "    '''\n",
    "    Function copied from: \n",
    "    https://acrider.wordpress.com/2015/02/04/revised-python-code-for-converting-ra-dec-to-x-y/\n",
    "    \n",
    "    and is closely adapted from IDL's AD2XY.PRO:\n",
    "    http://www.sdss3.org/svn/repo/idlutils/tags/v5_5_5/goddard/pro/astrom/ad2xy.pro\n",
    "    \n",
    "    Also check out:\n",
    "    https://www.galaxyzooforum.org/index.php?topic=280337.0\n",
    "    https://forum.cosmoquest.org/showthread.php?137475-How-to-cut-out-a-region-from-an-SDSS-FITS-image-file\n",
    "    \n",
    "    Parameters\n",
    "    ----------\n",
    "    obj_RA : float\n",
    "        object right ascension in degrees\n",
    "    obj_DEC : float\n",
    "        object declination in degrees\n",
    "    fits_header : HDUList\n",
    "        FITS file header info\n",
    "        \n",
    "    Returns\n",
    "    -------\n",
    "    obj_X : float\n",
    "        object x-coordinate\n",
    "    obj_Y : float\n",
    "        object y-coordinate\n",
    "    '''\n",
    "    \n",
    "    # Make sure the RA, DEC coordinate type is TAN\n",
    "    if (fits_header['CTYPE1'] != 'RA---TAN') or (fits_header['CTYPE2'] != 'DEC--TAN'):\n",
    "        print ('ERROR: Wrong coordinate type CTYPE1 or CTYPE2 for this object!')\n",
    "        print ('\\t CTYPE1 = ', fits_header['CTYPE1'])\n",
    "        print ('\\t CTYPE2 = ', fits_header['CTYPE2'])\n",
    "        \n",
    "    # These values allow translation from RA, DEC to X,Y and vice versa\n",
    "    CRPIX1 = fits_header['CRPIX1'] - 1 # X of reference pixel\n",
    "    CRPIX2 = fits_header['CRPIX2'] - 1 # Y of reference pixel\n",
    "    CRVAL1 = fits_header['CRVAL1'] # RA of reference pixel (deg)\n",
    "    CRVAL2 = fits_header['CRVAL2'] # DEC of reference pixel (deg)\n",
    "    CD1_1 = fits_header['CD1_1'] # RA deg per column pixel\n",
    "    CD1_2 = fits_header['CD1_2'] # RA deg per row pixel\n",
    "    CD2_1 = fits_header['CD2_1'] # DEC deg per column pixel\n",
    "    CD2_2 = fits_header['CD2_2'] # DEC deg per row pixel\n",
    "    \n",
    "    # Find the X, Y values of the galaxy's RA and DEC\n",
    "    det = CD1_1 * CD2_2 - CD1_2 * CD2_1\n",
    "\n",
    "    CD_inv_11 = CD2_2 / det\n",
    "    CD_inv_12 = -CD1_2 / det\n",
    "    CD_inv_21 = -CD2_1 / det\n",
    "    CD_inv_22 = CD1_1 / det\n",
    "\n",
    "    ra0 = CRVAL1 / 180.0 * np.pi\n",
    "    dec0 = CRVAL2 / 180.0 * np.pi\n",
    "    ra = obj_RA / 180.0 * np.pi\n",
    "    dec = obj_DEC / 180.0 * np.pi\n",
    "\n",
    "    denominator = np.sin(dec)*np.sin(dec0) + np.cos(dec)*np.cos(dec0)*np.cos(ra-ra0)\n",
    "\n",
    "    xi = np.cos(dec) * np.sin(ra-ra0) / denominator\n",
    "    eta = (np.sin(dec)*np.cos(dec0) - np.cos(dec)*np.sin(dec0)*np.cos(ra-ra0)) / denominator\n",
    "    xi = xi * 180.0 / np.pi\n",
    "    eta = eta * 180.0 / np.pi\n",
    "\n",
    "    obj_X = CD_inv_11 * xi + CD_inv_12 * eta + CRPIX1\n",
    "    obj_Y = CD_inv_21 * xi + CD_inv_22 * eta + CRPIX2\n",
    "\n",
    "    return obj_X, obj_Y"
   ]
  },
  {
   "cell_type": "markdown",
   "metadata": {},
   "source": [
    "## Calculate (x,y) pixel coordinates for ugriz bands"
   ]
  },
  {
   "cell_type": "code",
   "execution_count": 8,
   "metadata": {},
   "outputs": [
    {
     "name": "stdout",
     "output_type": "stream",
     "text": [
      "1924.9745803317744 949.4915849725992\n",
      "1923.7172083797932 954.5158166929345\n",
      "1922.8381353388913 943.7396602170237\n",
      "1922.6110655118428 947.0572008331305\n",
      "1921.714530004453 951.4158588720214\n"
     ]
    }
   ],
   "source": [
    "ux, uy = object_RADEC_to_XY(coords.ra.value, coords.dec.value, uband[0].header)\n",
    "#ux, uy = wcs.utils.skycoord_to_pixel(coords, wcs.WCS(uband[0].header))\n",
    "print (ux, uy)\n",
    "\n",
    "gx, gy = object_RADEC_to_XY(coords.ra.value, coords.dec.value, gband[0].header)\n",
    "print (gx, gy)\n",
    "\n",
    "rx, ry = object_RADEC_to_XY(coords.ra.value, coords.dec.value, rband[0].header)\n",
    "print (rx, ry)\n",
    "\n",
    "ix, iy = object_RADEC_to_XY(coords.ra.value, coords.dec.value, iband[0].header)\n",
    "print (ix, iy)\n",
    "\n",
    "zx, zy = object_RADEC_to_XY(coords.ra.value, coords.dec.value, zband[0].header)\n",
    "print (zx, zy)"
   ]
  },
  {
   "cell_type": "markdown",
   "metadata": {},
   "source": [
    "## Determine x and y range for 32 x 32 image"
   ]
  },
  {
   "cell_type": "markdown",
   "metadata": {},
   "source": [
    "Centered around the central (x, y) pixel of object/galaxy"
   ]
  },
  {
   "cell_type": "markdown",
   "metadata": {},
   "source": [
    "### Test on just g-band image"
   ]
  },
  {
   "cell_type": "code",
   "execution_count": 9,
   "metadata": {},
   "outputs": [
    {
     "data": {
      "text/plain": [
       "(1489, 2048)"
      ]
     },
     "execution_count": 9,
     "metadata": {},
     "output_type": "execute_result"
    }
   ],
   "source": [
    "gband[0].shape # rows (number of y pixels), columns (number of x pixels)"
   ]
  },
  {
   "cell_type": "code",
   "execution_count": 10,
   "metadata": {},
   "outputs": [
    {
     "name": "stdout",
     "output_type": "stream",
     "text": [
      "1923.7172083797932 954.5158166929345\n",
      "1924 955\n"
     ]
    }
   ],
   "source": [
    "print (gx, gy)\n",
    "print (int(round(gx, 0)), int(round(gy, 0)))"
   ]
  },
  {
   "cell_type": "code",
   "execution_count": 15,
   "metadata": {},
   "outputs": [],
   "source": [
    "# Desired N x N image size / 2\n",
    "pix_sz = 16"
   ]
  },
  {
   "cell_type": "code",
   "execution_count": 16,
   "metadata": {},
   "outputs": [
    {
     "data": {
      "image/png": "[encoded data removed]",
      "text/plain": [
       "<Figure size 432x288 with 1 Axes>"
      ]
     },
     "metadata": {
      "needs_background": "light"
     },
     "output_type": "display_data"
    }
   ],
   "source": [
    "gxmin, gxmax = int(round(gx, 0))-pix_sz, int(round(gx, 0))+pix_sz\n",
    "gymin, gymax = int(round(gy, 0))-pix_sz, int(round(gy, 0))+pix_sz\n",
    "\n",
    "plt.imshow(gband[0].data, vmin=0.006, vmax=0.8)\n",
    "plt.scatter(gx, gy)\n",
    "plt.gca().invert_yaxis()\n",
    "plt.xlim(gxmin, gxmax)\n",
    "plt.ylim(gymin, gymax)\n",
    "plt.show()"
   ]
  },
  {
   "cell_type": "code",
   "execution_count": 17,
   "metadata": {},
   "outputs": [],
   "source": [
    "# x and y range defining the N x N pixel image\n",
    "uxmin, uxmax = int(round(ux, 0))-pix_sz, int(round(ux, 0))+pix_sz\n",
    "uymin, uymax = int(round(uy, 0))-pix_sz, int(round(uy, 0))+pix_sz\n",
    "\n",
    "gxmin, gxmax = int(round(gx, 0))-pix_sz, int(round(gx, 0))+pix_sz\n",
    "gymin, gymax = int(round(gy, 0))-pix_sz, int(round(gy, 0))+pix_sz\n",
    "\n",
    "rxmin, rxmax = int(round(rx, 0))-pix_sz, int(round(rx, 0))+pix_sz\n",
    "rymin, rymax = int(round(ry, 0))-pix_sz, int(round(ry, 0))+pix_sz\n",
    "\n",
    "ixmin, ixmax = int(round(ix, 0))-pix_sz, int(round(ix, 0))+pix_sz\n",
    "iymin, iymax = int(round(iy, 0))-pix_sz, int(round(iy, 0))+pix_sz\n",
    "\n",
    "zxmin, zxmax = int(round(zx, 0))-pix_sz, int(round(zx, 0))+pix_sz\n",
    "zymin, zymax = int(round(zy, 0))-pix_sz, int(round(zy, 0))+pix_sz"
   ]
  },
  {
   "cell_type": "code",
   "execution_count": 18,
   "metadata": {},
   "outputs": [
    {
     "name": "stdout",
     "output_type": "stream",
     "text": [
      "-0.2084961 287.5\n",
      "-0.09289551 177.0\n",
      "-0.13183594 221.5\n",
      "-0.24023438 115.125\n",
      "-1.1269531 1920.0\n",
      "[-0.0411377   0.00216293  0.04534912] [-0.01782227 -0.00014567  0.02017212] [-0.02670288  0.00140381  0.02984619] [-0.04351807  0.00093651  0.05029297] [-0.20996094  0.01205444  0.23486328]\n"
     ]
    }
   ],
   "source": [
    "# Potentially useful info for vmin, vmax in imshow(), but not necessary for cropping image\n",
    "print (np.min(uband[0].data.flatten()), np.max(uband[0].data.flatten()))\n",
    "print (np.min(gband[0].data.flatten()), np.max(gband[0].data.flatten()))\n",
    "print (np.min(rband[0].data.flatten()), np.max(rband[0].data.flatten()))\n",
    "print (np.min(iband[0].data.flatten()), np.max(iband[0].data.flatten()))\n",
    "print (np.min(zband[0].data.flatten()), np.max(zband[0].data.flatten()))\n",
    "\n",
    "ulev = np.percentile(uband[0].data.flatten(), [16, 50, 84])\n",
    "glev = np.percentile(gband[0].data.flatten(), [16, 50, 84])\n",
    "rlev = np.percentile(rband[0].data.flatten(), [16, 50, 84])\n",
    "ilev = np.percentile(iband[0].data.flatten(), [16, 50, 84])\n",
    "zlev = np.percentile(zband[0].data.flatten(), [16, 50, 84])\n",
    "\n",
    "print (ulev, glev, rlev, ilev, zlev)"
   ]
  },
  {
   "cell_type": "code",
   "execution_count": 19,
   "metadata": {},
   "outputs": [
    {
     "name": "stderr",
     "output_type": "stream",
     "text": [
      "/Users/thsyu/.pyenv/versions/anaconda3-5.1.0/lib/python3.6/site-packages/ipykernel_launcher.py:25: UserWarning: Matplotlib is currently using module://ipykernel.pylab.backend_inline, which is a non-GUI backend, so cannot show the figure.\n"
     ]
    },
    {
     "data": {
      "image/png": "[encoded data removed]",
      "text/plain": [
       "<Figure size 1800x360 with 5 Axes>"
      ]
     },
     "metadata": {
      "needs_background": "light"
     },
     "output_type": "display_data"
    }
   ],
   "source": [
    "# Plot cropped ugriz images with central pixel of galaxy in that band\n",
    "fig, (ax1, ax2, ax3, ax4, ax5) = plt.subplots(1, 5, figsize=(25, 5))\n",
    "\n",
    "ax1.imshow(uband[0].data[uymin:uymax, uxmin:uxmax], vmin=0.002, vmax=0.4)\n",
    "ax1.scatter(pix_sz, pix_sz, marker='*', color='black', s=100)\n",
    "ax1.invert_yaxis()\n",
    "\n",
    "ax2.imshow(gband[0].data[gymin:gymax, gxmin:gxmax], vmin=0.0001, vmax=1.0)\n",
    "ax2.scatter(pix_sz, pix_sz, marker='*', color='black', s=100)\n",
    "ax2.invert_yaxis()\n",
    "\n",
    "ax3.imshow(rband[0].data[rymin:rymax, rxmin:rxmax], vmin=0.002, vmax=2.0)\n",
    "ax3.scatter(pix_sz, pix_sz, marker='*', color='black', s=100)\n",
    "ax3.invert_yaxis()\n",
    "\n",
    "ax4.imshow(iband[0].data[iymin:iymax, ixmin:ixmax], vmin=0.001, vmax=3.0)\n",
    "ax4.scatter(pix_sz, pix_sz, marker='*', color='black', s=100)\n",
    "ax4.invert_yaxis()\n",
    "\n",
    "ax5.imshow(zband[0].data[zymin:zymax, zxmin:zxmax], vmin=0.002, vmax=10.)\n",
    "ax5.scatter(pix_sz, pix_sz, marker='*', color='black', s=100)\n",
    "ax5.invert_yaxis()\n",
    "\n",
    "#fig.savefig('J0943p0024/J0943p0024_ugriz_32x32.pdf')\n",
    "fig.show()"
   ]
  },
  {
   "cell_type": "code",
   "execution_count": 74,
   "metadata": {},
   "outputs": [
    {
     "name": "stderr",
     "output_type": "stream",
     "text": [
      "/Users/thsyu/.pyenv/versions/anaconda3-5.1.0/lib/python3.6/site-packages/ipykernel_launcher.py:25: UserWarning: Matplotlib is currently using module://ipykernel.pylab.backend_inline, which is a non-GUI backend, so cannot show the figure.\n"
     ]
    },
    {
     "data": {
      "image/png": "[encoded data removed]",
      "text/plain": [
       "<Figure size 1800x360 with 5 Axes>"
      ]
     },
     "metadata": {
      "needs_background": "light"
     },
     "output_type": "display_data"
    }
   ],
   "source": [
    "# Plot cropped ugriz images with central pixel of galaxy in that band\n",
    "fig, (ax1, ax2, ax3, ax4, ax5) = plt.subplots(1, 5, figsize=(25, 5))\n",
    "\n",
    "ax1.imshow(uband[0].data[uymin:uymax, uxmin:uxmax], vmin=0.02, vmax=0.4)\n",
    "ax1.scatter(pix_sz, pix_sz, marker='*', color='white', s=100)\n",
    "ax1.invert_yaxis()\n",
    "\n",
    "ax2.imshow(gband[0].data[gymin:gymax, gxmin:gxmax], vmin=0.01, vmax=0.2)\n",
    "ax2.scatter(pix_sz, pix_sz, marker='*', color='white', s=100)\n",
    "ax2.invert_yaxis()\n",
    "\n",
    "ax3.imshow(rband[0].data[rymin:rymax, rxmin:rxmax], vmin=0.02, vmax=0.2)\n",
    "ax3.scatter(pix_sz, pix_sz, marker='*', color='white', s=100)\n",
    "ax3.invert_yaxis()\n",
    "\n",
    "ax4.imshow(iband[0].data[iymin:iymax, ixmin:ixmax], vmin=0.01, vmax=0.4)\n",
    "ax4.scatter(pix_sz, pix_sz, marker='*', color='white', s=100)\n",
    "ax4.invert_yaxis()\n",
    "\n",
    "ax5.imshow(zband[0].data[zymin:zymax, zxmin:zxmax], vmin=0.002, vmax=0.8)\n",
    "ax5.scatter(pix_sz, pix_sz, marker='*', color='white', s=100)\n",
    "ax5.invert_yaxis()\n",
    "\n",
    "#fig.savefig('LittleCub/LittleCub_ugriz_32x32.pdf')\n",
    "fig.show()"
   ]
  },
  {
   "cell_type": "code",
   "execution_count": 87,
   "metadata": {},
   "outputs": [
    {
     "name": "stderr",
     "output_type": "stream",
     "text": [
      "/Users/thsyu/.pyenv/versions/anaconda3-5.1.0/lib/python3.6/site-packages/ipykernel_launcher.py:24: UserWarning: Matplotlib is currently using module://ipykernel.pylab.backend_inline, which is a non-GUI backend, so cannot show the figure.\n"
     ]
    },
    {
     "data": {
      "image/png": "[encoded data removed]",
      "text/plain": [
       "<Figure size 1800x360 with 5 Axes>"
      ]
     },
     "metadata": {
      "needs_background": "light"
     },
     "output_type": "display_data"
    }
   ],
   "source": [
    "fig, (ax1, ax2, ax3, ax4, ax5) = plt.subplots(1, 5, figsize=(25, 5))\n",
    "\n",
    "ax1.imshow(uband[0].data[uymin:uymax, uxmin:uxmax], vmin=0.02, vmax=0.4)\n",
    "ax1.scatter(pix_sz, pix_sz, marker='*', color='white', s=100)\n",
    "ax1.invert_yaxis()\n",
    "\n",
    "ax2.imshow(gband[0].data[gymin:gymax, gxmin:gxmax], vmin=0.01, vmax=0.2)\n",
    "ax2.scatter(pix_sz, pix_sz, marker='*', color='white', s=100)\n",
    "ax2.invert_yaxis()\n",
    "\n",
    "ax3.imshow(rband[0].data[rymin:rymax, rxmin:rxmax], vmin=0.02, vmax=0.2)\n",
    "ax3.scatter(pix_sz, pix_sz, marker='*', color='white', s=100)\n",
    "ax3.invert_yaxis()\n",
    "\n",
    "ax4.imshow(iband[0].data[iymin:iymax, ixmin:ixmax], vmin=0.01, vmax=0.4)\n",
    "ax4.scatter(pix_sz, pix_sz, marker='*', color='white', s=100)\n",
    "ax4.invert_yaxis()\n",
    "\n",
    "ax5.imshow(zband[0].data[zymin:zymax, zxmin:zxmax], vmin=0.002, vmax=0.6)\n",
    "ax5.scatter(pix_sz, pix_sz, marker='*', color='white', s=100)\n",
    "ax5.invert_yaxis()\n",
    "\n",
    "#fig.savefig('LeoP/LeoP_ugriz_16x16.pdf')\n",
    "fig.show()"
   ]
  },
  {
   "cell_type": "markdown",
   "metadata": {},
   "source": [
    "## Stack ugriz flux values in the 64 x 64 cropped image"
   ]
  },
  {
   "cell_type": "code",
   "execution_count": 20,
   "metadata": {},
   "outputs": [],
   "source": [
    "stack_img = np.zeros((2*pix_sz, 2*pix_sz, 5))"
   ]
  },
  {
   "cell_type": "code",
   "execution_count": 21,
   "metadata": {},
   "outputs": [],
   "source": [
    "stack_img[:, :, 0] = uband[0].data[uymin:uymax, uxmin:uxmax]\n",
    "stack_img[:, :, 1] = gband[0].data[gymin:gymax, gxmin:gxmax]\n",
    "stack_img[:, :, 2] = rband[0].data[rymin:rymax, rxmin:rxmax]\n",
    "stack_img[:, :, 3] = iband[0].data[iymin:iymax, ixmin:ixmax]\n",
    "stack_img[:, :, 4] = zband[0].data[zymin:zymax, zxmin:zxmax]"
   ]
  },
  {
   "cell_type": "markdown",
   "metadata": {},
   "source": [
    "## Test stacking multiple images"
   ]
  },
  {
   "cell_type": "code",
   "execution_count": 22,
   "metadata": {},
   "outputs": [
    {
     "data": {
      "text/plain": [
       "5120"
      ]
     },
     "execution_count": 22,
     "metadata": {},
     "output_type": "execute_result"
    }
   ],
   "source": [
    "(2*pix_sz)**2*5"
   ]
  },
  {
   "cell_type": "code",
   "execution_count": 23,
   "metadata": {},
   "outputs": [],
   "source": [
    "N_gal = 3\n",
    "all_imgs = np.zeros((N_gal, 2*pix_sz, 2*pix_sz, 5))"
   ]
  },
  {
   "cell_type": "code",
   "execution_count": 24,
   "metadata": {},
   "outputs": [],
   "source": [
    "all_imgs[0] = stack_img\n",
    "#all_imgs[1] = stack_img.flatten()\n",
    "#all_imgs[2] = stack_img.flatten()"
   ]
  },
  {
   "cell_type": "code",
   "execution_count": 26,
   "metadata": {},
   "outputs": [
    {
     "data": {
      "text/plain": [
       "(3, 32, 32, 5)"
      ]
     },
     "execution_count": 26,
     "metadata": {},
     "output_type": "execute_result"
    }
   ],
   "source": [
    "all_imgs.shape"
   ]
  },
  {
   "cell_type": "markdown",
   "metadata": {},
   "source": [
    "## Save ugriz flux values in flattened array"
   ]
  },
  {
   "cell_type": "code",
   "execution_count": 27,
   "metadata": {},
   "outputs": [],
   "source": [
    "np.save('test_output_Xtrain_format', all_imgs)"
   ]
  },
  {
   "cell_type": "markdown",
   "metadata": {},
   "source": [
    "## Test reading in the flattened array(s) and reshaping"
   ]
  },
  {
   "cell_type": "code",
   "execution_count": 35,
   "metadata": {},
   "outputs": [],
   "source": [
    "X_train = np.load('test_output_Xtrain_format.npy')"
   ]
  },
  {
   "cell_type": "code",
   "execution_count": 36,
   "metadata": {},
   "outputs": [
    {
     "data": {
      "text/plain": [
       "(3, 32, 32, 5)"
      ]
     },
     "execution_count": 36,
     "metadata": {},
     "output_type": "execute_result"
    }
   ],
   "source": [
    "X_train.shape"
   ]
  },
  {
   "cell_type": "code",
   "execution_count": 37,
   "metadata": {},
   "outputs": [
    {
     "data": {
      "text/plain": [
       "array([[[-0.02682495,  0.14379883,  0.27050781,  0.43310547,\n",
       "          0.75097656],\n",
       "        [ 0.00226974,  0.14379883,  0.34667969,  0.47705078,\n",
       "          0.4921875 ],\n",
       "        [ 0.00226974,  0.19873047,  0.40820312,  0.66601562,\n",
       "          0.8984375 ],\n",
       "        ...,\n",
       "        [ 0.0022583 ,  0.03018188,  0.06713867,  0.11950684,\n",
       "          0.0489502 ],\n",
       "        [-0.01228333,  0.02331543,  0.09545898,  0.02520752,\n",
       "         -0.09899902],\n",
       "        [ 0.01678467,  0.03704834,  0.00554657,  0.03149414,\n",
       "         -0.20996094]],\n",
       "\n",
       "       [[ 0.02407837,  0.1574707 ,  0.22802734,  0.33300781,\n",
       "          0.75097656],\n",
       "        [ 0.05316162,  0.16430664,  0.25634766,  0.3515625 ,\n",
       "          0.45556641],\n",
       "        [ 0.06774902,  0.1953125 ,  0.39355469,  0.58398438,\n",
       "          1.12109375],\n",
       "        ...,\n",
       "        [ 0.00952148,  0.01986694,  0.043396  ,  0.06921387,\n",
       "          0.0489502 ],\n",
       "        [ 0.00952148,  0.02331543,  0.02920532,  0.06286621,\n",
       "          0.15991211],\n",
       "        [ 0.07495117,  0.05084229,  0.09545898,  0.04406738,\n",
       "         -0.17285156]],\n",
       "\n",
       "       [[ 0.03137207,  0.11279297,  0.27539062,  0.40185547,\n",
       "          0.4921875 ],\n",
       "        [ 0.03863525,  0.17797852,  0.30859375,  0.34521484,\n",
       "          0.38134766],\n",
       "        [ 0.00953674,  0.18847656,  0.32763672,  0.50195312,\n",
       "          0.30761719],\n",
       "        ...,\n",
       "        [ 0.05316162,  0.04736328,  0.05291748,  0.10693359,\n",
       "          0.0489502 ],\n",
       "        [-0.04864502,  0.03704834,  0.01974487,  0.10693359,\n",
       "          0.0489502 ],\n",
       "        [ 0.02407837,  0.04394531,  0.0244751 ,  0.08178711,\n",
       "          0.01196289]],\n",
       "\n",
       "       ...,\n",
       "\n",
       "       [[-0.00499725,  0.03369141,  0.03869629,  0.09436035,\n",
       "         -0.3203125 ],\n",
       "        [ 0.05316162,  0.04400635,  0.05767822,  0.08178711,\n",
       "          0.30761719],\n",
       "        [ 0.00227737,  0.05084229,  0.10498047,  0.08178711,\n",
       "          0.41845703],\n",
       "        ...,\n",
       "        [-0.01953125,  0.18139648,  0.35595703,  0.50878906,\n",
       "          0.41894531],\n",
       "        [ 0.09680176,  0.14013672,  0.29882812,  0.44628906,\n",
       "          1.046875  ],\n",
       "        [ 0.0604248 ,  0.14013672,  0.25195312,  0.27050781,\n",
       "          0.34472656]],\n",
       "\n",
       "       [[-0.04864502,  0.03369141,  0.07653809,  0.04412842,\n",
       "          0.41845703],\n",
       "        [-0.01953125,  0.05432129,  0.07189941,  0.0880127 ,\n",
       "          0.01208496],\n",
       "        [-0.03405762,  0.0645752 ,  0.05291748,  0.20727539,\n",
       "         -0.06182861],\n",
       "        ...,\n",
       "        [ 0.03863525,  0.21240234,  0.41259766,  0.50292969,\n",
       "          0.78808594],\n",
       "        [ 0.03131104,  0.17797852,  0.30859375,  0.46484375,\n",
       "          0.27099609],\n",
       "        [ 0.03863525,  0.11279297,  0.26611328,  0.27050781,\n",
       "          0.23388672]],\n",
       "\n",
       "       [[ 0.00227737,  0.01304626,  0.06237793,  0.05664062,\n",
       "          0.1229248 ],\n",
       "        [ 0.01681519,  0.06115723,  0.02923584,  0.0378418 ,\n",
       "         -0.65332031],\n",
       "        [ 0.11865234,  0.04052734,  0.07189941,  0.12573242,\n",
       "          0.45556641],\n",
       "        ...,\n",
       "        [-0.00500488,  0.25048828,  0.40820312,  0.63476562,\n",
       "          1.046875  ],\n",
       "        [ 0.0604248 ,  0.14379883,  0.31347656,  0.45263672,\n",
       "          0.640625  ],\n",
       "        [ 0.01681519,  0.1574707 ,  0.2421875 ,  0.23901367,\n",
       "          0.71484375]]])"
      ]
     },
     "execution_count": 37,
     "metadata": {},
     "output_type": "execute_result"
    }
   ],
   "source": [
    "X_train[0]"
   ]
  },
  {
   "cell_type": "markdown",
   "metadata": {},
   "source": [
    "# galSpec and emlinePort query results"
   ]
  },
  {
   "cell_type": "code",
   "execution_count": 238,
   "metadata": {},
   "outputs": [],
   "source": [
    "# Load this table\n",
    "# Find indices where subclass = 'STARFORMING' or 'STARBURST'\n",
    "# Find indices where reliable is 1, z_warning is 0, uimg is not null\n",
    "# Set # of total galaxies to be length of those that qualify in ^^ criteria"
   ]
  },
  {
   "cell_type": "markdown",
   "metadata": {},
   "source": [
    "## Load .csv tables"
   ]
  },
  {
   "cell_type": "markdown",
   "metadata": {},
   "source": [
    "Read in complete list of galaxies returned from galSpec and emlinePort queries for z < 0.1 galaxies with at least 3-sigma detections on [NII] and [SII]"
   ]
  },
  {
   "cell_type": "code",
   "execution_count": 161,
   "metadata": {},
   "outputs": [],
   "source": [
    "galspec = pd.read_csv('galspec_RS_uimg.csv', delimiter=',')\n",
    "emline = pd.read_csv('emlineport_RS_uimg.csv', delimiter=',')"
   ]
  },
  {
   "cell_type": "code",
   "execution_count": 162,
   "metadata": {},
   "outputs": [
    {
     "data": {
      "text/plain": [
       "Index(['specObjID', 'oii_3726_flux', 'oii_3726_flux_err', 'oii_3729_flux',\n",
       "       'oii_3729_flux_err', 'oiii_4363_flux', 'oiii_4363_flux_err',\n",
       "       'h_beta_flux', 'h_beta_flux_err', 'oiii_4959_flux',\n",
       "       'oiii_4959_flux_err', 'oiii_5007_flux', 'oiii_5007_flux_err',\n",
       "       'h_alpha_flux', 'h_alpha_flux_err', 'nii_6548_flux',\n",
       "       'nii_6548_flux_err', 'nii_6584_flux', 'nii_6584_flux_err',\n",
       "       'sii_6717_flux', 'sii_6717_flux_err', 'sii_6731_flux',\n",
       "       'sii_6731_flux_err', 'ra', 'dec', 'z', 'z_err', 'z_warning',\n",
       "       'targettype', 'spectrotype', 'subclass', 'sn_median', 'reliable', 'run',\n",
       "       'camcol', 'field', 'uimg'],\n",
       "      dtype='object')"
      ]
     },
     "execution_count": 162,
     "metadata": {},
     "output_type": "execute_result"
    }
   ],
   "source": [
    "galspec.columns"
   ]
  },
  {
   "cell_type": "code",
   "execution_count": 163,
   "metadata": {},
   "outputs": [
    {
     "data": {
      "text/plain": [
       "Index(['specObjID', 'ra', 'dec', 'z', 'zErr', 'redshift', 'bpt',\n",
       "       'Flux_OII_3726', 'Flux_OII_3726_Err', 'Flux_OII_3728',\n",
       "       'Flux_OII_3728_Err', 'Flux_OIII_4363', 'Flux_OIII_4363_Err',\n",
       "       'Flux_OIII_4958', 'Flux_OIII_4958_Err', 'Flux_OIII_5006',\n",
       "       'Flux_OIII_5006_Err', 'Flux_Hb_4861', 'Flux_Hb_4861_Err',\n",
       "       'Flux_Ha_6562', 'Flux_Ha_6562_Err', 'Flux_NII_6547',\n",
       "       'Flux_NII_6547_Err', 'Flux_NII_6583', 'Flux_NII_6583_Err',\n",
       "       'Flux_SII_6716', 'Flux_SII_6716_Err', 'Flux_SII_6730',\n",
       "       'Flux_SII_6730_Err', 'run', 'camcol', 'field', 'uimg'],\n",
       "      dtype='object')"
      ]
     },
     "execution_count": 163,
     "metadata": {},
     "output_type": "execute_result"
    }
   ],
   "source": [
    "emline.columns"
   ]
  },
  {
   "cell_type": "code",
   "execution_count": 164,
   "metadata": {},
   "outputs": [
    {
     "data": {
      "text/html": [
       "<div>\n",
       "<style scoped>\n",
       "    .dataframe tbody tr th:only-of-type {\n",
       "        vertical-align: middle;\n",
       "    }\n",
       "\n",
       "    .dataframe tbody tr th {\n",
       "        vertical-align: top;\n",
       "    }\n",
       "\n",
       "    .dataframe thead th {\n",
       "        text-align: right;\n",
       "    }\n",
       "</style>\n",
       "<table border=\"1\" class=\"dataframe\">\n",
       "  <thead>\n",
       "    <tr style=\"text-align: right;\">\n",
       "      <th></th>\n",
       "      <th>specObjID</th>\n",
       "      <th>oii_3726_flux</th>\n",
       "      <th>oii_3726_flux_err</th>\n",
       "      <th>oii_3729_flux</th>\n",
       "      <th>oii_3729_flux_err</th>\n",
       "      <th>oiii_4363_flux</th>\n",
       "      <th>oiii_4363_flux_err</th>\n",
       "      <th>h_beta_flux</th>\n",
       "      <th>h_beta_flux_err</th>\n",
       "      <th>oiii_4959_flux</th>\n",
       "      <th>...</th>\n",
       "      <th>z_warning</th>\n",
       "      <th>targettype</th>\n",
       "      <th>spectrotype</th>\n",
       "      <th>subclass</th>\n",
       "      <th>sn_median</th>\n",
       "      <th>reliable</th>\n",
       "      <th>run</th>\n",
       "      <th>camcol</th>\n",
       "      <th>field</th>\n",
       "      <th>uimg</th>\n",
       "    </tr>\n",
       "  </thead>\n",
       "  <tbody>\n",
       "    <tr>\n",
       "      <th>0</th>\n",
       "      <td>299489676975171584</td>\n",
       "      <td>307.00140</td>\n",
       "      <td>2327.571000</td>\n",
       "      <td>34.05977</td>\n",
       "      <td>159.323600</td>\n",
       "      <td>2.330947</td>\n",
       "      <td>6.684836</td>\n",
       "      <td>98.78678</td>\n",
       "      <td>6.727546</td>\n",
       "      <td>30.881300</td>\n",
       "      <td>...</td>\n",
       "      <td>0</td>\n",
       "      <td>GALAXY</td>\n",
       "      <td>GALAXY</td>\n",
       "      <td>NaN</td>\n",
       "      <td>38.082610</td>\n",
       "      <td>1</td>\n",
       "      <td>756.0</td>\n",
       "      <td>1.0</td>\n",
       "      <td>206.0</td>\n",
       "      <td>http://dr16.sdss.org/sas/dr16/eboss/photoObj/f...</td>\n",
       "    </tr>\n",
       "    <tr>\n",
       "      <th>1</th>\n",
       "      <td>299489677444933632</td>\n",
       "      <td>0.00000</td>\n",
       "      <td>-0.764372</td>\n",
       "      <td>0.00000</td>\n",
       "      <td>-0.764372</td>\n",
       "      <td>14.544610</td>\n",
       "      <td>6.551525</td>\n",
       "      <td>119.49560</td>\n",
       "      <td>6.650275</td>\n",
       "      <td>24.923760</td>\n",
       "      <td>...</td>\n",
       "      <td>0</td>\n",
       "      <td>GALAXY</td>\n",
       "      <td>GALAXY</td>\n",
       "      <td>STARFORMING</td>\n",
       "      <td>39.110620</td>\n",
       "      <td>1</td>\n",
       "      <td>756.0</td>\n",
       "      <td>1.0</td>\n",
       "      <td>206.0</td>\n",
       "      <td>http://dr16.sdss.org/sas/dr16/eboss/photoObj/f...</td>\n",
       "    </tr>\n",
       "    <tr>\n",
       "      <th>2</th>\n",
       "      <td>299490502078654464</td>\n",
       "      <td>39.05738</td>\n",
       "      <td>7.645567</td>\n",
       "      <td>27.09657</td>\n",
       "      <td>7.928473</td>\n",
       "      <td>0.903860</td>\n",
       "      <td>3.333012</td>\n",
       "      <td>25.64047</td>\n",
       "      <td>2.906838</td>\n",
       "      <td>9.876856</td>\n",
       "      <td>...</td>\n",
       "      <td>0</td>\n",
       "      <td>GALAXY</td>\n",
       "      <td>GALAXY</td>\n",
       "      <td>STARFORMING</td>\n",
       "      <td>18.075250</td>\n",
       "      <td>1</td>\n",
       "      <td>1239.0</td>\n",
       "      <td>2.0</td>\n",
       "      <td>175.0</td>\n",
       "      <td>http://dr16.sdss.org/sas/dr16/eboss/photoObj/f...</td>\n",
       "    </tr>\n",
       "    <tr>\n",
       "      <th>3</th>\n",
       "      <td>299491051364706304</td>\n",
       "      <td>29.87828</td>\n",
       "      <td>6.475568</td>\n",
       "      <td>19.59231</td>\n",
       "      <td>6.553017</td>\n",
       "      <td>-1.443974</td>\n",
       "      <td>3.117991</td>\n",
       "      <td>47.36650</td>\n",
       "      <td>3.055110</td>\n",
       "      <td>0.172112</td>\n",
       "      <td>...</td>\n",
       "      <td>0</td>\n",
       "      <td>GALAXY</td>\n",
       "      <td>GALAXY</td>\n",
       "      <td>STARBURST</td>\n",
       "      <td>5.252150</td>\n",
       "      <td>1</td>\n",
       "      <td>NaN</td>\n",
       "      <td>NaN</td>\n",
       "      <td>NaN</td>\n",
       "      <td>NaN</td>\n",
       "    </tr>\n",
       "    <tr>\n",
       "      <th>4</th>\n",
       "      <td>299491051834468352</td>\n",
       "      <td>48.75391</td>\n",
       "      <td>5.241384</td>\n",
       "      <td>47.94999</td>\n",
       "      <td>5.445445</td>\n",
       "      <td>-6.008739</td>\n",
       "      <td>2.396007</td>\n",
       "      <td>38.33226</td>\n",
       "      <td>2.279489</td>\n",
       "      <td>12.637830</td>\n",
       "      <td>...</td>\n",
       "      <td>0</td>\n",
       "      <td>GALAXY</td>\n",
       "      <td>GALAXY</td>\n",
       "      <td>STARFORMING</td>\n",
       "      <td>8.069353</td>\n",
       "      <td>1</td>\n",
       "      <td>756.0</td>\n",
       "      <td>1.0</td>\n",
       "      <td>206.0</td>\n",
       "      <td>http://dr16.sdss.org/sas/dr16/eboss/photoObj/f...</td>\n",
       "    </tr>\n",
       "  </tbody>\n",
       "</table>\n",
       "<p>5 rows × 37 columns</p>\n",
       "</div>"
      ],
      "text/plain": [
       "            specObjID  oii_3726_flux  oii_3726_flux_err  oii_3729_flux  \\\n",
       "0  299489676975171584      307.00140        2327.571000       34.05977   \n",
       "1  299489677444933632        0.00000          -0.764372        0.00000   \n",
       "2  299490502078654464       39.05738           7.645567       27.09657   \n",
       "3  299491051364706304       29.87828           6.475568       19.59231   \n",
       "4  299491051834468352       48.75391           5.241384       47.94999   \n",
       "\n",
       "   oii_3729_flux_err  oiii_4363_flux  oiii_4363_flux_err  h_beta_flux  \\\n",
       "0         159.323600        2.330947            6.684836     98.78678   \n",
       "1          -0.764372       14.544610            6.551525    119.49560   \n",
       "2           7.928473        0.903860            3.333012     25.64047   \n",
       "3           6.553017       -1.443974            3.117991     47.36650   \n",
       "4           5.445445       -6.008739            2.396007     38.33226   \n",
       "\n",
       "   h_beta_flux_err  oiii_4959_flux  ...  z_warning  targettype  spectrotype  \\\n",
       "0         6.727546       30.881300  ...          0      GALAXY       GALAXY   \n",
       "1         6.650275       24.923760  ...          0      GALAXY       GALAXY   \n",
       "2         2.906838        9.876856  ...          0      GALAXY       GALAXY   \n",
       "3         3.055110        0.172112  ...          0      GALAXY       GALAXY   \n",
       "4         2.279489       12.637830  ...          0      GALAXY       GALAXY   \n",
       "\n",
       "      subclass  sn_median  reliable     run  camcol  field  \\\n",
       "0          NaN  38.082610         1   756.0     1.0  206.0   \n",
       "1  STARFORMING  39.110620         1   756.0     1.0  206.0   \n",
       "2  STARFORMING  18.075250         1  1239.0     2.0  175.0   \n",
       "3    STARBURST   5.252150         1     NaN     NaN    NaN   \n",
       "4  STARFORMING   8.069353         1   756.0     1.0  206.0   \n",
       "\n",
       "                                                uimg  \n",
       "0  http://dr16.sdss.org/sas/dr16/eboss/photoObj/f...  \n",
       "1  http://dr16.sdss.org/sas/dr16/eboss/photoObj/f...  \n",
       "2  http://dr16.sdss.org/sas/dr16/eboss/photoObj/f...  \n",
       "3                                                NaN  \n",
       "4  http://dr16.sdss.org/sas/dr16/eboss/photoObj/f...  \n",
       "\n",
       "[5 rows x 37 columns]"
      ]
     },
     "execution_count": 164,
     "metadata": {},
     "output_type": "execute_result"
    }
   ],
   "source": [
    "galspec.head()"
   ]
  },
  {
   "cell_type": "code",
   "execution_count": 165,
   "metadata": {},
   "outputs": [
    {
     "data": {
      "text/html": [
       "<div>\n",
       "<style scoped>\n",
       "    .dataframe tbody tr th:only-of-type {\n",
       "        vertical-align: middle;\n",
       "    }\n",
       "\n",
       "    .dataframe tbody tr th {\n",
       "        vertical-align: top;\n",
       "    }\n",
       "\n",
       "    .dataframe thead th {\n",
       "        text-align: right;\n",
       "    }\n",
       "</style>\n",
       "<table border=\"1\" class=\"dataframe\">\n",
       "  <thead>\n",
       "    <tr style=\"text-align: right;\">\n",
       "      <th></th>\n",
       "      <th>specObjID</th>\n",
       "      <th>ra</th>\n",
       "      <th>dec</th>\n",
       "      <th>z</th>\n",
       "      <th>zErr</th>\n",
       "      <th>redshift</th>\n",
       "      <th>bpt</th>\n",
       "      <th>Flux_OII_3726</th>\n",
       "      <th>Flux_OII_3726_Err</th>\n",
       "      <th>Flux_OII_3728</th>\n",
       "      <th>...</th>\n",
       "      <th>Flux_NII_6583</th>\n",
       "      <th>Flux_NII_6583_Err</th>\n",
       "      <th>Flux_SII_6716</th>\n",
       "      <th>Flux_SII_6716_Err</th>\n",
       "      <th>Flux_SII_6730</th>\n",
       "      <th>Flux_SII_6730_Err</th>\n",
       "      <th>run</th>\n",
       "      <th>camcol</th>\n",
       "      <th>field</th>\n",
       "      <th>uimg</th>\n",
       "    </tr>\n",
       "  </thead>\n",
       "  <tbody>\n",
       "    <tr>\n",
       "      <th>0</th>\n",
       "      <td>299489676975171584</td>\n",
       "      <td>146.71421</td>\n",
       "      <td>-1.041304</td>\n",
       "      <td>0.021275</td>\n",
       "      <td>0.000009</td>\n",
       "      <td>0.021529</td>\n",
       "      <td>Star Forming</td>\n",
       "      <td>0.00000</td>\n",
       "      <td>0.00000</td>\n",
       "      <td>7.980984e+02</td>\n",
       "      <td>...</td>\n",
       "      <td>459.40470</td>\n",
       "      <td>30.414420</td>\n",
       "      <td>185.84740</td>\n",
       "      <td>31.328970</td>\n",
       "      <td>184.65060</td>\n",
       "      <td>33.967490</td>\n",
       "      <td>756.0</td>\n",
       "      <td>1.0</td>\n",
       "      <td>206.0</td>\n",
       "      <td>http://dr16.sdss.org/sas/dr16/eboss/photoObj/f...</td>\n",
       "    </tr>\n",
       "    <tr>\n",
       "      <th>1</th>\n",
       "      <td>299489677444933632</td>\n",
       "      <td>146.71421</td>\n",
       "      <td>-1.041304</td>\n",
       "      <td>0.021222</td>\n",
       "      <td>0.000009</td>\n",
       "      <td>0.021484</td>\n",
       "      <td>Star Forming</td>\n",
       "      <td>0.00000</td>\n",
       "      <td>0.00000</td>\n",
       "      <td>2.302374e+06</td>\n",
       "      <td>...</td>\n",
       "      <td>414.17850</td>\n",
       "      <td>25.240040</td>\n",
       "      <td>206.76410</td>\n",
       "      <td>25.045110</td>\n",
       "      <td>130.87280</td>\n",
       "      <td>22.694970</td>\n",
       "      <td>756.0</td>\n",
       "      <td>1.0</td>\n",
       "      <td>206.0</td>\n",
       "      <td>http://dr16.sdss.org/sas/dr16/eboss/photoObj/f...</td>\n",
       "    </tr>\n",
       "    <tr>\n",
       "      <th>2</th>\n",
       "      <td>299490502078654464</td>\n",
       "      <td>146.62857</td>\n",
       "      <td>-0.765137</td>\n",
       "      <td>0.064656</td>\n",
       "      <td>0.000021</td>\n",
       "      <td>0.064890</td>\n",
       "      <td>Composite</td>\n",
       "      <td>192.23790</td>\n",
       "      <td>52.48717</td>\n",
       "      <td>7.094870e+01</td>\n",
       "      <td>...</td>\n",
       "      <td>138.55290</td>\n",
       "      <td>12.427430</td>\n",
       "      <td>70.53356</td>\n",
       "      <td>9.671746</td>\n",
       "      <td>38.17468</td>\n",
       "      <td>9.670739</td>\n",
       "      <td>1239.0</td>\n",
       "      <td>2.0</td>\n",
       "      <td>175.0</td>\n",
       "      <td>http://dr16.sdss.org/sas/dr16/eboss/photoObj/f...</td>\n",
       "    </tr>\n",
       "    <tr>\n",
       "      <th>3</th>\n",
       "      <td>299491051364706304</td>\n",
       "      <td>146.96390</td>\n",
       "      <td>-0.545003</td>\n",
       "      <td>0.055988</td>\n",
       "      <td>0.000011</td>\n",
       "      <td>0.055987</td>\n",
       "      <td>Star Forming</td>\n",
       "      <td>25.62198</td>\n",
       "      <td>11.37271</td>\n",
       "      <td>2.567438e+01</td>\n",
       "      <td>...</td>\n",
       "      <td>35.90083</td>\n",
       "      <td>4.514204</td>\n",
       "      <td>19.72136</td>\n",
       "      <td>3.160789</td>\n",
       "      <td>14.70105</td>\n",
       "      <td>3.771800</td>\n",
       "      <td>NaN</td>\n",
       "      <td>NaN</td>\n",
       "      <td>NaN</td>\n",
       "      <td>NaN</td>\n",
       "    </tr>\n",
       "    <tr>\n",
       "      <th>4</th>\n",
       "      <td>299491051834468352</td>\n",
       "      <td>146.63167</td>\n",
       "      <td>-0.988278</td>\n",
       "      <td>0.052654</td>\n",
       "      <td>0.000009</td>\n",
       "      <td>0.052906</td>\n",
       "      <td>Star Forming</td>\n",
       "      <td>116.96290</td>\n",
       "      <td>52.59673</td>\n",
       "      <td>5.139409e+01</td>\n",
       "      <td>...</td>\n",
       "      <td>37.52691</td>\n",
       "      <td>4.169205</td>\n",
       "      <td>44.60871</td>\n",
       "      <td>4.826180</td>\n",
       "      <td>36.42942</td>\n",
       "      <td>4.450006</td>\n",
       "      <td>756.0</td>\n",
       "      <td>1.0</td>\n",
       "      <td>206.0</td>\n",
       "      <td>http://dr16.sdss.org/sas/dr16/eboss/photoObj/f...</td>\n",
       "    </tr>\n",
       "  </tbody>\n",
       "</table>\n",
       "<p>5 rows × 33 columns</p>\n",
       "</div>"
      ],
      "text/plain": [
       "            specObjID         ra       dec         z      zErr  redshift  \\\n",
       "0  299489676975171584  146.71421 -1.041304  0.021275  0.000009  0.021529   \n",
       "1  299489677444933632  146.71421 -1.041304  0.021222  0.000009  0.021484   \n",
       "2  299490502078654464  146.62857 -0.765137  0.064656  0.000021  0.064890   \n",
       "3  299491051364706304  146.96390 -0.545003  0.055988  0.000011  0.055987   \n",
       "4  299491051834468352  146.63167 -0.988278  0.052654  0.000009  0.052906   \n",
       "\n",
       "            bpt  Flux_OII_3726  Flux_OII_3726_Err  Flux_OII_3728  ...  \\\n",
       "0  Star Forming        0.00000            0.00000   7.980984e+02  ...   \n",
       "1  Star Forming        0.00000            0.00000   2.302374e+06  ...   \n",
       "2     Composite      192.23790           52.48717   7.094870e+01  ...   \n",
       "3  Star Forming       25.62198           11.37271   2.567438e+01  ...   \n",
       "4  Star Forming      116.96290           52.59673   5.139409e+01  ...   \n",
       "\n",
       "   Flux_NII_6583  Flux_NII_6583_Err  Flux_SII_6716  Flux_SII_6716_Err  \\\n",
       "0      459.40470          30.414420      185.84740          31.328970   \n",
       "1      414.17850          25.240040      206.76410          25.045110   \n",
       "2      138.55290          12.427430       70.53356           9.671746   \n",
       "3       35.90083           4.514204       19.72136           3.160789   \n",
       "4       37.52691           4.169205       44.60871           4.826180   \n",
       "\n",
       "   Flux_SII_6730  Flux_SII_6730_Err     run  camcol  field  \\\n",
       "0      184.65060          33.967490   756.0     1.0  206.0   \n",
       "1      130.87280          22.694970   756.0     1.0  206.0   \n",
       "2       38.17468           9.670739  1239.0     2.0  175.0   \n",
       "3       14.70105           3.771800     NaN     NaN    NaN   \n",
       "4       36.42942           4.450006   756.0     1.0  206.0   \n",
       "\n",
       "                                                uimg  \n",
       "0  http://dr16.sdss.org/sas/dr16/eboss/photoObj/f...  \n",
       "1  http://dr16.sdss.org/sas/dr16/eboss/photoObj/f...  \n",
       "2  http://dr16.sdss.org/sas/dr16/eboss/photoObj/f...  \n",
       "3                                                NaN  \n",
       "4  http://dr16.sdss.org/sas/dr16/eboss/photoObj/f...  \n",
       "\n",
       "[5 rows x 33 columns]"
      ]
     },
     "execution_count": 165,
     "metadata": {},
     "output_type": "execute_result"
    }
   ],
   "source": [
    "emline.head()"
   ]
  },
  {
   "cell_type": "code",
   "execution_count": 166,
   "metadata": {},
   "outputs": [
    {
     "data": {
      "text/plain": [
       "(array([nan, 'STARFORMING', 'STARBURST', 'BROADLINE', 'AGN',\n",
       "        'STARFORMING BROADLINE', 'AGN BROADLINE', 'G2',\n",
       "        'STARBURST BROADLINE', 'F5', 'A0', 'F9', 'M0', 'L5.5', 'M2', 'G0',\n",
       "        'M0V', 'K3', 'K5', 'K7', 'Carbon', 'Carbon_lines', 'L5', 'O', 'M6',\n",
       "        'OB', 'WD', 'M4', 'M5', 'T2', 'A0p', 'L9', 'K1', 'M1', 'B9', 'M3',\n",
       "        'CarbonWD', 'L1', 'F2', 'B6', 'G5', 'CV'], dtype=object),\n",
       " array(['Star Forming', 'Composite', 'LINER', 'Seyfert', 'BLANK',\n",
       "        'Seyfert/LINER'], dtype=object))"
      ]
     },
     "execution_count": 166,
     "metadata": {},
     "output_type": "execute_result"
    }
   ],
   "source": [
    "galspec.subclass.unique(), emline.bpt.unique()"
   ]
  },
  {
   "cell_type": "markdown",
   "metadata": {},
   "source": [
    "## Prune tables to remove duplicates and NaNs"
   ]
  },
  {
   "cell_type": "markdown",
   "metadata": {},
   "source": [
    "Drop all rows (axis=0) that are duplicate galaxies OR with a NaN in *any* column.\n",
    "\n",
    "galSpec: there are galaxies that appear more than once in the table. Also, a check of original file finds that NaNs appear only in columns 'subclass', 'run', 'camcol', 'field', and/or 'uimg'. Doing this removes 55940 galaxies, dropping us from 252456 to 196516.\n",
    "\n",
    "emlinePort: there are galaxies that appear more than once in the table. Also, a check of original file finds that NaNs appear only in columns 'run', 'camcol', 'field', and/or 'umg'. Doing this removes 17335 galaxies, taking us from 210163 to 192828."
   ]
  },
  {
   "cell_type": "code",
   "execution_count": 167,
   "metadata": {},
   "outputs": [],
   "source": [
    "galspec_complete = galspec.drop_duplicates(subset=('ra', 'dec')).dropna(axis=0).reset_index()\n",
    "emline_complete = emline.drop_duplicates(subset=('ra', 'dec')).dropna(axis=0).reset_index()"
   ]
  },
  {
   "cell_type": "markdown",
   "metadata": {},
   "source": [
    "## Prune table to keep only starforming galaxies"
   ]
  },
  {
   "cell_type": "markdown",
   "metadata": {},
   "source": [
    "galspec: 180887 STARFORMING or STARBURST galaxies\n",
    "\n",
    "emline: 161813 Star Forming galaxies"
   ]
  },
  {
   "cell_type": "code",
   "execution_count": 168,
   "metadata": {},
   "outputs": [],
   "source": [
    "galspec_sf = galspec_complete[(galspec_complete['subclass'] == 'STARFORMING') | (galspec_complete['subclass'] == 'STARBURST')].reset_index(drop=True)\n",
    "emline_sf = emline_complete[(emline_complete['bpt'] == 'Star Forming')].reset_index(drop=True)"
   ]
  },
  {
   "cell_type": "markdown",
   "metadata": {},
   "source": [
    "## Prune table to remove entries where [NII], Ha flux or error is < 0.0"
   ]
  },
  {
   "cell_type": "markdown",
   "metadata": {},
   "source": [
    "galSpec: loses 8+102 = 110 entries from 180887 --> 180777 --> 180391\n",
    "    * Ha flux values < 0.0 for 8 entries, and an additional 102 entries where Ha flux errors < 0.0 (negative Ha flux and Ha errors do not overlap)\n",
    "        \n",
    "    * [NII] 6548, 6584 flux values are all ok (> 0.0) , but there are 102 entries where the flux errors are negative (same 102 as negative Ha flux errors)\n",
    "    \n",
    "    * Additional losses due to unreliable redshift (if 'z_warning' is non-zero) or spectra (if 'reliable' is not 1)\n",
    "\n",
    "emline: loses 7 entries from 161813 --> 161806\n",
    "    * Ha flux values < 0.0 for 7 entries, all Ha flux errors are ok\n",
    "    * [NII] flux values and errors are all ok"
   ]
  },
  {
   "cell_type": "markdown",
   "metadata": {},
   "source": [
    "Note on redshift:\n",
    "    * galSpec has 13 galaxies with negative redshifts\n",
    "    * emline has 0 galaxies with negative 'z', but 2 galaxies with negative 'redshift', which is the GANDALF-corrected redshift values"
   ]
  },
  {
   "cell_type": "code",
   "execution_count": 197,
   "metadata": {},
   "outputs": [
    {
     "data": {
      "text/plain": [
       "33050    0.000036\n",
       "92972    0.000056\n",
       "Name: z, dtype: float64"
      ]
     },
     "execution_count": 197,
     "metadata": {},
     "output_type": "execute_result"
    }
   ],
   "source": [
    "emline_sf['z'][emline_sf['redshift'] < 0.]"
   ]
  },
  {
   "cell_type": "code",
   "execution_count": 193,
   "metadata": {},
   "outputs": [
    {
     "data": {
      "text/plain": [
       "13613    -0.000016\n",
       "101886   -0.000515\n",
       "101929   -0.000528\n",
       "101937   -0.000270\n",
       "101938   -0.000552\n",
       "102077   -0.001445\n",
       "102170   -0.000010\n",
       "102175   -0.000457\n",
       "115030   -0.000833\n",
       "115033   -0.000619\n",
       "115091   -0.000642\n",
       "115312   -0.000421\n",
       "126089   -0.000031\n",
       "Name: z, dtype: float64"
      ]
     },
     "execution_count": 193,
     "metadata": {},
     "output_type": "execute_result"
    }
   ],
   "source": [
    "galspec_sf['z'][galspec_sf['z'] < 0.]"
   ]
  },
  {
   "cell_type": "code",
   "execution_count": 233,
   "metadata": {},
   "outputs": [],
   "source": [
    "galspec_final = galspec_sf[(galspec_sf['h_alpha_flux'] > 0.0) & (galspec_sf['h_alpha_flux_err'] > 0.0)\n",
    "                           & (galspec_sf['reliable'] == 1) & (galspec_sf['z_warning'] == 0)].reset_index(drop=True)\n",
    "emline_final = emline_sf[emline_sf['Flux_Ha_6562'] > 0.0].reset_index(drop=True)"
   ]
  },
  {
   "cell_type": "code",
   "execution_count": 234,
   "metadata": {},
   "outputs": [
    {
     "name": "stdout",
     "output_type": "stream",
     "text": [
      "180887 180391\n",
      "161813 161806\n"
     ]
    }
   ],
   "source": [
    "print (len(galspec_sf), len(galspec_final))\n",
    "print (len(emline_sf), len(emline_final))"
   ]
  },
  {
   "cell_type": "code",
   "execution_count": 368,
   "metadata": {},
   "outputs": [],
   "source": [
    "galspec_direct = galspec_final[(galspec_final['oii_3726_flux'] > 0.0) & (galspec_final['oii_3729_flux'] > 0.0)\n",
    "              & (galspec_final['oii_3726_flux_err'] > 0.0) & (galspec_final['oii_3729_flux_err'] > 0.0)\n",
    "              & (galspec_final['oiii_4363_flux'] > 0.0) & (galspec_final['oiii_4363_flux_err'] > 0.0)\n",
    "              & (galspec_final['oiii_4959_flux'] > 0.0) & (galspec_final['oiii_4959_flux_err'] > 0.0)\n",
    "              & (galspec_final['oiii_5007_flux'] > 0.0) & (galspec_final['oiii_5007_flux_err'] > 0.0)].reset_index(drop=True)\n",
    "\n",
    "emline_direct = emline_final[(emline_final['Flux_OII_3726'] > 0.0) & (emline_final['Flux_OII_3726_Err'] > 0.0)\n",
    "              & (emline_final['Flux_OII_3728'] > 0.0) & (emline_final['Flux_OII_3728_Err'] > 0.0)\n",
    "              & (emline_final['Flux_OIII_4363'] > 0.0) & (emline_final['Flux_OIII_4363_Err'] > 0.0)\n",
    "              & (emline_final['Flux_OIII_4958'] > 0.0) & (emline_final['Flux_OIII_4958_Err'] > 0.0)\n",
    "              & (emline_final['Flux_OIII_5006'] > 0.0) & (emline_final['Flux_OIII_5006_Err'] > 0.0)].reset_index(drop=True)"
   ]
  },
  {
   "cell_type": "code",
   "execution_count": 369,
   "metadata": {},
   "outputs": [
    {
     "data": {
      "text/plain": [
       "(98127, 41333)"
      ]
     },
     "execution_count": 369,
     "metadata": {},
     "output_type": "execute_result"
    }
   ],
   "source": [
    "len(galspec_direct), len(emline_direct)"
   ]
  },
  {
   "cell_type": "code",
   "execution_count": 371,
   "metadata": {},
   "outputs": [
    {
     "name": "stdout",
     "output_type": "stream",
     "text": [
      "galSpec 2-sig: 11846\n",
      "galSpec 3-sig: 2896\n",
      "emline 2-sig: 1667\n",
      "emline 2-sig: 593\n"
     ]
    }
   ],
   "source": [
    "print ('galSpec 2-sig:', len(np.where(galspec_direct['oiii_4363_flux'] / galspec_direct['oiii_4363_flux_err'] > 2.)[0]))\n",
    "print ('galSpec 3-sig:', len(np.where(galspec_direct['oiii_4363_flux'] / galspec_direct['oiii_4363_flux_err'] > 3.)[0]))\n",
    "print ('emline 2-sig:', len(np.where(emline_direct['Flux_OIII_4363'] / emline_direct['Flux_OIII_4363_Err'] > 2.)[0]))\n",
    "print ('emline 2-sig:', len(np.where(emline_direct['Flux_OIII_4363'] / emline_direct['Flux_OIII_4363_Err'] > 3.)[0]))"
   ]
  },
  {
   "cell_type": "code",
   "execution_count": 235,
   "metadata": {},
   "outputs": [],
   "source": [
    "galspec_final.to_csv('galspec_sf_final', columns=['specObjID', 'oii_3726_flux', 'oii_3726_flux_err',\n",
    "       'oii_3729_flux', 'oii_3729_flux_err', 'oiii_4363_flux',\n",
    "       'oiii_4363_flux_err', 'h_beta_flux', 'h_beta_flux_err',\n",
    "       'oiii_4959_flux', 'oiii_4959_flux_err', 'oiii_5007_flux',\n",
    "       'oiii_5007_flux_err', 'h_alpha_flux', 'h_alpha_flux_err',\n",
    "       'nii_6548_flux', 'nii_6548_flux_err', 'nii_6584_flux',\n",
    "       'nii_6584_flux_err', 'sii_6717_flux', 'sii_6717_flux_err',\n",
    "       'sii_6731_flux', 'sii_6731_flux_err', 'ra', 'dec', 'z', 'z_err',\n",
    "       'z_warning', 'targettype', 'spectrotype', 'subclass', 'sn_median',\n",
    "       'reliable', 'run', 'camcol', 'field', 'uimg'], index=False)\n",
    "\n",
    "emline_final.to_csv('emline_sf_final', columns=['specObjID', 'ra', 'dec', 'z', 'zErr', 'redshift', 'bpt',\n",
    "       'Flux_OII_3726', 'Flux_OII_3726_Err', 'Flux_OII_3728',\n",
    "       'Flux_OII_3728_Err', 'Flux_OIII_4363', 'Flux_OIII_4363_Err',\n",
    "       'Flux_OIII_4958', 'Flux_OIII_4958_Err', 'Flux_OIII_5006',\n",
    "       'Flux_OIII_5006_Err', 'Flux_Hb_4861', 'Flux_Hb_4861_Err',\n",
    "       'Flux_Ha_6562', 'Flux_Ha_6562_Err', 'Flux_NII_6547',\n",
    "       'Flux_NII_6547_Err', 'Flux_NII_6583', 'Flux_NII_6583_Err',\n",
    "       'Flux_SII_6716', 'Flux_SII_6716_Err', 'Flux_SII_6730',\n",
    "       'Flux_SII_6730_Err', 'run', 'camcol', 'field', 'uimg'], index=False)#,float_format='%.7f') "
   ]
  },
  {
   "cell_type": "markdown",
   "metadata": {},
   "source": [
    "### Look at distribution of [NII]/Ha ratios"
   ]
  },
  {
   "cell_type": "code",
   "execution_count": 236,
   "metadata": {},
   "outputs": [],
   "source": [
    "galspec_NIIHa = (galspec_final['nii_6548_flux'] + galspec_final['nii_6584_flux']) / galspec_final['h_alpha_flux']\n",
    "emline_NIIHa = (emline_final['Flux_NII_6547'] + emline_final['Flux_NII_6583']) / emline_final['Flux_Ha_6562']"
   ]
  },
  {
   "cell_type": "code",
   "execution_count": 237,
   "metadata": {},
   "outputs": [
    {
     "data": {
      "image/png": "[encoded data removed]",
      "text/plain": [
       "<Figure size 432x288 with 1 Axes>"
      ]
     },
     "metadata": {
      "needs_background": "light"
     },
     "output_type": "display_data"
    }
   ],
   "source": [
    "plt.hist(galspec_NIIHa, bins=30, alpha=0.2, label='galSpec')\n",
    "plt.hist(emline_NIIHa, bins=30, alpha=0.2, label='emlinePort')\n",
    "plt.xlim(0., 1.2)\n",
    "plt.xlabel(r'[NII]/H$\\alpha$')\n",
    "plt.legend()\n",
    "plt.show()"
   ]
  },
  {
   "cell_type": "markdown",
   "metadata": {},
   "source": [
    "# Download all ugriz .fits files and unzip"
   ]
  },
  {
   "cell_type": "code",
   "execution_count": 239,
   "metadata": {},
   "outputs": [
    {
     "name": "stdout",
     "output_type": "stream",
     "text": [
      "180391 161806\n"
     ]
    }
   ],
   "source": [
    "Ngal_galspec = len(galspec_final)\n",
    "Ngal_emline = len(emline_final)\n",
    "\n",
    "print (Ngal_galspec, Ngal_emline)"
   ]
  },
  {
   "cell_type": "markdown",
   "metadata": {},
   "source": [
    "## Download"
   ]
  },
  {
   "cell_type": "markdown",
   "metadata": {},
   "source": [
    "Create .txt file with links to the ugriz .fits files. Typing 'wget -nc -i galspec_dwnld_fits' in the command line will get the downloads started:\n",
    "\n",
    "    * -nc: no clobber, skip downloads that would download to existing files (overwriting them)\n",
    "    * -i: input-file = FILE, download URLs found in local or external FILE"
   ]
  },
  {
   "cell_type": "code",
   "execution_count": 338,
   "metadata": {},
   "outputs": [],
   "source": [
    "# Write a file named 'galspec_dwnld_fits' with links to all the ugriz .fits files\n",
    "f = open('galspec_dwnld_fits', 'w')\n",
    "\n",
    "for i in range(0,10):#Ngal_galspec):\n",
    "    f.write(galspec_final['uimg'][i] + '\\n')\n",
    "    f.write(galspec_final['uimg'][i].replace('frame-u', 'frame-g') + '\\n')\n",
    "    f.write(galspec_final['uimg'][i].replace('frame-u', 'frame-r') + '\\n')\n",
    "    f.write(galspec_final['uimg'][i].replace('frame-u', 'frame-i') + '\\n')\n",
    "    f.write(galspec_final['uimg'][i].replace('frame-u', 'frame-z') + '\\n')\n",
    "\n",
    "f.close()"
   ]
  },
  {
   "cell_type": "markdown",
   "metadata": {},
   "source": [
    "## Unzip, save unzipped file, remove zipped file"
   ]
  },
  {
   "cell_type": "markdown",
   "metadata": {},
   "source": [
    "Don't need to unzip!!!!"
   ]
  },
  {
   "cell_type": "code",
   "execution_count": 273,
   "metadata": {},
   "outputs": [],
   "source": [
    "import os, bz2"
   ]
  },
  {
   "cell_type": "raw",
   "metadata": {},
   "source": [
    "dir_name = '/Users/thsyu/Software/ml_projects/metal_poor_gals/prep_dataset/galspec_imgs'\n",
    "os.chdir(dir_name)\n",
    "\n",
    "for item in os.listdir(dir_name):\n",
    "    if item.endswith('.bz2'):\n",
    "        start = datetime.datetime.now()\n",
    "        \n",
    "        print ('Unzipping', item)\n",
    "        zipfile = bz2.BZ2File(item)\n",
    "        data = zipfile.read()\n",
    "        open(item[:-4], 'wb').write(data)\n",
    "        os.remove(item)\n",
    "        \n",
    "        end = datetime.datetime.now()\n",
    "        print ('\\t Took', (end-start).microseconds/1e6, 'seconds \\n')"
   ]
  },
  {
   "cell_type": "markdown",
   "metadata": {},
   "source": [
    "## Open ugriz .fits files for each galaxy and save fluxes into an array"
   ]
  },
  {
   "cell_type": "code",
   "execution_count": 347,
   "metadata": {},
   "outputs": [],
   "source": [
    "import datetime\n",
    "import warnings\n",
    "warnings.filterwarnings('ignore')"
   ]
  },
  {
   "cell_type": "code",
   "execution_count": 297,
   "metadata": {},
   "outputs": [],
   "source": [
    "pix_sz = 16\n",
    "\n",
    "galspec_flux = np.zeros((Ngal_galspec, 2*pix_sz, 2*pix_sz, 5))\n",
    "emline_flux = np.zeros((Ngal_emline, 2*pix_sz, 2*pix_sz, 5))"
   ]
  },
  {
   "cell_type": "code",
   "execution_count": 377,
   "metadata": {},
   "outputs": [
    {
     "name": "stdout",
     "output_type": "stream",
     "text": [
      "Working on galaxy 0 : frame-u-001239-2-0175.fits.bz2 \n",
      "\n",
      "\t Loading .fits files and coords\n",
      "\t Calculating central pixels and cropping to 32x32 box\n",
      "\t Saving flux values\n",
      "\t Took 0.823929 seconds \n",
      "\n",
      "Working on galaxy 1 : frame-u-000756-1-0206.fits.bz2 \n",
      "\n",
      "\t Loading .fits files and coords\n",
      "\t Calculating central pixels and cropping to 32x32 box\n",
      "\t Saving flux values\n",
      "\t Took 0.70085 seconds \n",
      "\n",
      "Working on galaxy 2 : frame-u-001239-2-0175.fits.bz2 \n",
      "\n",
      "\t Loading .fits files and coords\n",
      "\t Calculating central pixels and cropping to 32x32 box\n",
      "\t Saving flux values\n",
      "\t Took 0.982933 seconds \n",
      "\n",
      "Working on galaxy 3 : frame-u-001239-3-0179.fits.bz2 \n",
      "\n",
      "\t Loading .fits files and coords\n",
      "\t Calculating central pixels and cropping to 32x32 box\n",
      "\t Saving flux values\n",
      "\t Took 0.355117 seconds \n",
      "\n",
      "Working on galaxy 4 : frame-u-001239-4-0180.fits.bz2 \n",
      "\n",
      "\t Loading .fits files and coords\n",
      "\t Calculating central pixels and cropping to 32x32 box\n",
      "\t Saving flux values\n",
      "\t Took 0.714665 seconds \n",
      "\n",
      "Working on galaxy 5 : frame-u-000756-1-0205.fits.bz2 \n",
      "\n",
      "\t Loading .fits files and coords\n",
      "\t Calculating central pixels and cropping to 32x32 box\n",
      "\t Saving flux values\n",
      "\t Took 0.206804 seconds \n",
      "\n",
      "Working on galaxy 6 : frame-u-000756-1-0205.fits.bz2 \n",
      "\n",
      "\t Loading .fits files and coords\n",
      "\t Calculating central pixels and cropping to 32x32 box\n",
      "\t Saving flux values\n",
      "\t Took 0.595399 seconds \n",
      "\n",
      "Working on galaxy 7 : frame-u-000756-2-0207.fits.bz2 \n",
      "\n",
      "\t Loading .fits files and coords\n",
      "\t Calculating central pixels and cropping to 32x32 box\n",
      "\t Saving flux values\n",
      "\t Took 0.134508 seconds \n",
      "\n",
      "Working on galaxy 8 : frame-u-001239-3-0177.fits.bz2 \n",
      "\n",
      "\t Loading .fits files and coords\n",
      "\t Calculating central pixels and cropping to 32x32 box\n",
      "\t Saving flux values\n",
      "\t Took 0.067408 seconds \n",
      "\n",
      "Working on galaxy 9 : frame-u-001239-3-0176.fits.bz2 \n",
      "\n",
      "\t Loading .fits files and coords\n",
      "\t Calculating central pixels and cropping to 32x32 box\n",
      "\t Saving flux values\n",
      "\t Took 0.151843 seconds \n",
      "\n",
      "Saving galspec_flux...!\n",
      "Deleting .fits files..!\n",
      "0:00:22.503461\n"
     ]
    }
   ],
   "source": [
    "for i in range(0,10):#Ngal_galspec):\n",
    "    start = datetime.datetime.now()\n",
    "    \n",
    "    # Save name of the u-band .fits file\n",
    "    u_frame = galspec_final['uimg'][i].split('/')[-1] #.strip('.bz2')\n",
    "    print ('Working on galaxy', i, ':', u_frame, '\\n')\n",
    "    \n",
    "\n",
    "    # Open ugriz .fits files, replacing letter 'u' in uframe with the respective bands\n",
    "    print ('\\t Loading .fits files and coords')\n",
    "    uband = fits.open(u_frame)\n",
    "    gband = fits.open(u_frame.replace('-u-', '-g-'))\n",
    "    rband = fits.open(u_frame.replace('-u-', '-r-'))\n",
    "    iband = fits.open(u_frame.replace('-u-', '-i-'))\n",
    "    zband = fits.open(u_frame.replace('-u-', '-z-'))\n",
    "    \n",
    "    coords = SkyCoord(galspec_final['ra'][i], galspec_final['dec'][i], unit=(u.deg, u.deg))\n",
    "    \n",
    "    # Calculate the center of the galaxy in (x, y) pixel values given the RA, DEC\n",
    "    print ('\\t Calculating central pixels and cropping to 32x32 box')\n",
    "    ux, uy = wcs.utils.skycoord_to_pixel(coords, wcs.WCS(uband[0].header))\n",
    "    gx, gy = wcs.utils.skycoord_to_pixel(coords, wcs.WCS(gband[0].header))\n",
    "    rx, ry = wcs.utils.skycoord_to_pixel(coords, wcs.WCS(rband[0].header))\n",
    "    ix, iy = wcs.utils.skycoord_to_pixel(coords, wcs.WCS(iband[0].header))\n",
    "    zx, zy = wcs.utils.skycoord_to_pixel(coords, wcs.WCS(zband[0].header))\n",
    "    \n",
    "    #print (ux, uy)\n",
    "    #print (gx, gy)\n",
    "    #print (rx, ry)\n",
    "    #print (ix, iy)\n",
    "    #print (zx, zy)\n",
    "    \n",
    "    # x and y range defining the 32x32 pixel image\n",
    "    uxmin, uxmax = int(np.round(ux))-pix_sz, int(np.round(ux, 0))+pix_sz\n",
    "    uymin, uymax = int(np.round(uy, 0))-pix_sz, int(np.round(uy, 0))+pix_sz\n",
    "\n",
    "    gxmin, gxmax = int(np.round(gx, 0))-pix_sz, int(np.round(gx, 0))+pix_sz\n",
    "    gymin, gymax = int(np.round(gy, 0))-pix_sz, int(np.round(gy, 0))+pix_sz\n",
    "\n",
    "    rxmin, rxmax = int(np.round(rx, 0))-pix_sz, int(np.round(rx, 0))+pix_sz\n",
    "    rymin, rymax = int(np.round(ry, 0))-pix_sz, int(np.round(ry, 0))+pix_sz\n",
    "\n",
    "    ixmin, ixmax = int(np.round(ix, 0))-pix_sz, int(np.round(ix, 0))+pix_sz\n",
    "    iymin, iymax = int(np.round(iy, 0))-pix_sz, int(np.round(iy, 0))+pix_sz\n",
    "\n",
    "    zxmin, zxmax = int(np.round(zx, 0))-pix_sz, int(np.round(zx, 0))+pix_sz\n",
    "    zymin, zymax = int(np.round(zy, 0))-pix_sz, int(np.round(zy, 0))+pix_sz\n",
    "    \n",
    "    print ('\\t Saving flux values')\n",
    "    galspec_flux[i, :, :, 0] = uband[0].data[uymin:uymax, uxmin:uxmax]\n",
    "    galspec_flux[i, :, :, 1] = gband[0].data[gymin:gymax, gxmin:gxmax]\n",
    "    galspec_flux[i, :, :, 2] = rband[0].data[rymin:rymax, rxmin:rxmax]\n",
    "    galspec_flux[i, :, :, 3] = iband[0].data[iymin:iymax, ixmin:ixmax]\n",
    "    galspec_flux[i, :, :, 4] = zband[0].data[zymin:zymax, zxmin:zxmax]\n",
    "    \n",
    "    end = datetime.datetime.now()\n",
    "    print ('\\t Took', (end-start).microseconds/1e6, 'seconds \\n')\n",
    "\n",
    "print ('Saving galspec_flux...!')\n",
    "\n",
    "start = datetime.datetime.now()\n",
    "np.save('galspec_flux', galspec_flux)\n",
    "\n",
    "print ('Deleting .fits files..!')\n",
    "for item in os.listdir(dir_name):\n",
    "    if item.endswith('.fits.bz2'):\n",
    "        os.remove(item)\n",
    "\n",
    "end = datetime.datetime.now()\n",
    "print (end-start)"
   ]
  },
  {
   "cell_type": "markdown",
   "metadata": {},
   "source": [
    "Takes 0.1 seconds/galaxy to open .fits files, crop, and save flux values\n",
    "\n",
    "Takes 25 seconds to save .npy file of flux values"
   ]
  },
  {
   "cell_type": "code",
   "execution_count": 122,
   "metadata": {},
   "outputs": [],
   "source": [
    "# For each galaxy:\n",
    "# Take uimg, replace 'frame-u' with 'frame-g', 'frame-r', 'frame-i', and 'frame-z'\n",
    "# Write into a file 'wget frame-u', 'wget frame-g', etc. ... to download all .fits files\n",
    "# Unzip files\n",
    "\n",
    "#### unsure if unzip should/can be done in script. Maybe separate scripts here?\n",
    "#### need to relate the uimg link with the downloaded file name, which is still by\n",
    "####    frame-u-00run#-camcol#-00field#\n",
    "\n",
    "# For each galaxy:\n",
    "# Given the index, create string with run#, camcol#, field# to build name of ugriz .fits files\n",
    "# Read in 5 ugriz .fits files\n",
    "# Take RA, DEC and find (x, y) pixel center\n",
    "# take -16 to +16 box aorund (x, y) center\n",
    "# stack image and place into all_imgs"
   ]
  },
  {
   "cell_type": "code",
   "execution_count": 378,
   "metadata": {},
   "outputs": [],
   "source": [
    "X_train = np.load('galspec_flux.npy')"
   ]
  },
  {
   "cell_type": "code",
   "execution_count": 379,
   "metadata": {},
   "outputs": [
    {
     "data": {
      "text/plain": [
       "array([[[ 9.35363770e-03,  2.18200684e-02, -2.36129761e-03,\n",
       "         -1.31835938e-02, -2.23388672e-01],\n",
       "        [-6.68945312e-02, -1.74865723e-02,  2.43377686e-03,\n",
       "          1.02081299e-02, -3.19335938e-01],\n",
       "        [ 8.85963440e-04,  2.53906250e-02,  5.52368164e-02,\n",
       "          1.02081299e-02,  6.09397888e-04],\n",
       "        ...,\n",
       "        [-4.15039062e-02, -1.39312744e-02,  7.19451904e-03,\n",
       "         -2.10571289e-02, -6.34765625e-02],\n",
       "        [ 9.35363770e-03,  3.93676758e-03,  7.19451904e-03,\n",
       "          8.04443359e-02,  1.92382812e-01],\n",
       "        [-3.30200195e-02, -3.20816040e-03,  1.67846680e-02,\n",
       "          5.70068359e-02,  9.65576172e-02]],\n",
       "\n",
       "       [[-1.00830078e-01, -1.03302002e-02, -1.67541504e-02,\n",
       "          1.02081299e-02,  1.60644531e-01],\n",
       "        [ 1.78222656e-02,  3.95965576e-03,  7.23266602e-03,\n",
       "          1.02081299e-02, -9.53369141e-02],\n",
       "        [-4.99877930e-02,  1.11083984e-02, -1.67541504e-02,\n",
       "         -4.43725586e-02,  2.56347656e-01],\n",
       "        ...,\n",
       "        [-5.84716797e-02,  3.60717773e-02, -5.03540039e-02,\n",
       "         -2.10571289e-02, -2.23388672e-01],\n",
       "        [-4.15039062e-02,  3.63349915e-04, -2.63671875e-02,\n",
       "          2.57873535e-02,  1.28417969e-01],\n",
       "        [-7.54394531e-02, -2.10571289e-02, -3.59497070e-02,\n",
       "          1.01623535e-02, -9.54589844e-02]],\n",
       "\n",
       "       [[-8.38623047e-02,  2.89611816e-02, -2.36129761e-03,\n",
       "         -1.31835938e-02,  6.08444214e-04],\n",
       "        [-3.30200195e-02,  3.95965576e-03, -7.16400146e-03,\n",
       "         -5.21850586e-02, -6.33544922e-02],\n",
       "        [ 8.84056091e-04, -6.75201416e-03, -2.36511230e-03,\n",
       "          1.02081299e-02, -2.55371094e-01],\n",
       "        ...,\n",
       "        [ 6.87255859e-02,  7.50732422e-03,  4.55932617e-02,\n",
       "         -1.32446289e-02,  9.65576172e-02],\n",
       "        [ 8.79287720e-04,  3.63349915e-04,  1.67846680e-02,\n",
       "         -5.23071289e-02,  9.65576172e-02],\n",
       "        [ 6.87255859e-02,  1.10778809e-02, -2.39562988e-03,\n",
       "          2.57873535e-02,  3.25317383e-02]],\n",
       "\n",
       "       ...,\n",
       "\n",
       "       [[ 5.16967773e-02,  1.82495117e-02,  2.16674805e-02,\n",
       "         -5.99365234e-02,  3.24707031e-02],\n",
       "        [ 1.78222656e-02, -6.75201416e-03, -1.67236328e-02,\n",
       "          2.58483887e-02,  6.44531250e-02],\n",
       "        [ 6.01806641e-02,  7.53784180e-03,  1.68457031e-02,\n",
       "          7.26318359e-02, -1.59423828e-01],\n",
       "        ...,\n",
       "        [ 9.33837891e-03, -1.39160156e-02, -2.36511230e-03,\n",
       "          2.58178711e-02, -2.23632812e-01],\n",
       "        [ 6.01806641e-02,  1.46484375e-02,  4.07714844e-02,\n",
       "         -3.66210938e-02, -3.15551758e-02],\n",
       "        [-4.15039062e-02,  1.10778809e-02, -1.67541504e-02,\n",
       "          4.92553711e-02, -9.55810547e-02]],\n",
       "\n",
       "       [[-4.15039062e-02,  2.89611816e-02, -7.91015625e-02,\n",
       "         -3.65600586e-02, -1.59423828e-01],\n",
       "        [ 5.16967773e-02,  1.11083984e-02,  1.20697021e-02,\n",
       "          2.44903564e-03,  4.98771667e-04],\n",
       "        [-2.45666504e-02,  1.11083984e-02,  2.64587402e-02,\n",
       "          2.58483887e-02,  6.44531250e-02],\n",
       "        ...,\n",
       "        [ 3.47900391e-02,  7.51495361e-03, -4.55322266e-02,\n",
       "          6.48193359e-02, -3.15551758e-02],\n",
       "        [-1.60827637e-02,  2.89306641e-02, -7.15637207e-03,\n",
       "          1.80053711e-02,  6.44531250e-02],\n",
       "        [ 8.57353210e-04,  1.10778809e-02, -5.51147461e-02,\n",
       "         -1.32141113e-02,  4.06742096e-04]],\n",
       "\n",
       "       [[ 4.32128906e-02, -1.03149414e-02,  6.48193359e-02,\n",
       "         -2.09350586e-02,  4.98771667e-04],\n",
       "        [-1.60827637e-02,  2.89611816e-02,  4.08325195e-02,\n",
       "         -1.31530762e-02, -1.91406250e-01],\n",
       "        [-3.30200195e-02, -6.75201416e-03, -1.19323730e-02,\n",
       "         -5.21240234e-02,  4.16503906e-01],\n",
       "        ...,\n",
       "        [ 1.78222656e-02,  3.94439697e-03,  2.43377686e-03,\n",
       "          2.58178711e-02, -1.27685547e-01],\n",
       "        [ 9.41162109e-02,  1.10778809e-02, -7.15637207e-03,\n",
       "          4.92553711e-02, -3.16162109e-02],\n",
       "        [ 3.47900391e-02, -6.77490234e-03,  1.20239258e-02,\n",
       "          5.70678711e-02, -1.59667969e-01]]])"
      ]
     },
     "execution_count": 379,
     "metadata": {},
     "output_type": "execute_result"
    }
   ],
   "source": [
    "X_train[0]"
   ]
  },
  {
   "cell_type": "code",
   "execution_count": null,
   "metadata": {},
   "outputs": [],
   "source": []
  }
 ],
 "metadata": {
  "kernelspec": {
   "display_name": "Python 3",
   "language": "python",
   "name": "python3"
  },
  "language_info": {
   "codemirror_mode": {
    "name": "ipython",
    "version": 3
   },
   "file_extension": ".py",
   "mimetype": "text/x-python",
   "name": "python",
   "nbconvert_exporter": "python",
   "pygments_lexer": "ipython3",
   "version": "3.6.10"
  }
 },
 "nbformat": 4,
 "nbformat_minor": 4
}
