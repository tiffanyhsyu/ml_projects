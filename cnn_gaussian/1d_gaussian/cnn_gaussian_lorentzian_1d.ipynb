{
 "cells": [
  {
   "cell_type": "markdown",
   "metadata": {},
   "source": [
    "# Imports"
   ]
  },
  {
   "cell_type": "code",
   "execution_count": 80,
   "metadata": {},
   "outputs": [],
   "source": [
    "import numpy as np\n",
    "import pandas as pd\n",
    "import tensorflow as tf\n",
    "import matplotlib.pyplot as plt\n",
    "from matplotlib import cm\n",
    "import pdb\n",
    "\n",
    "from keras.models import Sequential\n",
    "from keras.layers import Activation, Dense, Flatten, Conv2D, MaxPooling2D\n",
    "from keras.utils import np_utils"
   ]
  },
  {
   "cell_type": "markdown",
   "metadata": {},
   "source": [
    "# Distinguish Gaussians from Lorentzians, and predicting the mean, standard deviation if Gaussian"
   ]
  },
  {
   "cell_type": "markdown",
   "metadata": {},
   "source": [
    "## Plot CNN results"
   ]
  },
  {
   "cell_type": "code",
   "execution_count": 63,
   "metadata": {},
   "outputs": [],
   "source": [
    "def predict(model):\n",
    "    #pdb.set_trace()\n",
    "    # Make 1000 new Gaussians to apply the model to\n",
    "    predX, predy = make_gaussians(1000)\n",
    "    \n",
    "    # Apply the model to get predicted means and sigmas of the Gaussians\n",
    "    pmeans, psigs = model.predict(predX, batch_size=None, verbose=0)\n",
    "    \n",
    "    # Check distribution of difference between true and predicted means, sigmas\n",
    "    plt.subplot(211)\n",
    "    _, _, _ = plt.hist(predy[:, 0] - pmeans.flatten(), bins=30)\n",
    "    plt.subplot(212)\n",
    "    _, _, _ = plt.hist(predy[:, 1] - psigs.flatten(), bins=30)\n",
    "    \n",
    "    plt.show()\n",
    "    \n",
    "    # Check the relation between true and predicted means, sigmas\n",
    "    oto_means = np.linspace(-1., 1., 32) # one-to-one relation for means\n",
    "    oto_sigmas = np.linspace(0.25, 4.0, 32) # one-to-one relation for sigmas\n",
    "    \n",
    "    plt.subplot(211)\n",
    "    # Plot the true y's and predicted y's from the NN model\n",
    "    plt.plot(predy[:, 0], pmeans.flatten(), marker='.')\n",
    "    # Plot the 1-to-1 line\n",
    "    plt.plot(oto_means, oto_means, color='black', ls='--')\n",
    "    plt.xlim(-1.0, 1.0)\n",
    "    plt.ylim(-1.0, 1.0)\n",
    "    plt.xlabel('True value')\n",
    "    plt.ylabel('Predicted value')\n",
    "    plt.title(r'$\\mu$')\n",
    "    \n",
    "    plt.subplot(212)\n",
    "    plt.plot(predy[:, 1], psigs.flatten(), marker='.')\n",
    "    plt.plot(oto_sigmas, oto_sigmas, color='black', ls='--')\n",
    "    plt.xlim(0.25, 4.0)\n",
    "    plt.ylim(0.25, 4.0)\n",
    "    plt.xlabel('True value')\n",
    "    plt.ylabel('Predicted value')\n",
    "    plt.title(r'$\\sigma$')\n",
    "    \n",
    "    #plt.savefig('gaussian_characteristics.pdf')\n",
    "    plt.show()"
   ]
  },
  {
   "cell_type": "markdown",
   "metadata": {},
   "source": [
    "## Generate distributions"
   ]
  },
  {
   "cell_type": "markdown",
   "metadata": {},
   "source": [
    "### 1D Gaussian"
   ]
  },
  {
   "cell_type": "code",
   "execution_count": 19,
   "metadata": {},
   "outputs": [],
   "source": [
    "# Calculate a Gaussian given its mean and standard deviation\n",
    "def gaussian(x_vals, mu, sigma):\n",
    "    return np.exp(-0.5 * ((x_vals - mu)/sigma)**2) / (sigma * np.sqrt(2*np.pi))\n",
    "\n",
    "# Make array that describes Gaussian\n",
    "def make_gaussians(num, mu_min=-1.0, mu_max=1.0, sig_min=0.25, sig_max=4.0): \n",
    "\n",
    "    means = np.random.uniform(mu_min, mu_max, num)\n",
    "    sigmas = np.random.uniform(sig_min, sig_max, num)\n",
    "\n",
    "    x_vals = np.linspace(-10.0, 10.0, 32)\n",
    "    models = np.zeros((num, 32))\n",
    "\n",
    "    for i in range(num):\n",
    "        models[i] = gaussian(x_vals, means[i], sigmas[i])\n",
    "    \n",
    "    # Also want to save and return the true means, sigmas used for the Gaussians\n",
    "    targets = np.vstack((means, sigmas)).T\n",
    "\n",
    "    return models, targets"
   ]
  },
  {
   "cell_type": "markdown",
   "metadata": {},
   "source": [
    "### 1D Lorentzian"
   ]
  },
  {
   "cell_type": "code",
   "execution_count": 3,
   "metadata": {},
   "outputs": [],
   "source": [
    "# Calculate a Lorentzian distribution given its location parameter and scale parameter\n",
    "def lorentzian(x_vals, loc, scale):\n",
    "    return ( 1/(np.pi*scale) ) * ( scale**2 / ((x_vals - loc)**2 + (scale)**2) )\n",
    "\n",
    "def make_lorentzians(num, loc_min=-1.0, loc_max=1.0, scale_min=0.25, scale_max=4.0):\n",
    "    \n",
    "    locs = np.random.uniform(loc_min, loc_max, num)\n",
    "    scales = np.random.uniform(scale_min, scale_max, num)\n",
    "    \n",
    "    x_vals = np.linspace(-10.0, 10.0, 32)\n",
    "    models = np.zeros((num, 32))\n",
    "    \n",
    "    for i in range(num):\n",
    "        models[i] = lorentzian(x_vals, locs[i], scales[i])\n",
    "        \n",
    "    targets = np.vstack((locs, scales)).T\n",
    "    \n",
    "    return models, targets"
   ]
  },
  {
   "cell_type": "markdown",
   "metadata": {},
   "source": [
    "#### Plot to check Lorentzian function"
   ]
  },
  {
   "cell_type": "code",
   "execution_count": 145,
   "metadata": {},
   "outputs": [
    {
     "data": {
      "image/png": "[encoded data removed]",
      "text/plain": [
       "<Figure size 432x288 with 1 Axes>"
      ]
     },
     "metadata": {
      "needs_background": "light"
     },
     "output_type": "display_data"
    }
   ],
   "source": [
    "x_vals = np.linspace(-10.0, 10.0, 2**8)\n",
    "\n",
    "plt.plot(x_vals, lorentzian(x_vals, 0.0, 1.0), label=r'x$_{0}=$0, $\\gamma=$1')\n",
    "plt.plot(x_vals, gaussian(x_vals, 0.0, 1.0), label=r'$\\mu=$0, $\\sigma=$1')\n",
    "plt.xlim(-5, 5)\n",
    "plt.ylim(0.0, 0.45)\n",
    "plt.legend(fontsize=16)\n",
    "\n",
    "plt.show()"
   ]
  },
  {
   "cell_type": "markdown",
   "metadata": {},
   "source": [
    "# Just Classification"
   ]
  },
  {
   "cell_type": "markdown",
   "metadata": {},
   "source": [
    "## Generate dataset"
   ]
  },
  {
   "cell_type": "code",
   "execution_count": 118,
   "metadata": {},
   "outputs": [],
   "source": [
    "# Create training and test sets\n",
    "def generate_dataset(n_train=10000, n_test=1000, frac_gauss=None):\n",
    "    # From desired training and test set sizes, determine the fraction that is Gaussian vs Lorentzian\n",
    "    \n",
    "    # Random fraction w/limits to avoid too many of any one kind\n",
    "    if frac_gauss is None:\n",
    "        fg_train = np.random.uniform(0.25, 0.75)\n",
    "        fg_test = np.random.uniform(0.25, 0.75)\n",
    "    \n",
    "    # User-identified fraction\n",
    "    elif frac_gauss < 1.0:\n",
    "        fg_train = fg_test = frac_gauss\n",
    "        \n",
    "    num_gauss_train = int(fg_train * n_train)\n",
    "    num_gauss_test =  int(fg_test * n_test)\n",
    "    \n",
    "    num_lorentz_train = n_train - num_gauss_train\n",
    "    num_lorentz_test = n_test - num_gauss_test\n",
    "    \n",
    "    print (num_gauss_train, num_lorentz_train, num_gauss_test, num_lorentz_test)\n",
    "\n",
    "    # Generate training and test sets\n",
    "    X_train_gauss, _ = make_gaussians(num_gauss_train)\n",
    "    X_test_gauss, _  = make_gaussians(num_gauss_test)\n",
    "\n",
    "    X_train_lorentz, _ = make_lorentzians(num_lorentz_train)\n",
    "    X_test_lorentz, _ = make_lorentzians(num_lorentz_test)\n",
    "    \n",
    "    # Classification\n",
    "    y_train = np.ones(n_train)\n",
    "    y_train[0:num_gauss_train] *= 0.0 # Gaussians are 0s\n",
    "    y_train = np_utils.to_categorical(y_train)\n",
    "    \n",
    "    y_test = np.ones(n_test)\n",
    "    y_test[0:num_gauss_test] *= 0.0 # Gaussians are 0s\n",
    "    y_test = np_utils.to_categorical(y_test)\n",
    "\n",
    "    # Combine Gaussian and Lorentzians\n",
    "    X_train = np.concatenate((X_train_gauss, X_train_lorentz))\n",
    "    X_test = np.concatenate((X_test_gauss, X_test_lorentz))\n",
    "    \n",
    "    return X_train, y_train, X_test, y_test"
   ]
  },
  {
   "cell_type": "markdown",
   "metadata": {},
   "source": [
    "## Create, compile, fit, and evaluate NN model"
   ]
  },
  {
   "cell_type": "code",
   "execution_count": 129,
   "metadata": {},
   "outputs": [],
   "source": [
    "# Define baseline model\n",
    "def baseline_model():\n",
    "    # Create model\n",
    "    model = Sequential()\n",
    "    model.add(Dense(32, input_dim=X_train.shape[1], kernel_initializer='normal', activation='relu'))\n",
    "    # There are 2 classes -- Gaussian or Lorentzian -- hence the Dense(2)\n",
    "    model.add(Dense(2, kernel_initializer='normal', activation='softmax')) \n",
    "    \n",
    "    # Compile model\n",
    "    model.compile(loss='categorical_crossentropy', optimizer='adam', metrics=['accuracy'])\n",
    "    \n",
    "    return model"
   ]
  },
  {
   "cell_type": "code",
   "execution_count": 131,
   "metadata": {},
   "outputs": [
    {
     "name": "stdout",
     "output_type": "stream",
     "text": [
      "Train on 10000 samples, validate on 1000 samples\n",
      "Epoch 1/100\n",
      "10000/10000 [==============================] - 0s 20us/step - loss: 0.6381 - accuracy: 0.6972 - val_loss: 0.7793 - val_accuracy: 0.4590\n",
      "Epoch 2/100\n",
      "10000/10000 [==============================] - 0s 11us/step - loss: 0.5726 - accuracy: 0.7012 - val_loss: 0.7669 - val_accuracy: 0.4590\n",
      "Epoch 3/100\n",
      "10000/10000 [==============================] - 0s 11us/step - loss: 0.5456 - accuracy: 0.7012 - val_loss: 0.7275 - val_accuracy: 0.4590\n",
      "Epoch 4/100\n",
      "10000/10000 [==============================] - 0s 10us/step - loss: 0.5084 - accuracy: 0.7032 - val_loss: 0.6641 - val_accuracy: 0.5210\n",
      "Epoch 5/100\n",
      "10000/10000 [==============================] - 0s 11us/step - loss: 0.4650 - accuracy: 0.7645 - val_loss: 0.6201 - val_accuracy: 0.6220\n",
      "Epoch 6/100\n",
      "10000/10000 [==============================] - 0s 11us/step - loss: 0.4214 - accuracy: 0.8021 - val_loss: 0.5545 - val_accuracy: 0.6890\n",
      "Epoch 7/100\n",
      "10000/10000 [==============================] - 0s 11us/step - loss: 0.3763 - accuracy: 0.8322 - val_loss: 0.4933 - val_accuracy: 0.7350\n",
      "Epoch 8/100\n",
      "10000/10000 [==============================] - 0s 13us/step - loss: 0.3296 - accuracy: 0.8616 - val_loss: 0.4313 - val_accuracy: 0.8310\n",
      "Epoch 9/100\n",
      "10000/10000 [==============================] - 0s 10us/step - loss: 0.2861 - accuracy: 0.9160 - val_loss: 0.3851 - val_accuracy: 0.8680\n",
      "Epoch 10/100\n",
      "10000/10000 [==============================] - 0s 11us/step - loss: 0.2513 - accuracy: 0.9356 - val_loss: 0.3386 - val_accuracy: 0.9140\n",
      "Epoch 11/100\n",
      "10000/10000 [==============================] - 0s 11us/step - loss: 0.2232 - accuracy: 0.9492 - val_loss: 0.3071 - val_accuracy: 0.9240\n",
      "Epoch 12/100\n",
      "10000/10000 [==============================] - 0s 10us/step - loss: 0.1993 - accuracy: 0.9567 - val_loss: 0.2744 - val_accuracy: 0.9400\n",
      "Epoch 13/100\n",
      "10000/10000 [==============================] - 0s 11us/step - loss: 0.1789 - accuracy: 0.9656 - val_loss: 0.2544 - val_accuracy: 0.9440\n",
      "Epoch 14/100\n",
      "10000/10000 [==============================] - 0s 12us/step - loss: 0.1617 - accuracy: 0.9686 - val_loss: 0.2260 - val_accuracy: 0.9580\n",
      "Epoch 15/100\n",
      "10000/10000 [==============================] - 0s 15us/step - loss: 0.1466 - accuracy: 0.9745 - val_loss: 0.2046 - val_accuracy: 0.9600\n",
      "Epoch 16/100\n",
      "10000/10000 [==============================] - 0s 13us/step - loss: 0.1335 - accuracy: 0.9771 - val_loss: 0.1879 - val_accuracy: 0.9630\n",
      "Epoch 17/100\n",
      "10000/10000 [==============================] - 0s 11us/step - loss: 0.1222 - accuracy: 0.9780 - val_loss: 0.1728 - val_accuracy: 0.9720\n",
      "Epoch 18/100\n",
      "10000/10000 [==============================] - 0s 11us/step - loss: 0.1120 - accuracy: 0.9810 - val_loss: 0.1565 - val_accuracy: 0.9730\n",
      "Epoch 19/100\n",
      "10000/10000 [==============================] - 0s 12us/step - loss: 0.1030 - accuracy: 0.9824 - val_loss: 0.1453 - val_accuracy: 0.9740\n",
      "Epoch 20/100\n",
      "10000/10000 [==============================] - 0s 14us/step - loss: 0.0951 - accuracy: 0.9836 - val_loss: 0.1333 - val_accuracy: 0.9780\n",
      "Epoch 21/100\n",
      "10000/10000 [==============================] - 0s 11us/step - loss: 0.0881 - accuracy: 0.9859 - val_loss: 0.1243 - val_accuracy: 0.9780\n",
      "Epoch 22/100\n",
      "10000/10000 [==============================] - 0s 10us/step - loss: 0.0816 - accuracy: 0.9873 - val_loss: 0.1158 - val_accuracy: 0.9800\n",
      "Epoch 23/100\n",
      "10000/10000 [==============================] - 0s 11us/step - loss: 0.0759 - accuracy: 0.9885 - val_loss: 0.1061 - val_accuracy: 0.9800\n",
      "Epoch 24/100\n",
      "10000/10000 [==============================] - 0s 13us/step - loss: 0.0706 - accuracy: 0.9896 - val_loss: 0.0990 - val_accuracy: 0.9800\n",
      "Epoch 25/100\n",
      "10000/10000 [==============================] - 0s 12us/step - loss: 0.0659 - accuracy: 0.9904 - val_loss: 0.0921 - val_accuracy: 0.9840\n",
      "Epoch 26/100\n",
      "10000/10000 [==============================] - 0s 11us/step - loss: 0.0615 - accuracy: 0.9926 - val_loss: 0.0857 - val_accuracy: 0.9900\n",
      "Epoch 27/100\n",
      "10000/10000 [==============================] - 0s 10us/step - loss: 0.0576 - accuracy: 0.9933 - val_loss: 0.0806 - val_accuracy: 0.9910\n",
      "Epoch 28/100\n",
      "10000/10000 [==============================] - 0s 10us/step - loss: 0.0540 - accuracy: 0.9940 - val_loss: 0.0752 - val_accuracy: 0.9920\n",
      "Epoch 29/100\n",
      "10000/10000 [==============================] - 0s 13us/step - loss: 0.0506 - accuracy: 0.9942 - val_loss: 0.0705 - val_accuracy: 0.9940\n",
      "Epoch 30/100\n",
      "10000/10000 [==============================] - 0s 12us/step - loss: 0.0475 - accuracy: 0.9953 - val_loss: 0.0663 - val_accuracy: 0.9930\n",
      "Epoch 31/100\n",
      "10000/10000 [==============================] - 0s 10us/step - loss: 0.0448 - accuracy: 0.9953 - val_loss: 0.0627 - val_accuracy: 0.9940\n",
      "Epoch 32/100\n",
      "10000/10000 [==============================] - 0s 11us/step - loss: 0.0421 - accuracy: 0.9965 - val_loss: 0.0586 - val_accuracy: 0.9940\n",
      "Epoch 33/100\n",
      "10000/10000 [==============================] - 0s 10us/step - loss: 0.0396 - accuracy: 0.9963 - val_loss: 0.0548 - val_accuracy: 0.9940\n",
      "Epoch 34/100\n",
      "10000/10000 [==============================] - 0s 10us/step - loss: 0.0373 - accuracy: 0.9967 - val_loss: 0.0514 - val_accuracy: 0.9950\n",
      "Epoch 35/100\n",
      "10000/10000 [==============================] - 0s 11us/step - loss: 0.0352 - accuracy: 0.9968 - val_loss: 0.0489 - val_accuracy: 0.9970\n",
      "Epoch 36/100\n",
      "10000/10000 [==============================] - 0s 10us/step - loss: 0.0333 - accuracy: 0.9969 - val_loss: 0.0469 - val_accuracy: 0.9970\n",
      "Epoch 37/100\n",
      "10000/10000 [==============================] - 0s 10us/step - loss: 0.0314 - accuracy: 0.9972 - val_loss: 0.0442 - val_accuracy: 0.9960\n",
      "Epoch 38/100\n",
      "10000/10000 [==============================] - 0s 12us/step - loss: 0.0296 - accuracy: 0.9972 - val_loss: 0.0408 - val_accuracy: 0.9970\n",
      "Epoch 39/100\n",
      "10000/10000 [==============================] - 0s 11us/step - loss: 0.0281 - accuracy: 0.9973 - val_loss: 0.0390 - val_accuracy: 0.9970\n",
      "Epoch 40/100\n",
      "10000/10000 [==============================] - 0s 11us/step - loss: 0.0265 - accuracy: 0.9976 - val_loss: 0.0372 - val_accuracy: 0.9970\n",
      "Epoch 41/100\n",
      "10000/10000 [==============================] - 0s 12us/step - loss: 0.0251 - accuracy: 0.9975 - val_loss: 0.0352 - val_accuracy: 0.9980\n",
      "Epoch 42/100\n",
      "10000/10000 [==============================] - 0s 12us/step - loss: 0.0238 - accuracy: 0.9978 - val_loss: 0.0336 - val_accuracy: 0.9980\n",
      "Epoch 43/100\n",
      "10000/10000 [==============================] - 0s 12us/step - loss: 0.0225 - accuracy: 0.9980 - val_loss: 0.0314 - val_accuracy: 0.9980\n",
      "Epoch 44/100\n",
      "10000/10000 [==============================] - 0s 12us/step - loss: 0.0213 - accuracy: 0.9980 - val_loss: 0.0303 - val_accuracy: 0.9980\n",
      "Epoch 45/100\n",
      "10000/10000 [==============================] - 0s 10us/step - loss: 0.0203 - accuracy: 0.9983 - val_loss: 0.0282 - val_accuracy: 0.9980\n",
      "Epoch 46/100\n",
      "10000/10000 [==============================] - 0s 10us/step - loss: 0.0192 - accuracy: 0.9984 - val_loss: 0.0265 - val_accuracy: 0.9980\n",
      "Epoch 47/100\n",
      "10000/10000 [==============================] - 0s 10us/step - loss: 0.0183 - accuracy: 0.9986 - val_loss: 0.0253 - val_accuracy: 0.9980\n",
      "Epoch 48/100\n",
      "10000/10000 [==============================] - 0s 12us/step - loss: 0.0173 - accuracy: 0.9984 - val_loss: 0.0243 - val_accuracy: 0.9980\n",
      "Epoch 49/100\n",
      "10000/10000 [==============================] - 0s 11us/step - loss: 0.0165 - accuracy: 0.9987 - val_loss: 0.0227 - val_accuracy: 0.9980\n",
      "Epoch 50/100\n",
      "10000/10000 [==============================] - 0s 11us/step - loss: 0.0157 - accuracy: 0.9989 - val_loss: 0.0220 - val_accuracy: 0.9980\n",
      "Epoch 51/100\n",
      "10000/10000 [==============================] - 0s 12us/step - loss: 0.0149 - accuracy: 0.9989 - val_loss: 0.0212 - val_accuracy: 0.9980\n",
      "Epoch 52/100\n",
      "10000/10000 [==============================] - 0s 12us/step - loss: 0.0142 - accuracy: 0.9990 - val_loss: 0.0200 - val_accuracy: 0.9980\n",
      "Epoch 53/100\n",
      "10000/10000 [==============================] - 0s 11us/step - loss: 0.0135 - accuracy: 0.9993 - val_loss: 0.0189 - val_accuracy: 0.9980\n",
      "Epoch 54/100\n",
      "10000/10000 [==============================] - 0s 11us/step - loss: 0.0129 - accuracy: 0.9993 - val_loss: 0.0180 - val_accuracy: 0.9980\n",
      "Epoch 55/100\n",
      "10000/10000 [==============================] - 0s 11us/step - loss: 0.0122 - accuracy: 0.9993 - val_loss: 0.0168 - val_accuracy: 0.9990\n"
     ]
    },
    {
     "name": "stdout",
     "output_type": "stream",
     "text": [
      "Epoch 56/100\n",
      "10000/10000 [==============================] - 0s 12us/step - loss: 0.0117 - accuracy: 0.9994 - val_loss: 0.0164 - val_accuracy: 0.9980\n",
      "Epoch 57/100\n",
      "10000/10000 [==============================] - 0s 12us/step - loss: 0.0111 - accuracy: 0.9994 - val_loss: 0.0154 - val_accuracy: 0.9990\n",
      "Epoch 58/100\n",
      "10000/10000 [==============================] - 0s 12us/step - loss: 0.0106 - accuracy: 0.9994 - val_loss: 0.0150 - val_accuracy: 0.9980\n",
      "Epoch 59/100\n",
      "10000/10000 [==============================] - 0s 11us/step - loss: 0.0101 - accuracy: 0.9994 - val_loss: 0.0144 - val_accuracy: 0.9980\n",
      "Epoch 60/100\n",
      "10000/10000 [==============================] - 0s 10us/step - loss: 0.0097 - accuracy: 0.9994 - val_loss: 0.0135 - val_accuracy: 0.9990\n",
      "Epoch 61/100\n",
      "10000/10000 [==============================] - 0s 10us/step - loss: 0.0092 - accuracy: 0.9995 - val_loss: 0.0131 - val_accuracy: 0.9990\n",
      "Epoch 62/100\n",
      "10000/10000 [==============================] - 0s 10us/step - loss: 0.0088 - accuracy: 0.9995 - val_loss: 0.0126 - val_accuracy: 0.9990\n",
      "Epoch 63/100\n",
      "10000/10000 [==============================] - 0s 11us/step - loss: 0.0084 - accuracy: 0.9995 - val_loss: 0.0123 - val_accuracy: 0.9990\n",
      "Epoch 64/100\n",
      "10000/10000 [==============================] - 0s 10us/step - loss: 0.0080 - accuracy: 0.9995 - val_loss: 0.0116 - val_accuracy: 0.9990\n",
      "Epoch 65/100\n",
      "10000/10000 [==============================] - 0s 10us/step - loss: 0.0077 - accuracy: 0.9995 - val_loss: 0.0112 - val_accuracy: 0.9990\n",
      "Epoch 66/100\n",
      "10000/10000 [==============================] - 0s 12us/step - loss: 0.0074 - accuracy: 0.9996 - val_loss: 0.0106 - val_accuracy: 0.9990\n",
      "Epoch 67/100\n",
      "10000/10000 [==============================] - 0s 12us/step - loss: 0.0070 - accuracy: 0.9996 - val_loss: 0.0104 - val_accuracy: 0.9990\n",
      "Epoch 68/100\n",
      "10000/10000 [==============================] - 0s 12us/step - loss: 0.0067 - accuracy: 0.9996 - val_loss: 0.0099 - val_accuracy: 0.9990\n",
      "Epoch 69/100\n",
      "10000/10000 [==============================] - 0s 13us/step - loss: 0.0064 - accuracy: 0.9997 - val_loss: 0.0096 - val_accuracy: 0.9990\n",
      "Epoch 70/100\n",
      "10000/10000 [==============================] - 0s 12us/step - loss: 0.0062 - accuracy: 0.9996 - val_loss: 0.0092 - val_accuracy: 0.9990\n",
      "Epoch 71/100\n",
      "10000/10000 [==============================] - 0s 12us/step - loss: 0.0059 - accuracy: 0.9997 - val_loss: 0.0090 - val_accuracy: 0.9990\n",
      "Epoch 72/100\n",
      "10000/10000 [==============================] - 0s 13us/step - loss: 0.0057 - accuracy: 0.9997 - val_loss: 0.0083 - val_accuracy: 0.9990\n",
      "Epoch 73/100\n",
      "10000/10000 [==============================] - 0s 12us/step - loss: 0.0054 - accuracy: 0.9997 - val_loss: 0.0081 - val_accuracy: 0.9990\n",
      "Epoch 74/100\n",
      "10000/10000 [==============================] - 0s 15us/step - loss: 0.0052 - accuracy: 0.9997 - val_loss: 0.0077 - val_accuracy: 0.9990\n",
      "Epoch 75/100\n",
      "10000/10000 [==============================] - 0s 12us/step - loss: 0.0050 - accuracy: 0.9997 - val_loss: 0.0073 - val_accuracy: 0.9990\n",
      "Epoch 76/100\n",
      "10000/10000 [==============================] - 0s 12us/step - loss: 0.0047 - accuracy: 0.9998 - val_loss: 0.0073 - val_accuracy: 0.9990\n",
      "Epoch 77/100\n",
      "10000/10000 [==============================] - 0s 9us/step - loss: 0.0046 - accuracy: 0.9997 - val_loss: 0.0069 - val_accuracy: 0.9990\n",
      "Epoch 78/100\n",
      "10000/10000 [==============================] - 0s 10us/step - loss: 0.0044 - accuracy: 0.9997 - val_loss: 0.0065 - val_accuracy: 0.9990\n",
      "Epoch 79/100\n",
      "10000/10000 [==============================] - 0s 13us/step - loss: 0.0042 - accuracy: 0.9998 - val_loss: 0.0065 - val_accuracy: 0.9990\n",
      "Epoch 80/100\n",
      "10000/10000 [==============================] - 0s 10us/step - loss: 0.0040 - accuracy: 0.9997 - val_loss: 0.0060 - val_accuracy: 0.9990\n",
      "Epoch 81/100\n",
      "10000/10000 [==============================] - 0s 9us/step - loss: 0.0039 - accuracy: 0.9998 - val_loss: 0.0061 - val_accuracy: 0.9990\n",
      "Epoch 82/100\n",
      "10000/10000 [==============================] - 0s 9us/step - loss: 0.0037 - accuracy: 0.9998 - val_loss: 0.0056 - val_accuracy: 0.9990\n",
      "Epoch 83/100\n",
      "10000/10000 [==============================] - 0s 10us/step - loss: 0.0035 - accuracy: 0.9999 - val_loss: 0.0056 - val_accuracy: 0.9990\n",
      "Epoch 84/100\n",
      "10000/10000 [==============================] - 0s 12us/step - loss: 0.0034 - accuracy: 0.9998 - val_loss: 0.0051 - val_accuracy: 0.9990\n",
      "Epoch 85/100\n",
      "10000/10000 [==============================] - 0s 10us/step - loss: 0.0033 - accuracy: 0.9999 - val_loss: 0.0051 - val_accuracy: 0.9990\n",
      "Epoch 86/100\n",
      "10000/10000 [==============================] - 0s 9us/step - loss: 0.0031 - accuracy: 1.0000 - val_loss: 0.0049 - val_accuracy: 0.9990\n",
      "Epoch 87/100\n",
      "10000/10000 [==============================] - 0s 9us/step - loss: 0.0030 - accuracy: 1.0000 - val_loss: 0.0047 - val_accuracy: 0.9990\n",
      "Epoch 88/100\n",
      "10000/10000 [==============================] - 0s 10us/step - loss: 0.0029 - accuracy: 1.0000 - val_loss: 0.0046 - val_accuracy: 0.9990\n",
      "Epoch 89/100\n",
      "10000/10000 [==============================] - 0s 10us/step - loss: 0.0028 - accuracy: 1.0000 - val_loss: 0.0043 - val_accuracy: 0.9990\n",
      "Epoch 90/100\n",
      "10000/10000 [==============================] - 0s 12us/step - loss: 0.0027 - accuracy: 1.0000 - val_loss: 0.0043 - val_accuracy: 0.9990\n",
      "Epoch 91/100\n",
      "10000/10000 [==============================] - 0s 12us/step - loss: 0.0026 - accuracy: 1.0000 - val_loss: 0.0042 - val_accuracy: 0.9990\n",
      "Epoch 92/100\n",
      "10000/10000 [==============================] - 0s 11us/step - loss: 0.0025 - accuracy: 1.0000 - val_loss: 0.0037 - val_accuracy: 0.9990\n",
      "Epoch 93/100\n",
      "10000/10000 [==============================] - 0s 14us/step - loss: 0.0024 - accuracy: 1.0000 - val_loss: 0.0038 - val_accuracy: 0.9990\n",
      "Epoch 94/100\n",
      "10000/10000 [==============================] - 0s 13us/step - loss: 0.0023 - accuracy: 1.0000 - val_loss: 0.0036 - val_accuracy: 0.9990\n",
      "Epoch 95/100\n",
      "10000/10000 [==============================] - 0s 12us/step - loss: 0.0022 - accuracy: 1.0000 - val_loss: 0.0035 - val_accuracy: 0.9990\n",
      "Epoch 96/100\n",
      "10000/10000 [==============================] - 0s 10us/step - loss: 0.0021 - accuracy: 1.0000 - val_loss: 0.0035 - val_accuracy: 0.9990\n",
      "Epoch 97/100\n",
      "10000/10000 [==============================] - 0s 12us/step - loss: 0.0020 - accuracy: 1.0000 - val_loss: 0.0032 - val_accuracy: 0.9990\n",
      "Epoch 98/100\n",
      "10000/10000 [==============================] - 0s 10us/step - loss: 0.0019 - accuracy: 1.0000 - val_loss: 0.0031 - val_accuracy: 0.9990\n",
      "Epoch 99/100\n",
      "10000/10000 [==============================] - 0s 10us/step - loss: 0.0018 - accuracy: 1.0000 - val_loss: 0.0031 - val_accuracy: 0.9990\n",
      "Epoch 100/100\n",
      "10000/10000 [==============================] - 0s 11us/step - loss: 0.0018 - accuracy: 1.0000 - val_loss: 0.0030 - val_accuracy: 0.9990\n",
      "Baseline Error: 0.10%\n"
     ]
    }
   ],
   "source": [
    "# Build the model\n",
    "model = baseline_model()\n",
    "\n",
    "# Create dataset and fit the model\n",
    "X_train, y_train, X_test, y_test = generate_dataset()\n",
    "model.fit(X_train, y_train, validation_data=(X_test, y_test), epochs=100, batch_size=128, verbose=1)\n",
    "\n",
    "# Final evaluation of the model\n",
    "scores = model.evaluate(X_test, y_test, verbose=0)\n",
    "print(\"Baseline Error: %.2f%%\" % (100-scores[1]*100))"
   ]
  },
  {
   "cell_type": "code",
   "execution_count": 138,
   "metadata": {},
   "outputs": [
    {
     "name": "stdout",
     "output_type": "stream",
     "text": [
      "2 8 680 320\n",
      "1000/1000 [==============================] - 0s 24us/step\n"
     ]
    },
    {
     "data": {
      "text/plain": [
       "[0.0030457507157698274, 0.9990000128746033]"
      ]
     },
     "execution_count": 138,
     "metadata": {},
     "output_type": "execute_result"
    }
   ],
   "source": [
    "_, _, new_X, new_y = generate_dataset(n_train=10, n_test=1000)\n",
    "model.evaluate(new_X, new_y)"
   ]
  },
  {
   "cell_type": "markdown",
   "metadata": {},
   "source": [
    "# Classify and Regress"
   ]
  },
  {
   "cell_type": "code",
   "execution_count": 139,
   "metadata": {},
   "outputs": [],
   "source": [
    "# Create training and test sets\n",
    "def generate_dataset(n_train=10000, n_test=1000, frac_gauss=None):\n",
    "    # From desired training and test set sizes, determine the fraction that is Gaussian vs Lorentzian\n",
    "    \n",
    "    # Random fraction w/limits to avoid too many of any one kind\n",
    "    if frac_gauss is None:\n",
    "        fg_train = np.random.uniform(0.25, 0.75)\n",
    "        fg_test = np.random.uniform(0.25, 0.75)\n",
    "    \n",
    "    # User-identified fraction\n",
    "    elif frac_gauss < 1.0:\n",
    "        fg_train = fg_test = frac_gauss\n",
    "        \n",
    "    num_gauss_train = int(fg_train * n_train)\n",
    "    num_gauss_test =  int(fg_test * n_test)\n",
    "    \n",
    "    num_lorentz_train = n_train - num_gauss_train\n",
    "    num_lorentz_test = n_test - num_gauss_test\n",
    "    \n",
    "    print (num_gauss_train, num_lorentz_train, num_gauss_test, num_lorentz_test)\n",
    "\n",
    "    # Generate training and test sets\n",
    "    X_train_gauss, y_train_gauss = make_gaussians(num_gauss_train)\n",
    "    X_test_gauss, y_test_gauss = make_gaussians(num_gauss_test)\n",
    "\n",
    "    X_train_lorentz, y_train_lorentz = make_lorentzians(num_lorentz_train)\n",
    "    X_test_lorentz, y_test_lorentz = make_lorentzians(num_lorentz_test)\n",
    "\n",
    "    # Combine Gaussian and Lorentzians\n",
    "    X_train = np.concatenate((X_train_gauss, X_train_lorentz))\n",
    "    y_train = np.concatenate((y_train_gauss, y_train_lorentz))\n",
    "    X_test = np.concatenate((X_test_gauss, X_test_lorentz))\n",
    "    y_test = np.concatenate((y_test_gauss, y_test_lorentz))\n",
    "    \n",
    "    # Want to classify the arrays too...\n",
    "    \n",
    "    return X_train, y_train, X_test, y_test"
   ]
  },
  {
   "cell_type": "code",
   "execution_count": null,
   "metadata": {},
   "outputs": [],
   "source": []
  }
 ],
 "metadata": {
  "kernelspec": {
   "display_name": "Python 3",
   "language": "python",
   "name": "python3"
  },
  "language_info": {
   "codemirror_mode": {
    "name": "ipython",
    "version": 3
   },
   "file_extension": ".py",
   "mimetype": "text/x-python",
   "name": "python",
   "nbconvert_exporter": "python",
   "pygments_lexer": "ipython3",
   "version": "3.6.10"
  }
 },
 "nbformat": 4,
 "nbformat_minor": 4
}
