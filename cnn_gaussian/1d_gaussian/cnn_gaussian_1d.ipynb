{
 "cells": [
  {
   "cell_type": "markdown",
   "metadata": {},
   "source": [
    "# Imports"
   ]
  },
  {
   "cell_type": "code",
   "execution_count": 1,
   "metadata": {},
   "outputs": [
    {
     "name": "stderr",
     "output_type": "stream",
     "text": [
      "\n",
      "Bad key \"backend.qt4\" on line 29 in\n",
      "/Users/thsyu/.matplotlib/matplotlibrc.\n",
      "You probably need to get an updated matplotlibrc file from\n",
      "https://github.com/matplotlib/matplotlib/blob/v3.1.2/matplotlibrc.template\n",
      "or from the matplotlib source distribution\n",
      "/Users/thsyu/.pyenv/versions/anaconda3-5.1.0/lib/python3.6/site-packages/ipykernel_launcher.py:4: MatplotlibDeprecationWarning: \n",
      "The verbose.level rcparam was deprecated in Matplotlib 3.1 and will be removed in 3.3.\n",
      "  after removing the cwd from sys.path.\n",
      "/Users/thsyu/.pyenv/versions/anaconda3-5.1.0/lib/python3.6/site-packages/ipykernel_launcher.py:4: MatplotlibDeprecationWarning: \n",
      "The verbose.fileo rcparam was deprecated in Matplotlib 3.1 and will be removed in 3.3.\n",
      "  after removing the cwd from sys.path.\n",
      "Using TensorFlow backend.\n"
     ]
    }
   ],
   "source": [
    "import numpy as np\n",
    "import pandas as pd\n",
    "import tensorflow as tf\n",
    "import matplotlib.pyplot as plt\n",
    "from matplotlib import cm\n",
    "import pdb\n",
    "\n",
    "from tensorflow.keras.models import load_model\n",
    "from keras.models import Sequential, Model\n",
    "from keras.layers import Dense, Input"
   ]
  },
  {
   "cell_type": "markdown",
   "metadata": {},
   "source": [
    "# Predicting the mean, standard deviation of 1D Gaussian"
   ]
  },
  {
   "cell_type": "markdown",
   "metadata": {},
   "source": [
    "## Using Neural Nets"
   ]
  },
  {
   "cell_type": "code",
   "execution_count": 2,
   "metadata": {},
   "outputs": [],
   "source": [
    "def predict(model):\n",
    "    #pdb.set_trace()\n",
    "    # Make 1000 new Gaussians to apply the model to\n",
    "    predX, predy = make_gaussians(1000)\n",
    "    \n",
    "    # Apply the model to get predicted means and sigmas of the Gaussians\n",
    "    pmeans, psigs = model.predict(predX, batch_size=None, verbose=0)\n",
    "    \n",
    "    # Check distribution of difference between true and predicted means, sigmas\n",
    "    plt.subplot(211)\n",
    "    _, _, _ = plt.hist(predy[:, 0] - pmeans.flatten(), bins=30)\n",
    "    plt.subplot(212)\n",
    "    _, _, _ = plt.hist(predy[:, 1] - psigs.flatten(), bins=30)\n",
    "    \n",
    "    plt.show()\n",
    "    \n",
    "    # Check the relation between true and predicted means, sigmas\n",
    "    oto_means = np.linspace(-1., 1., 32) # one-to-one relation for means\n",
    "    oto_sigmas = np.linspace(0.25, 4.0, 32) # one-to-one relation for sigmas\n",
    "    \n",
    "    plt.subplot(211)\n",
    "    # Plot the true y's and predicted y's from the NN model\n",
    "    plt.plot(predy[:, 0], pmeans.flatten(), marker='.')\n",
    "    # Plot the 1-to-1 line\n",
    "    plt.plot(oto_means, oto_means, color='black', ls='--')\n",
    "    plt.xlim(-1.0, 1.0)\n",
    "    plt.ylim(-1.0, 1.0)\n",
    "    plt.xlabel('True value')\n",
    "    plt.ylabel('Predicted value')\n",
    "    plt.title(r'$\\mu$')\n",
    "    \n",
    "    plt.subplot(212)\n",
    "    plt.plot(predy[:, 1], psigs.flatten(), marker='.')\n",
    "    plt.plot(oto_sigmas, oto_sigmas, color='black', ls='--')\n",
    "    plt.xlim(0.25, 4.0)\n",
    "    plt.ylim(0.25, 4.0)\n",
    "    plt.xlabel('True value')\n",
    "    plt.ylabel('Predicted value')\n",
    "    plt.title(r'$\\sigma$')\n",
    "    \n",
    "    #plt.savefig('gaussian_characteristics.pdf')\n",
    "    plt.show()"
   ]
  },
  {
   "cell_type": "markdown",
   "metadata": {},
   "source": [
    "### Generate Gaussian given mu, sigma"
   ]
  },
  {
   "cell_type": "code",
   "execution_count": 3,
   "metadata": {},
   "outputs": [],
   "source": [
    "# Calculate a Gaussian given its mean and standard deviation\n",
    "def gaussian(x_vals, mu, sigma):\n",
    "    return np.exp(-0.5 * ((x_vals - mu)/sigma)**2) / (sigma * np.sqrt(2*np.pi))\n",
    "\n",
    "# Make array that describes Gaussian\n",
    "def make_gaussians(num, mu_min=-1.0, mu_max=1.0, sig_min=0.25, sig_max=4.0): \n",
    "\n",
    "    means = np.random.uniform(mu_min, mu_max, num)\n",
    "    sigmas = np.random.uniform(sig_min, sig_max, num)\n",
    "\n",
    "    x_vals = np.linspace(-10.0, 10.0, 32)\n",
    "    models = np.zeros((num, 32))\n",
    "\n",
    "    for i in range(num):\n",
    "        models[i] = gaussian(x_vals, means[i], sigmas[i])\n",
    "    \n",
    "    # Also want to save and return the true means, sigmas used for the Gaussians\n",
    "    targets = np.vstack((means, sigmas)).T\n",
    "\n",
    "    return models, targets"
   ]
  },
  {
   "cell_type": "code",
   "execution_count": 4,
   "metadata": {},
   "outputs": [],
   "source": [
    "# Create training and test sets\n",
    "def generate_dataset(n_train=10000, n_test=1000):\n",
    "    X_train, y_train = make_gaussians(n_train)\n",
    "    X_test, y_test = make_gaussians(n_test)\n",
    "    \n",
    "    return X_train, y_train, X_test, y_test"
   ]
  },
  {
   "cell_type": "markdown",
   "metadata": {},
   "source": [
    "### Create, compile, fit, and evaluate NN model"
   ]
  },
  {
   "cell_type": "code",
   "execution_count": 5,
   "metadata": {},
   "outputs": [],
   "source": [
    "# Check out: https://datascience.stackexchange.com/questions/28003/get-multiple-output-from-keras\n",
    "# for multi-output regression using Keras NNs\n",
    "\n",
    "def evaluate_model(X_train, y_train, X_test, y_test):\n",
    "    # Create model\n",
    "    \n",
    "    # Here, this means that our training set of 10000 samples will be divided into\n",
    "    # 10000/batch_size = 10000/10 = 1000 batches, each with 10 samples. The model\n",
    "    # weights will be updated after each batch of 10.\n",
    "    # One epoch will involve 1000 batches, or 1000 updates to the model\n",
    "    # Since we are running 100 epochs, it will go through 100*1000 batches = 100,000 batches\n",
    "    # during the entire process\n",
    "    verbose, epochs, batch_size = 1, 10, 16\n",
    "    input_shape = X_train.shape[1]\n",
    "\n",
    "    inputs = Input(shape=(input_shape,))\n",
    "\n",
    "    x = Dense(10, activation='relu')(inputs)\n",
    "    x = Dense(5, activation='relu')(x)\n",
    "    out1 = Dense(1, activation='linear', name='mean')(x)\n",
    "    out2 = Dense(1, activation='linear', name='sigma')(x)\n",
    "\n",
    "    # Create model with input layer and dense layers\n",
    "    model = Model(inputs=inputs, outputs=[out1, out2])\n",
    "    model.compile(loss='mse', optimizer='rmsprop')#, metrics=['accuracy'])\n",
    "\n",
    "    # Fit model\n",
    "    model.fit(X_train, [y_train[:,0], y_train[:,1]], epochs=epochs, verbose=verbose)\n",
    "    \n",
    "    pdb.set_trace()\n",
    "    model.save('test_gauss1d')\n",
    "\n",
    "    # Run model on test set\n",
    "    accuracy = model.evaluate(X_test, [y_test[:,0], y_test[:,1]], batch_size=batch_size, verbose=0)\n",
    "    \n",
    "    #print (model.metrics_names)\n",
    "    predict(model)\n",
    "    \n",
    "    return accuracy"
   ]
  },
  {
   "cell_type": "code",
   "execution_count": 6,
   "metadata": {},
   "outputs": [],
   "source": [
    "# If relevant, check accuracy of the model\n",
    "def summarize_results(scores):\n",
    "    #print(scores)\n",
    "    m, s = np.mean(scores), np.std(scores)\n",
    "    print('Accuracy: %.3f%% (+/-%.3f)' % (m, s))\n",
    "    \n",
    "    return"
   ]
  },
  {
   "cell_type": "code",
   "execution_count": 7,
   "metadata": {},
   "outputs": [],
   "source": [
    "def detect_features(repeats=3):\n",
    "    # Generate data\n",
    "    X_train, y_train, X_test, y_test = generate_dataset()\n",
    "    \n",
    "    # Repeat experiment\n",
    "    scores = list()\n",
    "    \n",
    "    for r in range(repeats):\n",
    "        score = evaluate_model(X_train, y_train, X_test, y_test)\n",
    "        #pdb.set_trace()\n",
    "        # **** score[0] below is currently the loss\n",
    "        score = np.asarray(score[0]) #* 100.0\n",
    "        print('>#%d: %.3f' % (r + 1, score))\n",
    "        scores.append(score)\n",
    "        \n",
    "    # Summarize results\n",
    "    #summarize_results(scores)\n",
    "    \n",
    "    return"
   ]
  },
  {
   "cell_type": "code",
   "execution_count": 8,
   "metadata": {
    "scrolled": true
   },
   "outputs": [
    {
     "name": "stdout",
     "output_type": "stream",
     "text": [
      "Epoch 1/10\n",
      "10000/10000 [==============================] - 1s 60us/step - loss: 2.9696 - mean_loss: 0.2810 - sigma_loss: 2.6855\n",
      "Epoch 2/10\n",
      "10000/10000 [==============================] - 0s 45us/step - loss: 0.3019 - mean_loss: 0.1435 - sigma_loss: 0.1580\n",
      "Epoch 3/10\n",
      "10000/10000 [==============================] - 0s 44us/step - loss: 0.0480 - mean_loss: 0.0336 - sigma_loss: 0.0144\n",
      "Epoch 4/10\n",
      "10000/10000 [==============================] - 0s 44us/step - loss: 0.0126 - mean_loss: 0.0084 - sigma_loss: 0.0041\n",
      "Epoch 5/10\n",
      "10000/10000 [==============================] - 0s 46us/step - loss: 0.0050 - mean_loss: 0.0027 - sigma_loss: 0.0023\n",
      "Epoch 6/10\n",
      "10000/10000 [==============================] - 0s 46us/step - loss: 0.0031 - mean_loss: 0.0013 - sigma_loss: 0.0019\n",
      "Epoch 7/10\n",
      "10000/10000 [==============================] - 0s 46us/step - loss: 0.0025 - mean_loss: 7.7845e-04 - sigma_loss: 0.0017\n",
      "Epoch 8/10\n",
      "10000/10000 [==============================] - 0s 45us/step - loss: 0.0022 - mean_loss: 5.6556e-04 - sigma_loss: 0.0016\n",
      "Epoch 9/10\n",
      "10000/10000 [==============================] - 0s 44us/step - loss: 0.0019 - mean_loss: 4.1735e-04 - sigma_loss: 0.0015\n",
      "Epoch 10/10\n",
      "10000/10000 [==============================] - 0s 44us/step - loss: 0.0018 - mean_loss: 3.5453e-04 - sigma_loss: 0.0015\n",
      "> <ipython-input-5-89294a59f28f>(31)evaluate_model()\n",
      "-> model.save('test_gauss1d')\n",
      "(Pdb) model.save('test_gauss1d')\n",
      "(Pdb) c\n"
     ]
    },
    {
     "data": {
      "image/png": "[encoded data removed]",
      "text/plain": [
       "<Figure size 432x288 with 2 Axes>"
      ]
     },
     "metadata": {
      "needs_background": "light"
     },
     "output_type": "display_data"
    },
    {
     "data": {
      "image/png": "[encoded data removed]",
      "text/plain": [
       "<Figure size 432x288 with 2 Axes>"
      ]
     },
     "metadata": {
      "needs_background": "light"
     },
     "output_type": "display_data"
    },
    {
     "name": "stdout",
     "output_type": "stream",
     "text": [
      ">#1: 0.002\n",
      "Epoch 1/10\n",
      "10000/10000 [==============================] - 1s 58us/step - loss: 2.0277 - mean_loss: 0.5625 - sigma_loss: 1.4629\n",
      "Epoch 2/10\n",
      "10000/10000 [==============================] - 0s 43us/step - loss: 0.2819 - mean_loss: 0.2391 - sigma_loss: 0.0425\n",
      "Epoch 3/10\n",
      "10000/10000 [==============================] - 0s 43us/step - loss: 0.0793 - mean_loss: 0.0645 - sigma_loss: 0.0147\n",
      "Epoch 4/10\n",
      "10000/10000 [==============================] - 0s 44us/step - loss: 0.0239 - mean_loss: 0.0132 - sigma_loss: 0.0107\n",
      "Epoch 5/10\n",
      "10000/10000 [==============================] - 0s 43us/step - loss: 0.0108 - mean_loss: 0.0034 - sigma_loss: 0.0074\n",
      "Epoch 6/10\n",
      "10000/10000 [==============================] - 0s 48us/step - loss: 0.0078 - mean_loss: 0.0025 - sigma_loss: 0.0053\n",
      "Epoch 7/10\n",
      "10000/10000 [==============================] - 1s 51us/step - loss: 0.0060 - mean_loss: 0.0022 - sigma_loss: 0.0039\n",
      "Epoch 8/10\n",
      "10000/10000 [==============================] - 1s 52us/step - loss: 0.0047 - mean_loss: 0.0018 - sigma_loss: 0.0029\n",
      "Epoch 9/10\n",
      "10000/10000 [==============================] - 0s 48us/step - loss: 0.0036 - mean_loss: 0.0013 - sigma_loss: 0.0023\n",
      "Epoch 10/10\n",
      "10000/10000 [==============================] - 0s 43us/step - loss: 0.0029 - mean_loss: 8.4659e-04 - sigma_loss: 0.0020\n",
      "> <ipython-input-5-89294a59f28f>(31)evaluate_model()\n",
      "-> model.save('test_gauss1d')\n",
      "(Pdb) c\n"
     ]
    },
    {
     "data": {
      "image/png": "[encoded data removed]",
      "text/plain": [
       "<Figure size 432x288 with 2 Axes>"
      ]
     },
     "metadata": {
      "needs_background": "light"
     },
     "output_type": "display_data"
    },
    {
     "data": {
      "image/png": "[encoded data removed]",
      "text/plain": [
       "<Figure size 432x288 with 2 Axes>"
      ]
     },
     "metadata": {
      "needs_background": "light"
     },
     "output_type": "display_data"
    },
    {
     "name": "stdout",
     "output_type": "stream",
     "text": [
      ">#2: 0.003\n",
      "Epoch 1/10\n",
      "10000/10000 [==============================] - 1s 63us/step - loss: 2.8706 - mean_loss: 0.3500 - sigma_loss: 2.5170\n",
      "Epoch 2/10\n",
      "10000/10000 [==============================] - 0s 45us/step - loss: 0.2708 - mean_loss: 0.1563 - sigma_loss: 0.1143\n",
      "Epoch 3/10\n",
      "10000/10000 [==============================] - 0s 47us/step - loss: 0.0527 - mean_loss: 0.0380 - sigma_loss: 0.0147\n",
      "Epoch 4/10\n",
      "10000/10000 [==============================] - 1s 51us/step - loss: 0.0130 - mean_loss: 0.0062 - sigma_loss: 0.0068\n",
      "Epoch 5/10\n",
      "10000/10000 [==============================] - 0s 48us/step - loss: 0.0055 - mean_loss: 0.0023 - sigma_loss: 0.0032\n",
      "Epoch 6/10\n",
      "10000/10000 [==============================] - 1s 50us/step - loss: 0.0032 - mean_loss: 0.0014 - sigma_loss: 0.0018\n",
      "Epoch 7/10\n",
      "10000/10000 [==============================] - 0s 45us/step - loss: 0.0024 - mean_loss: 0.0011 - sigma_loss: 0.0014\n",
      "Epoch 8/10\n",
      "10000/10000 [==============================] - 0s 47us/step - loss: 0.0021 - mean_loss: 9.2170e-04 - sigma_loss: 0.0012\n",
      "Epoch 9/10\n",
      "10000/10000 [==============================] - 0s 48us/step - loss: 0.0019 - mean_loss: 7.5291e-04 - sigma_loss: 0.0012\n",
      "Epoch 10/10\n",
      "10000/10000 [==============================] - 0s 46us/step - loss: 0.0018 - mean_loss: 6.8040e-04 - sigma_loss: 0.0011\n",
      "> <ipython-input-5-89294a59f28f>(31)evaluate_model()\n",
      "-> model.save('test_gauss1d')\n",
      "(Pdb) c\n"
     ]
    },
    {
     "data": {
      "image/png": "[encoded data removed]",
      "text/plain": [
       "<Figure size 432x288 with 2 Axes>"
      ]
     },
     "metadata": {
      "needs_background": "light"
     },
     "output_type": "display_data"
    },
    {
     "data": {
      "image/png": "[encoded data removed]",
      "text/plain": [
       "<Figure size 432x288 with 2 Axes>"
      ]
     },
     "metadata": {
      "needs_background": "light"
     },
     "output_type": "display_data"
    },
    {
     "name": "stdout",
     "output_type": "stream",
     "text": [
      ">#3: 0.001\n"
     ]
    }
   ],
   "source": [
    "detect_features()"
   ]
  },
  {
   "cell_type": "code",
   "execution_count": 21,
   "metadata": {},
   "outputs": [
    {
     "data": {
      "image/png": "[encoded data removed]",
      "text/plain": [
       "<Figure size 432x288 with 1 Axes>"
      ]
     },
     "metadata": {
      "needs_background": "light"
     },
     "output_type": "display_data"
    }
   ],
   "source": [
    "tst = load_model('test_gauss1d')\n",
    "a, b, c, d = generate_dataset(10, 10)\n",
    "e = tst.predict(c)\n",
    "\n",
    "plt.plot(d[:,0], e[0], 'o')\n",
    "plt.show()"
   ]
  },
  {
   "cell_type": "markdown",
   "metadata": {},
   "source": [
    "## Using Support Vector Machines (SVM) for classification"
   ]
  },
  {
   "cell_type": "markdown",
   "metadata": {},
   "source": [
    "### Support Vector Regression"
   ]
  },
  {
   "cell_type": "markdown",
   "metadata": {},
   "source": [
    "The method of Support Vector Classification can be extended to solve regression problems. This method is called Support Vector Regression.\n",
    "\n",
    "There are three different implementations of Support Vector Regression: SVR, NuSVR and LinearSVR. LinearSVR provides a faster implementation than SVR but only considers the linear kernel, while NuSVR implements a slightly different formulation than SVR and LinearSVR. See Implementation details for further details.\n",
    "\n",
    "See Section 1.4.2 of https://scikit-learn.org/stable/modules/svm.html"
   ]
  },
  {
   "cell_type": "markdown",
   "metadata": {},
   "source": [
    "### Create, compile, and fit model, and use it to predict"
   ]
  },
  {
   "cell_type": "code",
   "execution_count": null,
   "metadata": {},
   "outputs": [],
   "source": [
    "# Modelled this following the 'Separate Model for Each Output (MultiOutputRegressor)'\n",
    "# section of https://machinelearningmastery.com/multi-output-regression-models-with-python/\n",
    "# but changed LinearSVR to SVR\n",
    "from sklearn.datasets import make_regression\n",
    "from sklearn.multioutput import MultiOutputRegressor\n",
    "from sklearn.svm import SVR\n",
    "\n",
    "# create datasets\n",
    "trainX, trainy, testX, testy = generate_dataset()\n",
    "\n",
    "# define model\n",
    "model = SVR(kernel='rbf')\n",
    "wrapper = MultiOutputRegressor(model)\n",
    "\n",
    "# fit model\n",
    "wrapper.fit(trainX, trainy)\n",
    "\n",
    "# make a prediction\n",
    "yhat = wrapper.predict(testX)\n",
    "\n",
    "# summarize prediction\n",
    "#print(yhat)"
   ]
  },
  {
   "cell_type": "markdown",
   "metadata": {},
   "source": [
    "#### Plot predictions vs true"
   ]
  },
  {
   "cell_type": "code",
   "execution_count": null,
   "metadata": {},
   "outputs": [],
   "source": [
    "x_vals = np.linspace(-10.0, 10.0, 32)"
   ]
  },
  {
   "cell_type": "code",
   "execution_count": null,
   "metadata": {},
   "outputs": [],
   "source": [
    "fig, (ax1, ax2) = plt.subplots(1, 2, figsize=(10, 5))\n",
    "\n",
    "ax1.hist(yhat[:, 0] - testy[:, 0], bins=30)\n",
    "ax1.set_xlabel('(predicted - true) value')\n",
    "ax1.set_title(r'$\\mu$')\n",
    "\n",
    "ax2.hist(yhat[:, 1] - testy[:, 1], bins=30)\n",
    "ax2.set_xlabel('(predicted - true) value')\n",
    "ax2.set_title(r'$\\sigma$')\n",
    "\n",
    "fig.show()"
   ]
  },
  {
   "cell_type": "code",
   "execution_count": null,
   "metadata": {},
   "outputs": [],
   "source": [
    "num_lines= yhat.shape[0]\n",
    "cm_subsection = np.linspace(0.0, 1.0, 10) \n",
    "\n",
    "colors = [ cm.jet(x) for x in cm_subsection ]\n",
    "\n",
    "# Plot the true Gaussians (solid lines) and predicted Gaussians (dashed lines) for a sample of 10\n",
    "for i in range(0, 10):#testy.shape[0]):\n",
    "    plt.plot(x_vals, gaussian(x_vals, yhat[i][0], yhat[i][1]), color=colors[i])\n",
    "    plt.plot(x_vals, gaussian(x_vals, testy[i][0], testy[i][1]), color=colors[i], ls='--')\n",
    "    \n",
    "plt.show()"
   ]
  },
  {
   "cell_type": "code",
   "execution_count": null,
   "metadata": {},
   "outputs": [],
   "source": [
    "fig, (ax1, ax2) = plt.subplots(1, 2, figsize=(10, 5))\n",
    "\n",
    "ax1.plot(yhat[:,0], testy[:,0], marker='o')\n",
    "ax1.plot(np.linspace(-1.0, 1.0), np.linspace(-1.0, 1.0), color='black', ls='--')\n",
    "ax1.set_xlabel('Predicted value')\n",
    "ax1.set_ylabel('True value')\n",
    "ax1.set_title(r'Gaussian $\\mu$')\n",
    "\n",
    "ax2.plot(yhat[:,1], testy[:,1], marker='o')\n",
    "ax2.plot(np.linspace(0.25, 4.0), np.linspace(0.25, 4.0), color='black', ls='--')\n",
    "ax2.set_xlabel('Predicted value')\n",
    "ax2.set_ylabel('True value')\n",
    "ax2.set_title(r'Gaussian $\\sigma$')\n",
    "\n",
    "fig.show()"
   ]
  },
  {
   "cell_type": "code",
   "execution_count": null,
   "metadata": {},
   "outputs": [],
   "source": []
  }
 ],
 "metadata": {
  "kernelspec": {
   "display_name": "Python 3",
   "language": "python",
   "name": "python3"
  },
  "language_info": {
   "codemirror_mode": {
    "name": "ipython",
    "version": 3
   },
   "file_extension": ".py",
   "mimetype": "text/x-python",
   "name": "python",
   "nbconvert_exporter": "python",
   "pygments_lexer": "ipython3",
   "version": "3.6.10"
  }
 },
 "nbformat": 4,
 "nbformat_minor": 4
}
