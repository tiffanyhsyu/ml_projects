{
 "cells": [
  {
   "cell_type": "markdown",
   "metadata": {},
   "source": [
    "# Imports"
   ]
  },
  {
   "cell_type": "code",
   "execution_count": 2,
   "metadata": {},
   "outputs": [],
   "source": [
    "import numpy as np\n",
    "import pandas as pd\n",
    "import tensorflow as tf\n",
    "import matplotlib.pyplot as plt\n",
    "from matplotlib import cm\n",
    "import pdb\n",
    "\n",
    "import keras.backend as K\n",
    "from keras import losses\n",
    "from keras.models import Sequential, Input, Model\n",
    "from keras.layers import Activation, Dense, Flatten, Conv1D, MaxPooling1D\n",
    "from keras.utils import np_utils"
   ]
  },
  {
   "cell_type": "markdown",
   "metadata": {},
   "source": [
    "# Distinguish Gaussians from Lorentzians, and predicting the mean, standard deviation if Gaussian"
   ]
  },
  {
   "cell_type": "markdown",
   "metadata": {},
   "source": [
    "## Plot CNN results"
   ]
  },
  {
   "cell_type": "code",
   "execution_count": 3,
   "metadata": {},
   "outputs": [],
   "source": [
    "def predict(model):\n",
    "    #pdb.set_trace()\n",
    "    # Make 1000 new Gaussians to apply the model to\n",
    "    predX, predy = make_gaussians(1000)\n",
    "    \n",
    "    # Apply the model to get predicted means and sigmas of the Gaussians\n",
    "    pmeans, psigs = model.predict(predX, batch_size=None, verbose=0)\n",
    "    \n",
    "    # Check distribution of difference between true and predicted means, sigmas\n",
    "    plt.subplot(211)\n",
    "    _, _, _ = plt.hist(predy[:, 0] - pmeans.flatten(), bins=30)\n",
    "    plt.subplot(212)\n",
    "    _, _, _ = plt.hist(predy[:, 1] - psigs.flatten(), bins=30)\n",
    "    \n",
    "    plt.show()\n",
    "    \n",
    "    # Check the relation between true and predicted means, sigmas\n",
    "    oto_means = np.linspace(-1., 1., 32) # one-to-one relation for means\n",
    "    oto_sigmas = np.linspace(0.25, 4.0, 32) # one-to-one relation for sigmas\n",
    "    \n",
    "    plt.subplot(211)\n",
    "    # Plot the true y's and predicted y's from the NN model\n",
    "    plt.plot(predy[:, 0], pmeans.flatten(), marker='.')\n",
    "    # Plot the 1-to-1 line\n",
    "    plt.plot(oto_means, oto_means, color='black', ls='--')\n",
    "    plt.xlim(-1.0, 1.0)\n",
    "    plt.ylim(-1.0, 1.0)\n",
    "    plt.xlabel('True value')\n",
    "    plt.ylabel('Predicted value')\n",
    "    plt.title(r'$\\mu$')\n",
    "    \n",
    "    plt.subplot(212)\n",
    "    plt.plot(predy[:, 1], psigs.flatten(), marker='.')\n",
    "    plt.plot(oto_sigmas, oto_sigmas, color='black', ls='--')\n",
    "    plt.xlim(0.25, 4.0)\n",
    "    plt.ylim(0.25, 4.0)\n",
    "    plt.xlabel('True value')\n",
    "    plt.ylabel('Predicted value')\n",
    "    plt.title(r'$\\sigma$')\n",
    "    \n",
    "    #plt.savefig('gaussian_characteristics.pdf')\n",
    "    plt.show()"
   ]
  },
  {
   "cell_type": "markdown",
   "metadata": {},
   "source": [
    "## Generate distributions"
   ]
  },
  {
   "cell_type": "markdown",
   "metadata": {},
   "source": [
    "### 1D Gaussian"
   ]
  },
  {
   "cell_type": "code",
   "execution_count": 4,
   "metadata": {},
   "outputs": [],
   "source": [
    "# Calculate a Gaussian given its mean and standard deviation\n",
    "def gaussian(x_vals, mu, sigma):\n",
    "    return np.exp(-0.5 * ((x_vals - mu)/sigma)**2) / (sigma * np.sqrt(2*np.pi))\n",
    "\n",
    "# Make array that describes Gaussian\n",
    "def make_gaussians(num, mu_min=-1.0, mu_max=1.0, sig_min=0.25, sig_max=4.0): \n",
    "\n",
    "    means = np.random.uniform(mu_min, mu_max, num)\n",
    "    sigmas = np.random.uniform(sig_min, sig_max, num)\n",
    "\n",
    "    x_vals = np.linspace(-10.0, 10.0, 32)\n",
    "    models = np.zeros((num, 32))\n",
    "\n",
    "    for i in range(num):\n",
    "        models[i] = gaussian(x_vals, means[i], sigmas[i])\n",
    "    \n",
    "    # Also want to save and return the true means, sigmas used for the Gaussians\n",
    "    targets = np.vstack((means, sigmas)).T\n",
    "    \n",
    "    models = models.reshape(num, 32, 1)\n",
    "\n",
    "    return models, targets"
   ]
  },
  {
   "cell_type": "markdown",
   "metadata": {},
   "source": [
    "### 1D Lorentzian"
   ]
  },
  {
   "cell_type": "code",
   "execution_count": 5,
   "metadata": {},
   "outputs": [],
   "source": [
    "# Calculate a Lorentzian distribution given its location parameter and scale parameter\n",
    "def lorentzian(x_vals, loc, scale):\n",
    "    return ( 1/(np.pi*scale) ) * ( scale**2 / ((x_vals - loc)**2 + (scale)**2) )\n",
    "\n",
    "def make_lorentzians(num, loc_min=-1.0, loc_max=1.0, scale_min=0.25, scale_max=4.0):\n",
    "    \n",
    "    locs = np.random.uniform(loc_min, loc_max, num)\n",
    "    scales = np.random.uniform(scale_min, scale_max, num)\n",
    "    \n",
    "    x_vals = np.linspace(-10.0, 10.0, 32)\n",
    "    models = np.zeros((num, 32))\n",
    "    \n",
    "    for i in range(num):\n",
    "        models[i] = lorentzian(x_vals, locs[i], scales[i])\n",
    "        \n",
    "    targets = np.vstack((locs, scales)).T\n",
    "    \n",
    "    models = models.reshape(num, 32, 1)\n",
    "    \n",
    "    return models, targets"
   ]
  },
  {
   "cell_type": "markdown",
   "metadata": {},
   "source": [
    "#### Plot to check Lorentzian function"
   ]
  },
  {
   "cell_type": "code",
   "execution_count": 6,
   "metadata": {},
   "outputs": [
    {
     "data": {
      "image/png": "[encoded data removed]",
      "text/plain": [
       "<Figure size 432x288 with 1 Axes>"
      ]
     },
     "metadata": {
      "needs_background": "light"
     },
     "output_type": "display_data"
    }
   ],
   "source": [
    "x_vals = np.linspace(-10.0, 10.0, 2**8)\n",
    "\n",
    "plt.plot(x_vals, lorentzian(x_vals, 0.0, 1.0), label=r'x$_{0}=$0, $\\gamma=$1')\n",
    "plt.plot(x_vals, gaussian(x_vals, 0.0, 1.0), label=r'$\\mu=$0, $\\sigma=$1')\n",
    "plt.xlim(-5, 5)\n",
    "plt.ylim(0.0, 0.45)\n",
    "plt.legend(fontsize=16)\n",
    "\n",
    "plt.show()"
   ]
  },
  {
   "cell_type": "markdown",
   "metadata": {},
   "source": [
    "# Just Classification"
   ]
  },
  {
   "cell_type": "markdown",
   "metadata": {},
   "source": [
    "## Generate dataset"
   ]
  },
  {
   "cell_type": "code",
   "execution_count": null,
   "metadata": {},
   "outputs": [],
   "source": [
    "# Create training and test sets\n",
    "def generate_dataset(n_train=10000, n_test=1000, frac_gauss=None):\n",
    "    # From desired training and test set sizes, determine the fraction that is Gaussian vs Lorentzian\n",
    "    \n",
    "    # Random fraction w/limits to avoid too many of any one kind\n",
    "    if frac_gauss is None:\n",
    "        fg_train = np.random.uniform(0.25, 0.75)\n",
    "        fg_test = np.random.uniform(0.25, 0.75)\n",
    "    \n",
    "    # User-identified fraction\n",
    "    elif frac_gauss < 1.0:\n",
    "        fg_train = fg_test = frac_gauss\n",
    "        \n",
    "    num_gauss_train = int(fg_train * n_train)\n",
    "    num_gauss_test =  int(fg_test * n_test)\n",
    "    \n",
    "    num_lorentz_train = n_train - num_gauss_train\n",
    "    num_lorentz_test = n_test - num_gauss_test\n",
    "    \n",
    "    print (num_gauss_train, num_lorentz_train, num_gauss_test, num_lorentz_test)\n",
    "\n",
    "    # Generate training and test sets\n",
    "    X_train_gauss, _ = make_gaussians(num_gauss_train)\n",
    "    X_test_gauss, _  = make_gaussians(num_gauss_test)\n",
    "\n",
    "    X_train_lorentz, _ = make_lorentzians(num_lorentz_train)\n",
    "    X_test_lorentz, _ = make_lorentzians(num_lorentz_test)\n",
    "    \n",
    "    # Classification\n",
    "    y_train = np.ones(n_train)\n",
    "    y_train[0:num_gauss_train] *= 0.0 # Gaussians are 0s\n",
    "    y_train = np_utils.to_categorical(y_train)\n",
    "    \n",
    "    y_test = np.ones(n_test)\n",
    "    y_test[0:num_gauss_test] *= 0.0 # Gaussians are 0s\n",
    "    y_test = np_utils.to_categorical(y_test)\n",
    "\n",
    "    # Combine Gaussian and Lorentzians\n",
    "    X_train = np.concatenate((X_train_gauss, X_train_lorentz))\n",
    "    X_test = np.concatenate((X_test_gauss, X_test_lorentz))\n",
    "    \n",
    "    return X_train, y_train, X_test, y_test"
   ]
  },
  {
   "cell_type": "markdown",
   "metadata": {},
   "source": [
    "## Create, compile, fit, and evaluate NN model"
   ]
  },
  {
   "cell_type": "code",
   "execution_count": null,
   "metadata": {},
   "outputs": [],
   "source": [
    "# Create dataset\n",
    "X_train, y_train, X_test, y_test = generate_dataset()"
   ]
  },
  {
   "cell_type": "code",
   "execution_count": null,
   "metadata": {},
   "outputs": [],
   "source": [
    "# Define baseline model\n",
    "def baseline_model():\n",
    "    # Create model\n",
    "#    model = Sequential()\n",
    "#    model.add(Dense(32, input_dim=X_train.shape[1], kernel_initializer='normal', activation='relu'))\n",
    "    # There are 2 classes -- Gaussian or Lorentzian -- hence the Dense(2)\n",
    "#    model.add(Dense(2, kernel_initializer='normal', activation='softmax')) \n",
    "    \n",
    "    inputs = Input(shape=(X_train.shape[1],))\n",
    "    x = Dense(32, activation='relu')(inputs)\n",
    "    x = Dense(2, activation='softmax')(x)\n",
    "    model = Model(inputs=inputs, outputs=x)\n",
    "\n",
    "    # Compile model\n",
    "    model.compile(loss='categorical_crossentropy', optimizer='adam', metrics=['accuracy'])\n",
    "    \n",
    "    return model"
   ]
  },
  {
   "cell_type": "code",
   "execution_count": null,
   "metadata": {
    "scrolled": true
   },
   "outputs": [],
   "source": [
    "# Build the model\n",
    "model = baseline_model()\n",
    "\n",
    "# Fit the model\n",
    "history = model.fit(X_train, y_train, validation_data=(X_test, y_test), epochs=100, batch_size=128, verbose=1)\n",
    "\n",
    "# Final evaluation of the model\n",
    "scores = model.evaluate(X_test, y_test, verbose=0)\n",
    "print(\"Baseline Error: %.2f%%\" % (100-scores[1]*100))"
   ]
  },
  {
   "cell_type": "code",
   "execution_count": null,
   "metadata": {},
   "outputs": [],
   "source": [
    "history.history.keys()"
   ]
  },
  {
   "cell_type": "code",
   "execution_count": null,
   "metadata": {},
   "outputs": [],
   "source": [
    "fig, (ax1, ax2) = plt.subplots(1, 2, figsize=(10, 4))\n",
    "ax1.plot(history.history['loss'])\n",
    "ax1.plot(history.history['val_loss'])\n",
    "ax1.set_xlabel('epoch')\n",
    "ax1.set_ylabel('loss')\n",
    "ax1.legend(['train', 'test'], loc='upper right')\n",
    "\n",
    "ax2.plot(history.history['accuracy'])\n",
    "ax2.plot(history.history['val_accuracy'])\n",
    "ax2.set_xlabel('epoch')\n",
    "ax2.set_ylabel('accuracy')\n",
    "ax2.legend(['train', 'test'], loc='upper right')\n",
    "\n",
    "fig.show()"
   ]
  },
  {
   "cell_type": "code",
   "execution_count": null,
   "metadata": {},
   "outputs": [],
   "source": [
    "_, _, new_X, new_y = generate_dataset(n_train=10, n_test=1000)\n",
    "new_pred_y = model.predict(new_X)\n",
    "#new_pred_y = model.evaluate(new_X, new_y, verbose=1)\n",
    "\n",
    "print (new_pred_y)#, np.argmax(new_pred_y, axis=1))"
   ]
  },
  {
   "cell_type": "markdown",
   "metadata": {},
   "source": [
    "# Classify and Regress"
   ]
  },
  {
   "cell_type": "markdown",
   "metadata": {},
   "source": [
    "Custom Keras loss function that conditionally creates a zero gradient: https://stackoverflow.com/questions/54031644/custom-keras-loss-function-that-conditionally-creates-a-zero-gradient"
   ]
  },
  {
   "cell_type": "code",
   "execution_count": 7,
   "metadata": {},
   "outputs": [],
   "source": [
    "# Create training and test sets\n",
    "def generate_dataset_wparams(n_train=10000, n_test=1000, frac_gauss=None):\n",
    "    # From desired training and test set sizes, determine the fraction that is Gaussian vs Lorentzian\n",
    "    \n",
    "    # Random fraction w/limits to avoid too many of any one kind\n",
    "    if frac_gauss is None:\n",
    "        fg_train = np.random.uniform(0.25, 0.75)\n",
    "        fg_test = np.random.uniform(0.25, 0.75)\n",
    "    \n",
    "    # User-identified fraction\n",
    "    elif frac_gauss < 1.0:\n",
    "        fg_train = fg_test = frac_gauss\n",
    "        \n",
    "    num_gauss_train = int(fg_train * n_train)\n",
    "    num_gauss_test =  int(fg_test * n_test)\n",
    "    \n",
    "    num_lorentz_train = n_train - num_gauss_train\n",
    "    num_lorentz_test = n_test - num_gauss_test\n",
    "    \n",
    "    print (num_gauss_train, num_lorentz_train, num_gauss_test, num_lorentz_test)\n",
    "\n",
    "    # Generate training and test sets\n",
    "    X_train_gauss, y_train_gauss = make_gaussians(num_gauss_train)\n",
    "    X_test_gauss, y_test_gauss = make_gaussians(num_gauss_test)\n",
    "\n",
    "    X_train_lorentz, y_train_lorentz = make_lorentzians(num_lorentz_train)\n",
    "    X_test_lorentz, y_test_lorentz = make_lorentzians(num_lorentz_test)\n",
    "\n",
    "    # Combine Gaussian and Lorentzians\n",
    "    X_train = np.concatenate((X_train_gauss, X_train_lorentz))\n",
    "    y_train = np.concatenate((y_train_gauss, y_train_lorentz))\n",
    "    X_test = np.concatenate((X_test_gauss, X_test_lorentz))\n",
    "    y_test = np.concatenate((y_test_gauss, y_test_lorentz))\n",
    "    \n",
    "    # Want to classify the arrays too...?\n",
    "    # Classification\n",
    "    class_train = np.ones(n_train)\n",
    "    class_train[0:num_gauss_train] *= 0.0 # Gaussians are 0s\n",
    "    #class_train = np_utils.to_categorical(class_train)\n",
    "    \n",
    "    class_test = np.ones(n_test)\n",
    "    class_test[0:num_gauss_test] *= 0.0 # Gaussians are 0s\n",
    "    #class_test = np_utils.to_categorical(class_test)    \n",
    "\n",
    "    return X_train, y_train, X_test, y_test, class_train, class_test"
   ]
  },
  {
   "cell_type": "code",
   "execution_count": 8,
   "metadata": {},
   "outputs": [
    {
     "name": "stdout",
     "output_type": "stream",
     "text": [
      "4939 5061 442 558\n"
     ]
    }
   ],
   "source": [
    "# Create dataset\n",
    "X_train, y_train, X_test, y_test, class_train, class_test = generate_dataset_wparams()"
   ]
  },
  {
   "cell_type": "code",
   "execution_count": 57,
   "metadata": {},
   "outputs": [],
   "source": [
    "# https://stackoverflow.com/questions/54031644/custom-keras-loss-function-that-conditionally-creates-a-zero-gradient\n",
    "\n",
    "def custom_loss():\n",
    "    def loss(y_true, y_pred):\n",
    "    # Want a loss that returns loss = 0.0 if the class is a Lorentzian (value of 1)\n",
    "        loss_val = losses.mean_squared_error(y_true, y_pred)\n",
    "        # K.switch(condition, then expression, else expression)\n",
    "        # If y_true is 0, then return a loss, else return 0.0\n",
    "        #pdb.set_trace()\n",
    "        \n",
    "        return K.switch(K.flatten(K.equal(y_true[:,0], 0.)), loss_val, K.zeros_like(loss_val))\n",
    "    \n",
    "    # Return a function\n",
    "    return loss"
   ]
  },
  {
   "cell_type": "code",
   "execution_count": 50,
   "metadata": {},
   "outputs": [],
   "source": [
    "# Define baseline model\n",
    "def baseline_model():\n",
    "    # Create model\n",
    "    verbose, epochs, batch_size = 1, 100, 16\n",
    "    input_shape = X_train.shape[1]\n",
    "\n",
    "    inputs = Input(shape=(X_train.shape[1], X_train.shape[2]))\n",
    "    \n",
    "    x = Conv1D(filters=16, kernel_size=3, activation='relu')(inputs)\n",
    "    x = Conv1D(filters=8, kernel_size=2, activation='relu')(x)\n",
    "    x = MaxPooling1D(pool_size=2)(x)    \n",
    "    \n",
    "    x = Flatten()(x)\n",
    "    x = Dense(100, activation='relu')(x)\n",
    "    \n",
    "    classify = Dense(1, activation='sigmoid', name='type')(x)\n",
    "    regress1 = Dense(1, activation='linear', name='param1')(x)\n",
    "    regress2 = Dense(1, activation='linear', name='param2')(x)\n",
    "    \n",
    "    # Create model with input layer and dense layers\n",
    "    model = Model(inputs=inputs, outputs=[classify, regress1, regress2])\n",
    "    #model.compile(loss=[custom_loss(), custom_loss(), custom_loss()], optimizer='rmsprop')\n",
    "    model.compile(loss=['binary_crossentropy', 'mse', 'mse'], optimizer='rmsprop')\n",
    "    \n",
    "    return model"
   ]
  },
  {
   "cell_type": "code",
   "execution_count": 51,
   "metadata": {
    "scrolled": false
   },
   "outputs": [
    {
     "name": "stdout",
     "output_type": "stream",
     "text": [
      "Epoch 1/100\n",
      "10000/10000 [==============================] - 1s 128us/step - loss: 1.2857 - type_loss: 0.6552 - param1_loss: 0.1247 - param2_loss: 0.5052\n",
      "Epoch 2/100\n",
      "10000/10000 [==============================] - 1s 99us/step - loss: 0.6249 - type_loss: 0.5132 - param1_loss: 0.0139 - param2_loss: 0.0974\n",
      "Epoch 3/100\n",
      "10000/10000 [==============================] - 1s 100us/step - loss: 0.3331 - type_loss: 0.2610 - param1_loss: 0.0087 - param2_loss: 0.0634\n",
      "Epoch 4/100\n",
      "10000/10000 [==============================] - 1s 99us/step - loss: 0.1639 - type_loss: 0.1134 - param1_loss: 0.0077 - param2_loss: 0.0428\n",
      "Epoch 5/100\n",
      "10000/10000 [==============================] - 1s 101us/step - loss: 0.1068 - type_loss: 0.0627 - param1_loss: 0.0087 - param2_loss: 0.0353\n",
      "Epoch 6/100\n",
      "10000/10000 [==============================] - 1s 102us/step - loss: 0.0827 - type_loss: 0.0434 - param1_loss: 0.0083 - param2_loss: 0.0309\n",
      "Epoch 7/100\n",
      "10000/10000 [==============================] - 1s 99us/step - loss: 0.0651 - type_loss: 0.0320 - param1_loss: 0.0074 - param2_loss: 0.0256\n",
      "Epoch 8/100\n",
      "10000/10000 [==============================] - 1s 100us/step - loss: 0.0538 - type_loss: 0.0250 - param1_loss: 0.0070 - param2_loss: 0.0220\n",
      "Epoch 9/100\n",
      "10000/10000 [==============================] - 1s 101us/step - loss: 0.0448 - type_loss: 0.0204 - param1_loss: 0.0060 - param2_loss: 0.0184\n",
      "Epoch 10/100\n",
      "10000/10000 [==============================] - 1s 101us/step - loss: 0.0378 - type_loss: 0.0171 - param1_loss: 0.0056 - param2_loss: 0.0151\n",
      "Epoch 11/100\n",
      "10000/10000 [==============================] - 1s 101us/step - loss: 0.0333 - type_loss: 0.0153 - param1_loss: 0.0043 - param2_loss: 0.0137\n",
      "Epoch 12/100\n",
      "10000/10000 [==============================] - 1s 100us/step - loss: 0.0292 - type_loss: 0.0131 - param1_loss: 0.0039 - param2_loss: 0.0121\n",
      "Epoch 13/100\n",
      "10000/10000 [==============================] - 1s 102us/step - loss: 0.0254 - type_loss: 0.0101 - param1_loss: 0.0035 - param2_loss: 0.0118\n",
      "Epoch 14/100\n",
      "10000/10000 [==============================] - 1s 100us/step - loss: 0.0235 - type_loss: 0.0093 - param1_loss: 0.0036 - param2_loss: 0.0107\n",
      "Epoch 15/100\n",
      "10000/10000 [==============================] - 1s 99us/step - loss: 0.0213 - type_loss: 0.0084 - param1_loss: 0.0031 - param2_loss: 0.0099\n",
      "Epoch 16/100\n",
      "10000/10000 [==============================] - 1s 99us/step - loss: 0.0191 - type_loss: 0.0062 - param1_loss: 0.0029 - param2_loss: 0.0100\n",
      "Epoch 17/100\n",
      "10000/10000 [==============================] - 1s 100us/step - loss: 0.0169 - type_loss: 0.0045 - param1_loss: 0.0029 - param2_loss: 0.0095\n",
      "Epoch 18/100\n",
      "10000/10000 [==============================] - 1s 99us/step - loss: 0.0155 - type_loss: 0.0036 - param1_loss: 0.0028 - param2_loss: 0.0090\n",
      "Epoch 19/100\n",
      "10000/10000 [==============================] - 1s 102us/step - loss: 0.0150 - type_loss: 0.0034 - param1_loss: 0.0027 - param2_loss: 0.0089\n",
      "Epoch 20/100\n",
      "10000/10000 [==============================] - 1s 100us/step - loss: 0.0132 - type_loss: 0.0027 - param1_loss: 0.0023 - param2_loss: 0.0082\n",
      "Epoch 21/100\n",
      "10000/10000 [==============================] - 1s 99us/step - loss: 0.0123 - type_loss: 0.0018 - param1_loss: 0.0023 - param2_loss: 0.0083\n",
      "Epoch 22/100\n",
      "10000/10000 [==============================] - 1s 99us/step - loss: 0.0116 - type_loss: 0.0016 - param1_loss: 0.0020 - param2_loss: 0.0080\n",
      "Epoch 23/100\n",
      "10000/10000 [==============================] - 1s 98us/step - loss: 0.0111 - type_loss: 0.0010 - param1_loss: 0.0020 - param2_loss: 0.0081\n",
      "Epoch 24/100\n",
      "10000/10000 [==============================] - 1s 99us/step - loss: 0.0103 - type_loss: 7.7853e-04 - param1_loss: 0.0018 - param2_loss: 0.0077\n",
      "Epoch 25/100\n",
      "10000/10000 [==============================] - 1s 99us/step - loss: 0.0097 - type_loss: 8.9620e-04 - param1_loss: 0.0018 - param2_loss: 0.0070\n",
      "Epoch 26/100\n",
      "10000/10000 [==============================] - 1s 99us/step - loss: 0.0093 - type_loss: 4.3204e-04 - param1_loss: 0.0016 - param2_loss: 0.0073\n",
      "Epoch 27/100\n",
      "10000/10000 [==============================] - 1s 98us/step - loss: 0.0088 - type_loss: 2.7211e-04 - param1_loss: 0.0015 - param2_loss: 0.0070\n",
      "Epoch 28/100\n",
      "10000/10000 [==============================] - 1s 96us/step - loss: 0.0086 - type_loss: 3.8816e-04 - param1_loss: 0.0014 - param2_loss: 0.0068\n",
      "Epoch 29/100\n",
      "10000/10000 [==============================] - 1s 106us/step - loss: 0.0084 - type_loss: 9.6084e-04 - param1_loss: 0.0013 - param2_loss: 0.0062ETA: 1s - loss: 0.0109 - type_loss: 2.5760e-04 - param1_loss: 0.0019 - par\n",
      "Epoch 30/100\n",
      "10000/10000 [==============================] - 1s 101us/step - loss: 0.0080 - type_loss: 6.1782e-04 - param1_loss: 0.0013 - param2_loss: 0.0061\n",
      "Epoch 31/100\n",
      "10000/10000 [==============================] - 1s 104us/step - loss: 0.0077 - type_loss: 1.9945e-04 - param1_loss: 0.0013 - param2_loss: 0.0063\n",
      "Epoch 32/100\n",
      "10000/10000 [==============================] - 1s 98us/step - loss: 0.0073 - type_loss: 2.7370e-04 - param1_loss: 0.0011 - param2_loss: 0.0059\n",
      "Epoch 33/100\n",
      "10000/10000 [==============================] - 1s 99us/step - loss: 0.0069 - type_loss: 1.0832e-04 - param1_loss: 0.0011 - param2_loss: 0.0057\n",
      "Epoch 34/100\n",
      "10000/10000 [==============================] - 1s 100us/step - loss: 0.0070 - type_loss: 2.9617e-04 - param1_loss: 9.6840e-04 - param2_loss: 0.0057\n",
      "Epoch 35/100\n",
      "10000/10000 [==============================] - 1s 97us/step - loss: 0.0066 - type_loss: 2.0630e-04 - param1_loss: 0.0010 - param2_loss: 0.0053\n",
      "Epoch 36/100\n",
      "10000/10000 [==============================] - 1s 99us/step - loss: 0.0066 - type_loss: 2.3297e-04 - param1_loss: 9.3973e-04 - param2_loss: 0.0054\n",
      "Epoch 37/100\n",
      "10000/10000 [==============================] - 1s 97us/step - loss: 0.0060 - type_loss: 1.2656e-04 - param1_loss: 9.4976e-04 - param2_loss: 0.0049\n",
      "Epoch 38/100\n",
      "10000/10000 [==============================] - 1s 100us/step - loss: 0.0061 - type_loss: 6.4108e-05 - param1_loss: 8.8799e-04 - param2_loss: 0.0051\n",
      "Epoch 39/100\n",
      "10000/10000 [==============================] - 1s 100us/step - loss: 0.0058 - type_loss: 4.6848e-05 - param1_loss: 9.6570e-04 - param2_loss: 0.0048\n",
      "Epoch 40/100\n",
      "10000/10000 [==============================] - 1s 98us/step - loss: 0.0057 - type_loss: 4.5242e-05 - param1_loss: 9.1732e-04 - param2_loss: 0.0047\n",
      "Epoch 41/100\n",
      "10000/10000 [==============================] - 1s 99us/step - loss: 0.0056 - type_loss: 2.8471e-04 - param1_loss: 8.5121e-04 - param2_loss: 0.0045\n",
      "Epoch 42/100\n",
      "10000/10000 [==============================] - 1s 97us/step - loss: 0.0054 - type_loss: 1.9151e-04 - param1_loss: 8.3006e-04 - param2_loss: 0.0044\n",
      "Epoch 43/100\n",
      "10000/10000 [==============================] - 1s 99us/step - loss: 0.0055 - type_loss: 4.0754e-05 - param1_loss: 8.2557e-04 - param2_loss: 0.0046\n",
      "Epoch 44/100\n",
      "10000/10000 [==============================] - 1s 98us/step - loss: 0.0053 - type_loss: 6.4315e-05 - param1_loss: 7.9917e-04 - param2_loss: 0.0044\n",
      "Epoch 45/100\n",
      "10000/10000 [==============================] - 1s 99us/step - loss: 0.0051 - type_loss: 1.1223e-04 - param1_loss: 7.4801e-04 - param2_loss: 0.0042\n",
      "Epoch 46/100\n",
      "10000/10000 [==============================] - 1s 99us/step - loss: 0.0050 - type_loss: 2.6727e-05 - param1_loss: 7.6619e-04 - param2_loss: 0.0042\n",
      "Epoch 47/100\n",
      "10000/10000 [==============================] - 1s 99us/step - loss: 0.0049 - type_loss: 3.7105e-05 - param1_loss: 7.0334e-04 - param2_loss: 0.0041\n",
      "Epoch 48/100\n",
      "10000/10000 [==============================] - 1s 100us/step - loss: 0.0047 - type_loss: 3.1763e-05 - param1_loss: 7.6227e-04 - param2_loss: 0.0039\n",
      "Epoch 49/100\n",
      "10000/10000 [==============================] - 1s 99us/step - loss: 0.0046 - type_loss: 1.1275e-04 - param1_loss: 7.0735e-04 - param2_loss: 0.0037\n",
      "Epoch 50/100\n",
      "10000/10000 [==============================] - 1s 101us/step - loss: 0.0045 - type_loss: 2.8500e-04 - param1_loss: 6.8155e-04 - param2_loss: 0.0036\n",
      "Epoch 51/100\n",
      "10000/10000 [==============================] - 1s 100us/step - loss: 0.0046 - type_loss: 3.4984e-04 - param1_loss: 6.1175e-04 - param2_loss: 0.0036\n",
      "Epoch 52/100\n",
      "10000/10000 [==============================] - 1s 100us/step - loss: 0.0044 - type_loss: 4.8196e-05 - param1_loss: 6.0989e-04 - param2_loss: 0.0037\n",
      "Epoch 53/100\n"
     ]
    },
    {
     "name": "stdout",
     "output_type": "stream",
     "text": [
      "10000/10000 [==============================] - 1s 98us/step - loss: 0.0042 - type_loss: 2.3596e-05 - param1_loss: 6.3848e-04 - param2_loss: 0.0036\n",
      "Epoch 54/100\n",
      "10000/10000 [==============================] - 1s 97us/step - loss: 0.0041 - type_loss: 2.5124e-05 - param1_loss: 6.3742e-04 - param2_loss: 0.0034\n",
      "Epoch 55/100\n",
      "10000/10000 [==============================] - 1s 97us/step - loss: 0.0041 - type_loss: 1.8425e-04 - param1_loss: 6.0086e-04 - param2_loss: 0.0033\n",
      "Epoch 56/100\n",
      "10000/10000 [==============================] - 1s 97us/step - loss: 0.0040 - type_loss: 2.0613e-04 - param1_loss: 5.8632e-04 - param2_loss: 0.0032\n",
      "Epoch 57/100\n",
      "10000/10000 [==============================] - 1s 97us/step - loss: 0.0038 - type_loss: 1.8391e-05 - param1_loss: 5.7461e-04 - param2_loss: 0.0032\n",
      "Epoch 58/100\n",
      "10000/10000 [==============================] - 1s 97us/step - loss: 0.0039 - type_loss: 4.0111e-05 - param1_loss: 5.5922e-04 - param2_loss: 0.0033\n",
      "Epoch 59/100\n",
      "10000/10000 [==============================] - 1s 96us/step - loss: 0.0037 - type_loss: 2.9078e-05 - param1_loss: 5.6240e-04 - param2_loss: 0.0031\n",
      "Epoch 60/100\n",
      "10000/10000 [==============================] - 1s 97us/step - loss: 0.0036 - type_loss: 2.7111e-05 - param1_loss: 5.3667e-04 - param2_loss: 0.0031\n",
      "Epoch 61/100\n",
      "10000/10000 [==============================] - 1s 97us/step - loss: 0.0035 - type_loss: 1.7451e-05 - param1_loss: 5.3946e-04 - param2_loss: 0.0030\n",
      "Epoch 62/100\n",
      "10000/10000 [==============================] - 1s 99us/step - loss: 0.0035 - type_loss: 1.7152e-05 - param1_loss: 5.2719e-04 - param2_loss: 0.0030\n",
      "Epoch 63/100\n",
      "10000/10000 [==============================] - 1s 97us/step - loss: 0.0034 - type_loss: 1.2371e-04 - param1_loss: 5.3254e-04 - param2_loss: 0.0028\n",
      "Epoch 64/100\n",
      "10000/10000 [==============================] - 1s 97us/step - loss: 0.0034 - type_loss: 2.3278e-05 - param1_loss: 5.3223e-04 - param2_loss: 0.0028\n",
      "Epoch 65/100\n",
      "10000/10000 [==============================] - 1s 97us/step - loss: 0.0033 - type_loss: 8.0866e-05 - param1_loss: 5.0471e-04 - param2_loss: 0.0027\n",
      "Epoch 66/100\n",
      "10000/10000 [==============================] - 1s 97us/step - loss: 0.0033 - type_loss: 3.1240e-05 - param1_loss: 5.0577e-04 - param2_loss: 0.0028\n",
      "Epoch 67/100\n",
      "10000/10000 [==============================] - 1s 96us/step - loss: 0.0032 - type_loss: 3.5030e-05 - param1_loss: 4.8094e-04 - param2_loss: 0.0027\n",
      "Epoch 68/100\n",
      "10000/10000 [==============================] - 1s 96us/step - loss: 0.0032 - type_loss: 1.1507e-05 - param1_loss: 4.8539e-04 - param2_loss: 0.0027\n",
      "Epoch 69/100\n",
      "10000/10000 [==============================] - 1s 97us/step - loss: 0.0031 - type_loss: 1.0971e-05 - param1_loss: 4.8742e-04 - param2_loss: 0.0026\n",
      "Epoch 70/100\n",
      "10000/10000 [==============================] - 1s 97us/step - loss: 0.0030 - type_loss: 2.7817e-05 - param1_loss: 4.7443e-04 - param2_loss: 0.0025\n",
      "Epoch 71/100\n",
      "10000/10000 [==============================] - 1s 97us/step - loss: 0.0030 - type_loss: 1.4327e-05 - param1_loss: 4.7196e-04 - param2_loss: 0.0025\n",
      "Epoch 72/100\n",
      "10000/10000 [==============================] - 1s 97us/step - loss: 0.0030 - type_loss: 1.3592e-05 - param1_loss: 4.6224e-04 - param2_loss: 0.0026\n",
      "Epoch 73/100\n",
      "10000/10000 [==============================] - 1s 97us/step - loss: 0.0029 - type_loss: 1.1641e-05 - param1_loss: 4.4006e-04 - param2_loss: 0.0024\n",
      "Epoch 74/100\n",
      "10000/10000 [==============================] - 1s 97us/step - loss: 0.0029 - type_loss: 9.2037e-06 - param1_loss: 4.5124e-04 - param2_loss: 0.0024\n",
      "Epoch 75/100\n",
      "10000/10000 [==============================] - 1s 97us/step - loss: 0.0029 - type_loss: 7.5698e-06 - param1_loss: 4.2933e-04 - param2_loss: 0.0024\n",
      "Epoch 76/100\n",
      "10000/10000 [==============================] - 1s 99us/step - loss: 0.0028 - type_loss: 1.1845e-05 - param1_loss: 4.4153e-04 - param2_loss: 0.0024\n",
      "Epoch 77/100\n",
      "10000/10000 [==============================] - 1s 97us/step - loss: 0.0028 - type_loss: 1.4016e-05 - param1_loss: 4.3845e-04 - param2_loss: 0.0024\n",
      "Epoch 78/100\n",
      "10000/10000 [==============================] - 1s 97us/step - loss: 0.0028 - type_loss: 8.3165e-06 - param1_loss: 4.1030e-04 - param2_loss: 0.0024\n",
      "Epoch 79/100\n",
      "10000/10000 [==============================] - 1s 97us/step - loss: 0.0027 - type_loss: 7.4522e-06 - param1_loss: 4.2772e-04 - param2_loss: 0.0023\n",
      "Epoch 80/100\n",
      "10000/10000 [==============================] - 1s 98us/step - loss: 0.0026 - type_loss: 5.1806e-05 - param1_loss: 4.2527e-04 - param2_loss: 0.0021\n",
      "Epoch 81/100\n",
      "10000/10000 [==============================] - 1s 98us/step - loss: 0.0027 - type_loss: 6.4440e-06 - param1_loss: 4.1248e-04 - param2_loss: 0.0022\n",
      "Epoch 82/100\n",
      "10000/10000 [==============================] - 1s 96us/step - loss: 0.0026 - type_loss: 7.1557e-06 - param1_loss: 4.1097e-04 - param2_loss: 0.0022\n",
      "Epoch 83/100\n",
      "10000/10000 [==============================] - 1s 97us/step - loss: 0.0026 - type_loss: 6.0892e-06 - param1_loss: 4.1245e-04 - param2_loss: 0.0022\n",
      "Epoch 84/100\n",
      "10000/10000 [==============================] - 1s 96us/step - loss: 0.0026 - type_loss: 5.3906e-06 - param1_loss: 4.1140e-04 - param2_loss: 0.0022\n",
      "Epoch 85/100\n",
      "10000/10000 [==============================] - 1s 97us/step - loss: 0.0025 - type_loss: 4.4289e-06 - param1_loss: 4.0154e-04 - param2_loss: 0.0021\n",
      "Epoch 86/100\n",
      "10000/10000 [==============================] - 1s 97us/step - loss: 0.0025 - type_loss: 9.1872e-06 - param1_loss: 3.8932e-04 - param2_loss: 0.0021\n",
      "Epoch 87/100\n",
      "10000/10000 [==============================] - 1s 97us/step - loss: 0.0025 - type_loss: 1.0471e-05 - param1_loss: 3.7089e-04 - param2_loss: 0.0021\n",
      "Epoch 88/100\n",
      "10000/10000 [==============================] - 1s 97us/step - loss: 0.0024 - type_loss: 3.8966e-06 - param1_loss: 3.8609e-04 - param2_loss: 0.0020\n",
      "Epoch 89/100\n",
      "10000/10000 [==============================] - 1s 97us/step - loss: 0.0025 - type_loss: 7.4315e-06 - param1_loss: 3.8458e-04 - param2_loss: 0.0021\n",
      "Epoch 90/100\n",
      "10000/10000 [==============================] - 1s 96us/step - loss: 0.0023 - type_loss: 5.2006e-06 - param1_loss: 3.8899e-04 - param2_loss: 0.0019\n",
      "Epoch 91/100\n",
      "10000/10000 [==============================] - 1s 97us/step - loss: 0.0024 - type_loss: 1.0545e-05 - param1_loss: 3.7705e-04 - param2_loss: 0.0020\n",
      "Epoch 92/100\n",
      "10000/10000 [==============================] - 1s 98us/step - loss: 0.0023 - type_loss: 6.0204e-06 - param1_loss: 3.8088e-04 - param2_loss: 0.0019\n",
      "Epoch 93/100\n",
      "10000/10000 [==============================] - 1s 97us/step - loss: 0.0023 - type_loss: 3.8329e-06 - param1_loss: 3.6717e-04 - param2_loss: 0.0019\n",
      "Epoch 94/100\n",
      "10000/10000 [==============================] - 1s 99us/step - loss: 0.0024 - type_loss: 3.1562e-06 - param1_loss: 3.6317e-04 - param2_loss: 0.0020\n",
      "Epoch 95/100\n",
      "10000/10000 [==============================] - 1s 97us/step - loss: 0.0023 - type_loss: 1.0410e-05 - param1_loss: 3.5982e-04 - param2_loss: 0.0019\n",
      "Epoch 96/100\n",
      "10000/10000 [==============================] - 1s 97us/step - loss: 0.0023 - type_loss: 8.0339e-06 - param1_loss: 3.4967e-04 - param2_loss: 0.0019\n",
      "Epoch 97/100\n",
      "10000/10000 [==============================] - 1s 97us/step - loss: 0.0023 - type_loss: 2.9871e-06 - param1_loss: 3.5944e-04 - param2_loss: 0.0019\n",
      "Epoch 98/100\n",
      "10000/10000 [==============================] - 1s 97us/step - loss: 0.0022 - type_loss: 2.7240e-06 - param1_loss: 3.5256e-04 - param2_loss: 0.0018\n",
      "Epoch 99/100\n",
      "10000/10000 [==============================] - 1s 96us/step - loss: 0.0022 - type_loss: 3.4140e-06 - param1_loss: 3.4613e-04 - param2_loss: 0.0019\n",
      "Epoch 100/100\n",
      "10000/10000 [==============================] - 1s 100us/step - loss: 0.0021 - type_loss: 1.2916e-05 - param1_loss: 3.3341e-04 - param2_loss: 0.0018\n",
      "Baseline Error: 100.00%\n"
     ]
    }
   ],
   "source": [
    "verbose, epochs, batch_size = 1, 100, 16\n",
    "\n",
    "# Build the model\n",
    "model = baseline_model()\n",
    "\n",
    "# Fit the model\n",
    "history = model.fit(X_train, [np.vstack(class_train), y_train[:,0], y_train[:,1]], epochs=epochs, verbose=verbose)\n",
    "\n",
    "# Final evaluation of the model\n",
    "scores = model.evaluate(X_test, [np.vstack(class_test), y_test[:,0], y_test[:,1]], verbose=0)\n",
    "print(\"Baseline Error: %.2f%%\" % (100-scores[1]*100))"
   ]
  },
  {
   "cell_type": "code",
   "execution_count": 52,
   "metadata": {},
   "outputs": [
    {
     "name": "stdout",
     "output_type": "stream",
     "text": [
      "3 7 69 31\n"
     ]
    }
   ],
   "source": [
    "_, _, new_X, new_y, new_ctr, new_cte = generate_dataset_wparams(n_train=10, n_test=100)\n",
    "new_pred_y = model.predict(new_X)"
   ]
  },
  {
   "cell_type": "code",
   "execution_count": 53,
   "metadata": {},
   "outputs": [
    {
     "data": {
      "text/plain": [
       "(array([0., 0., 0., 1., 1., 1., 1., 1., 1., 1.]),\n",
       " array([0., 0., 0., 0., 0., 0., 0., 0., 0., 0., 0., 0., 0., 0., 0., 0., 0.,\n",
       "        0., 0., 0., 0., 0., 0., 0., 0., 0., 0., 0., 0., 0., 0., 0., 0., 0.,\n",
       "        0., 0., 0., 0., 0., 0., 0., 0., 0., 0., 0., 0., 0., 0., 0., 0., 0.,\n",
       "        0., 0., 0., 0., 0., 0., 0., 0., 0., 0., 0., 0., 0., 0., 0., 0., 0.,\n",
       "        0., 1., 1., 1., 1., 1., 1., 1., 1., 1., 1., 1., 1., 1., 1., 1., 1.,\n",
       "        1., 1., 1., 1., 1., 1., 1., 1., 1., 1., 1., 1., 1., 1., 1.]))"
      ]
     },
     "execution_count": 53,
     "metadata": {},
     "output_type": "execute_result"
    }
   ],
   "source": [
    "new_ctr, new_cte"
   ]
  },
  {
   "cell_type": "code",
   "execution_count": 56,
   "metadata": {},
   "outputs": [
    {
     "data": {
      "image/png": "[encoded data removed]",
      "text/plain": [
       "<Figure size 432x288 with 1 Axes>"
      ]
     },
     "metadata": {
      "needs_background": "light"
     },
     "output_type": "display_data"
    }
   ],
   "source": [
    "plt.plot(new_pred_y[0].flatten()- new_cte, 'o')\n",
    "plt.ylim(-0.1, 0.1)\n",
    "plt.show()"
   ]
  },
  {
   "cell_type": "markdown",
   "metadata": {},
   "source": [
    "# Following classification+regression (gender+age) problem from online"
   ]
  },
  {
   "cell_type": "markdown",
   "metadata": {},
   "source": [
    "Classify and regress at the same time: https://stats.stackexchange.com/questions/77330/classify-and-regress-at-the-same-time"
   ]
  },
  {
   "cell_type": "code",
   "execution_count": null,
   "metadata": {},
   "outputs": [],
   "source": [
    "import pandas as pd\n",
    "\n",
    "adult = pd.read_csv('https://archive.ics.uci.edu/ml/machine-learning-databases/adult/adult.data')\n",
    "adult.columns = ['age', 'workclass', 'fnlwgt', 'edu', 'edu_num', 'marital_status',\n",
    "                 'occupation', 'relationship', 'race', 'sex', 'capital_gain', 'capital_loss',\n",
    "                 'hours_per_week', 'native_country', 'income']\n",
    "adult[\"sex\"] = adult[\"sex\"].astype('category').cat.codes\n",
    "adult[\"workclass\"] = adult[\"workclass\"].astype('category').cat.codes\n",
    "adult[\"marital_status\"] = adult[\"marital_status\"].astype('category').cat.codes\n",
    "adult[\"race\"] = adult[\"race\"].astype('category').cat.codes\n",
    "adult[\"occupation\"] = adult[\"occupation\"].astype('category').cat.codes\n",
    "adult[\"native_country\"] = adult[\"native_country\"].astype('category').cat.codes\n",
    "\n",
    "target_bin = adult[['sex']].values.astype('float32') # 0 is female?\n",
    "target_num = adult[['age']].values.astype('float32')\n",
    "X = adult[['workclass', 'edu_num', 'marital_status', 'occupation', 'race', 'capital_gain',\n",
    "           'capital_loss', 'hours_per_week', 'native_country']].values.astype('float32')"
   ]
  },
  {
   "cell_type": "code",
   "execution_count": null,
   "metadata": {},
   "outputs": [],
   "source": [
    "adult.head()"
   ]
  },
  {
   "cell_type": "code",
   "execution_count": null,
   "metadata": {},
   "outputs": [],
   "source": [
    "from keras.layers import Input, Dense, BatchNormalization\n",
    "from keras.models import Model\n",
    "from keras.optimizers import Adam\n",
    "from keras.utils.vis_utils import plot_model\n",
    "\n",
    "inputs = Input(shape=(X.shape[1],), name='Input')\n",
    "\n",
    "hidden = Dense(64, name='Shared-Hidden-Layer', activation='relu')(inputs)\n",
    "hidden = BatchNormalization()(hidden)\n",
    "out_bin = Dense(1, name='Output-Bin', activation='sigmoid')(hidden)\n",
    "out_num = Dense(1, name='Output-Num', activation='linear')(hidden)\n",
    "\n",
    "model = Model(inputs, [out_bin, out_num])\n",
    "model.compile(optimizer=Adam(0.10), loss=['binary_crossentropy', 'mean_squared_error'])\n",
    "model.summary()\n",
    "\n",
    "#plot_model(model)"
   ]
  },
  {
   "cell_type": "code",
   "execution_count": null,
   "metadata": {},
   "outputs": [],
   "source": [
    "model.fit(X, [target_bin, target_num], validation_split=.20, epochs=100, batch_size=2048)"
   ]
  },
  {
   "cell_type": "code",
   "execution_count": null,
   "metadata": {},
   "outputs": [],
   "source": [
    "gend = model.predict(X)"
   ]
  },
  {
   "cell_type": "code",
   "execution_count": null,
   "metadata": {},
   "outputs": [],
   "source": [
    "print ('Fraction incorrectly gendered:', 100*len(np.where(np.around(gend[0].flatten()) - target_bin.flatten() != 0.)[0]) / len(target_bin.flatten()))"
   ]
  },
  {
   "cell_type": "markdown",
   "metadata": {},
   "source": [
    "# Testing custom loss functions"
   ]
  },
  {
   "cell_type": "code",
   "execution_count": null,
   "metadata": {},
   "outputs": [],
   "source": [
    "from keras import backend as K\n",
    "from keras import losses\n",
    "\n",
    "def custom_loss(y_true, y_pred):\n",
    "    loss = losses.mean_squared_error(y_true, y_pred)\n",
    "    pdb.set_trace()\n",
    "    return K.switch(K.flatten(K.equal(y_true, 0.)), K.zeros_like(loss), loss)"
   ]
  },
  {
   "cell_type": "code",
   "execution_count": null,
   "metadata": {},
   "outputs": [],
   "source": [
    "from keras import models\n",
    "from keras import layers\n",
    "\n",
    "model = models.Sequential()\n",
    "model.add(layers.Dense(1, input_shape=(1,)))\n",
    "\n",
    "model.compile(loss=custom_loss, optimizer='adam')\n",
    "\n",
    "weights, bias = model.layers[0].get_weights()\n",
    "\n",
    "x = np.array([1, 2, 3])\n",
    "y = np.array([0, 0, 0])\n",
    "\n",
    "model.train_on_batch(x, y)"
   ]
  },
  {
   "cell_type": "code",
   "execution_count": null,
   "metadata": {},
   "outputs": [],
   "source": [
    " tf.keras.losses.mean_squared_error(tf.ones((2, 2,)), tf.zeros((2, 2)))"
   ]
  },
  {
   "cell_type": "code",
   "execution_count": null,
   "metadata": {},
   "outputs": [],
   "source": [
    "K.equal(x, 0)"
   ]
  },
  {
   "cell_type": "code",
   "execution_count": null,
   "metadata": {},
   "outputs": [],
   "source": []
  }
 ],
 "metadata": {
  "kernelspec": {
   "display_name": "Python 3",
   "language": "python",
   "name": "python3"
  },
  "language_info": {
   "codemirror_mode": {
    "name": "ipython",
    "version": 3
   },
   "file_extension": ".py",
   "mimetype": "text/x-python",
   "name": "python",
   "nbconvert_exporter": "python",
   "pygments_lexer": "ipython3",
   "version": "3.6.10"
  }
 },
 "nbformat": 4,
 "nbformat_minor": 4
}
